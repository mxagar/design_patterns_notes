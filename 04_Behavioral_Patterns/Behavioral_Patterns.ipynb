{
 "cells": [
  {
   "cell_type": "markdown",
   "metadata": {},
   "source": [
    "# Behavioral Design Patterns"
   ]
  },
  {
   "cell_type": "markdown",
   "metadata": {},
   "source": [
    "\n",
    "Behavioral patterns don't really follow any central theme:\n",
    "\n",
    "- They are all different.\n",
    "- Sometimes they overlap in their function, i.e., the goal they achieve, but the underlying mechanisms are different.\n",
    "\n",
    "Table of contents:\n",
    "\n",
    "- [Chain of Responsibility](#chain-of-responsibility)\n",
    "  - Example: Support\n",
    "  - Example: Card Game\n",
    "  - Example: Broker and Queries\n",
    "- [Command](#Command)\n",
    "  - Example: Bank Account with Undo\n",
    "  - Example: Bank Account with Composite Command = Macro\n",
    "- [Interpreter](#Interpreter)\n",
    "- [Iterator](#Iterator)\n",
    "- [Mediator](#Mediator)\n",
    "  - Example: Chatroom\n",
    "  - Example: Game with Events\n",
    "- [Memento](#Memento)\n",
    "  - Example: Bank Account\n",
    "  - Example: Bank Account with Undo and Redo\n",
    "- [Observer](#Observer)\n",
    "  - Events\n",
    "  - Property Observers\n",
    "  - Property Dependencies\n",
    "- [State (Machine)](#state-machine)\n",
    "  - Handmade State Machine\n",
    "  - Switch-Based State Machine\n",
    "- [Strategy](#Strategy)\n",
    "  - Example: Text Processor\n",
    "- [Template Method](#Template-Method)\n",
    "  - Example: Chess Game\n",
    "- [Visitor](#Visitor)"
   ]
  },
  {
   "cell_type": "markdown",
   "metadata": {},
   "source": [
    "## Chain of Responsibility"
   ]
  },
  {
   "cell_type": "markdown",
   "metadata": {},
   "source": [
    "Software components are often built with hierarchical relationships. Those relationships can capture resposibility, similarly as it can happen in a company (CEO, manager, employee). The pattern Chain of Responsibility is a chain of components in which all get a change to process a command or a query, optionally having a default processing implementation and an ability to terminate the processing chain.\n",
    "\n",
    "In other words, Chain of Responsibility allows an object to pass a request along a chain of potential handlers until the request is handled. This pattern decouples the sender of the request from the receiver by giving multiple objects a chance to handle the request.\n",
    " \n",
    "For example:\n",
    "\n",
    "- In a GUI, we click a graphical element on a form\n",
    "  - The button handles the action, which leads to stopping the processing\n",
    "  - Or the underlying group box can handle it\n",
    "  - Or the underlying window can handle it\n",
    "- A card computer game\n",
    "  - A creature has attack and defense skills\n",
    "  - Thos skills can be boosted by other card creatures\n",
    "- Support\n",
    "  - We can have first-level or basic support\n",
    "  - Or second-level = advanced support\n",
    "  - Or third-level = expert support\n",
    "\n",
    "Some key components that often appear in Chain of Responsibility are:\n",
    "\n",
    "- **Handler**: Defines an interface for handling requests and for setting the next handler in the chain.\n",
    "- **ConcreteHandler**: Implements the Handler interface and processes requests it is responsible for. If it can't handle the request, it forwards the request to the next handler in the chain.\n",
    "- **Client**: Initiates the request and passes it to the first handler in the chain.\n",
    "\n",
    "**Command and Query Separation (CQS)**: Whenever we operate on objects, we separate all the invokations into two types:\n",
    "\n",
    "- Command: invokation which asks for an action or a change; e.g., set value to X.\n",
    "- Query: ask/retrieve information without changing anything, e.g., get value of X.\n",
    "\n",
    "Separating both Commands and Queries is known as the Command and Query Separation (CQS) Principle. It is a design priciple with some benefits:\n",
    "\n",
    "- Clarity: Separating commands and queries makes it clear which methods are performing actions and which are retrieving information.\n",
    "- Simpler Testing: Queries are easier to test because they are idempotent and do not change the state.\n",
    "- Improved Maintainability: Clear separation of responsibilities makes the code easier to understand and maintain."
   ]
  },
  {
   "cell_type": "markdown",
   "metadata": {},
   "source": [
    "### Example: Support Chain"
   ]
  },
  {
   "cell_type": "code",
   "execution_count": 1,
   "metadata": {},
   "outputs": [],
   "source": [
    "# Abstract Handler:\n",
    "# Defines an interface for handling requests \n",
    "# and for setting the next handler in the chain.\n",
    "# SupportHandler will be inherited by concrete handlers!\n",
    "class SupportHandler:\n",
    "    def __init__(self):\n",
    "        # The next_handler is a pointer to the next handler\n",
    "        # which is set with set_next_handler\n",
    "        # when setting the Chain of Responsibility\n",
    "        self.next_handler = None\n",
    "\n",
    "    # This method is used to set the\n",
    "    # Chain of Responsibility\n",
    "    def set_next_handler(self, handler):\n",
    "        self.next_handler = handler\n",
    "\n",
    "    # This handle_request method is called by the concrete\n",
    "    # class/object if the type of issue to handle \n",
    "    # does not belong to the type of the concrete handler\n",
    "    def handle_request(self, issue):\n",
    "        if self.next_handler:\n",
    "            return self.next_handler.handle_request(issue)\n",
    "        else:\n",
    "            return \"No handler available for this issue\""
   ]
  },
  {
   "cell_type": "code",
   "execution_count": 2,
   "metadata": {},
   "outputs": [],
   "source": [
    "# Concrete Handlers:\n",
    "# They implement the Handler interface \n",
    "# and processes requests it is responsible for. \n",
    "# If they can't handle the request, \n",
    "# they forward the request to the next handler in the chain.\n",
    "class BasicSupport(SupportHandler):\n",
    "    def handle_request(self, issue):\n",
    "        if issue == \"basic\":\n",
    "            return \"BasicSupport: Handling basic issue\"\n",
    "        else:\n",
    "            # We call the abstract handler\n",
    "            # which calls the next handler\n",
    "            # in the Chain of Responsibility\n",
    "            return super().handle_request(issue)\n",
    "\n",
    "class AdvancedSupport(SupportHandler):\n",
    "    def handle_request(self, issue):\n",
    "        if issue == \"advanced\":\n",
    "            return \"AdvancedSupport: Handling advanced issue\"\n",
    "        else:\n",
    "            return super().handle_request(issue)\n",
    "\n",
    "class ExpertSupport(SupportHandler):\n",
    "    def handle_request(self, issue):\n",
    "        if issue == \"expert\":\n",
    "            return \"ExpertSupport: Handling expert issue\"\n",
    "        else:\n",
    "            return super().handle_request(issue)\n"
   ]
  },
  {
   "cell_type": "code",
   "execution_count": 3,
   "metadata": {},
   "outputs": [
    {
     "name": "stdout",
     "output_type": "stream",
     "text": [
      "Issue: basic - Response: BasicSupport: Handling basic issue\n",
      "Issue: advanced - Response: AdvancedSupport: Handling advanced issue\n",
      "Issue: expert - Response: ExpertSupport: Handling expert issue\n",
      "Issue: unknown - Response: No handler available for this issue\n"
     ]
    }
   ],
   "source": [
    "# __main__: Client\n",
    "# Initiates the request and passes it \n",
    "# to the first handler in the chain.\n",
    "\n",
    "# Create handlers\n",
    "basic = BasicSupport()\n",
    "advanced = AdvancedSupport()\n",
    "expert = ExpertSupport()\n",
    "\n",
    "# Set up Chain of Responsibility\n",
    "# Basic -> Advanced -> Expert\n",
    "basic.set_next_handler(advanced)\n",
    "advanced.set_next_handler(expert)\n",
    "\n",
    "# Client issues\n",
    "# In this simple example, \n",
    "# each issue is a string that specifies the type of issue,\n",
    "# i.e., we use it to decide which handler should process it\n",
    "issues = [\"basic\", \"advanced\", \"expert\", \"unknown\"]\n",
    "\n",
    "for issue in issues:\n",
    "    print(f\"Issue: {issue} - Response: {basic.handle_request(issue)}\")\n",
    "# Issue: basic - Response: BasicSupport: Handling basic issue\n",
    "# Issue: advanced - Response: AdvancedSupport: Handling advanced issue\n",
    "# Issue: expert - Response: ExpertSupport: Handling expert issue\n",
    "# Issue: unknown - Response: No handler available for this issue\n"
   ]
  },
  {
   "cell_type": "markdown",
   "metadata": {},
   "source": [
    "### Example: Card Chain"
   ]
  },
  {
   "cell_type": "markdown",
   "metadata": {},
   "source": [
    "Example with card computer game. This example is similar but different to the previous one:\n",
    "\n",
    "- In the Support example we took and issue and passed it to the Chain of Responsibility until the correct concrete handler is found.\n",
    "- In this Card Game example, we create a chain of Creature modifiers, i.e., abilities, contained in a root modifier. Then, when we want to use the root, all modifiers are used and each calls to the next in the chain, except when a specific modifier with that function prevents it from propagating."
   ]
  },
  {
   "cell_type": "code",
   "execution_count": 4,
   "metadata": {},
   "outputs": [],
   "source": [
    "# Our Card-Creature\n",
    "class Creature:\n",
    "    def __init__(self, name, attack, defense):\n",
    "        self.defense = defense\n",
    "        self.attack = attack\n",
    "        self.name = name\n",
    "\n",
    "    def __str__(self):\n",
    "        return f'{self.name} ({self.attack}/{self.defense})'\n",
    "\n",
    "# A Creature-Card can be modified: \n",
    "# it collects/looses skills or objects: sword, poison, etc.\n",
    "# This is where we define our Chain of Responsibility,\n",
    "# it is our Abstract Modifier.\n",
    "# We will inherit this base class to Concrete Modifiers.\n",
    "class CreatureModifier:\n",
    "    def __init__(self, creature):\n",
    "        self.creature = creature\n",
    "        self.next_modifier = None\n",
    "\n",
    "    def add_modifier(self, modifier):\n",
    "        if self.next_modifier:\n",
    "            self.next_modifier.add_modifier(modifier)\n",
    "        else:\n",
    "            self.next_modifier = modifier\n",
    "\n",
    "    # Here is where we apply the Chain of Responsibility\n",
    "    # This handle() is called from the derived class objects\n",
    "    def handle(self):\n",
    "        if self.next_modifier:\n",
    "            self.next_modifier.handle()\n",
    "\n",
    "# Concrete Modifier\n",
    "# Here, we define the concrete handle() methods\n",
    "class DoubleAttackModifier(CreatureModifier):\n",
    "    def handle(self):\n",
    "        print(f'Doubling {self.creature.name}''s attack')\n",
    "        self.creature.attack *= 2\n",
    "        super().handle()\n",
    "\n",
    "\n",
    "class IncreaseDefenseModifier(CreatureModifier):\n",
    "    def handle(self):\n",
    "        if self.creature.attack <= 2:\n",
    "            print(f'Increasing {self.creature.name}''s defense')\n",
    "            self.creature.defense += 1\n",
    "        super().handle()\n",
    "\n",
    "    \n",
    "class NoBonusesModifier(CreatureModifier):\n",
    "    def handle(self):\n",
    "        print('No bonuses for you!')\n",
    "        # Note that no super().handle() is called\n",
    "        # That means we don't keep applying the Chain of Responsibility"
   ]
  },
  {
   "cell_type": "code",
   "execution_count": 5,
   "metadata": {},
   "outputs": [
    {
     "name": "stdout",
     "output_type": "stream",
     "text": [
      "Goblin (1/1)\n",
      "No bonuses for you!\n",
      "Goblin (1/1)\n"
     ]
    }
   ],
   "source": [
    "# __main__\n",
    "goblin = Creature('Goblin', 1, 1)\n",
    "print(goblin)\n",
    "\n",
    "# Abstract Handler: the root\n",
    "root = CreatureModifier(goblin)\n",
    "\n",
    "# Chain of Responsibility\n",
    "root.add_modifier(NoBonusesModifier(goblin))\n",
    "root.add_modifier(DoubleAttackModifier(goblin))\n",
    "root.add_modifier(DoubleAttackModifier(goblin))\n",
    "\n",
    "# Add another modifier - no effect\n",
    "root.add_modifier(IncreaseDefenseModifier(goblin))\n",
    "\n",
    "root.handle()  # apply modifiers\n",
    "print(goblin)"
   ]
  },
  {
   "cell_type": "markdown",
   "metadata": {},
   "source": [
    "### Example: Broker and Queries"
   ]
  },
  {
   "cell_type": "code",
   "execution_count": 6,
   "metadata": {},
   "outputs": [],
   "source": [
    "from abc import ABC\n",
    "from enum import Enum\n",
    "\n",
    "# List of functions we can call\n",
    "class Event(list):\n",
    "    def __call__(self, *args, **kwargs):\n",
    "        for item in self:\n",
    "            item(*args, **kwargs)\n",
    "\n",
    "\n",
    "class WhatToQuery(Enum):\n",
    "    ATTACK = 1\n",
    "    DEFENSE = 2\n",
    "\n",
    "\n",
    "class Query:\n",
    "    def __init__(self, creature_name, what_to_query, default_value):\n",
    "        self.value = default_value  # bidirectional\n",
    "        self.what_to_query = what_to_query\n",
    "        self.creature_name = creature_name\n",
    "\n",
    "# Broker\n",
    "class Game:\n",
    "    def __init__(self):\n",
    "        self.queries = Event()\n",
    "\n",
    "    def perform_query(self, sender, query):\n",
    "        self.queries(sender, query)\n",
    "\n",
    "\n",
    "class Creature:\n",
    "    def __init__(self, game, name, attack, defense):\n",
    "        self.initial_defense = defense\n",
    "        self.initial_attack = attack\n",
    "        self.name = name\n",
    "        self.game = game\n",
    "\n",
    "    @property\n",
    "    def attack(self):\n",
    "        q = Query(self.name, WhatToQuery.ATTACK, self.initial_attack)\n",
    "        self.game.perform_query(self, q)\n",
    "        return q.value\n",
    "\n",
    "    @property\n",
    "    def defense(self):\n",
    "        q = Query(self.name, WhatToQuery.DEFENSE, self.initial_attack)\n",
    "        self.game.perform_query(self, q)\n",
    "        return q.value\n",
    "\n",
    "    def __str__(self):\n",
    "        return f'{self.name} ({self.attack}/{self.defense})'\n",
    "\n",
    "\n",
    "class CreatureModifier(ABC):\n",
    "    def __init__(self, game, creature):\n",
    "        self.creature = creature\n",
    "        self.game = game\n",
    "        self.game.queries.append(self.handle)\n",
    "\n",
    "    def handle(self, sender, query):\n",
    "        pass\n",
    "\n",
    "    def __enter__(self):\n",
    "        return self\n",
    "\n",
    "    def __exit__(self, exc_type, exc_val, exc_tb):\n",
    "        self.game.queries.remove(self.handle)\n",
    "\n",
    "\n",
    "class DoubleAttackModifier(CreatureModifier):\n",
    "\n",
    "    def handle(self, sender, query):\n",
    "        if (sender.name == self.creature.name and\n",
    "                query.what_to_query == WhatToQuery.ATTACK):\n",
    "            query.value *= 2\n",
    "\n",
    "\n",
    "class IncreaseDefenseModifier(CreatureModifier):\n",
    "\n",
    "    def handle(self, sender, query):\n",
    "        if (sender.name == self.creature.name and\n",
    "                query.what_to_query == WhatToQuery.DEFENSE):\n",
    "            query.value += 3\n"
   ]
  },
  {
   "cell_type": "code",
   "execution_count": 7,
   "metadata": {},
   "outputs": [
    {
     "name": "stdout",
     "output_type": "stream",
     "text": [
      "Strong Goblin (2/2)\n",
      "Strong Goblin (4/2)\n",
      "Strong Goblin (4/5)\n",
      "Strong Goblin (2/2)\n"
     ]
    }
   ],
   "source": [
    "# __main__\n",
    "game = Game()\n",
    "goblin = Creature(game, 'Strong Goblin', 2, 2)\n",
    "print(goblin)\n",
    "\n",
    "with DoubleAttackModifier(game, goblin):\n",
    "    print(goblin)\n",
    "    with IncreaseDefenseModifier(game, goblin):\n",
    "        print(goblin)\n",
    "\n",
    "print(goblin)"
   ]
  },
  {
   "cell_type": "markdown",
   "metadata": {},
   "source": [
    "### Command"
   ]
  },
  {
   "cell_type": "markdown",
   "metadata": {},
   "source": [
    "A Command is an object which represents an instruction to perform a particular action; it contains all the information necessary for the action to be taken."
   ]
  },
  {
   "cell_type": "markdown",
   "metadata": {},
   "source": [
    "- Ordinary statements are perishable:\n",
    "  - They cannot undo member assignment:\n",
    "  - They cannot directly serialize a sequence of actions (calls).\n",
    "- We want an object that represents an operation.\n",
    "  - Example: `person` should change its `age` to value `22`; the operation not only happens, but it is recoded it happened, along with who ordered it.\n",
    "  - Example: `car` should `start()`.\n",
    "- There are many uses for Commands: GUI commands, multi-level undo/redo, macro recording, and more!"
   ]
  },
  {
   "cell_type": "markdown",
   "metadata": {},
   "source": [
    "### Example: Bank Account with Undo"
   ]
  },
  {
   "cell_type": "code",
   "execution_count": 8,
   "metadata": {},
   "outputs": [],
   "source": [
    "from abc import ABC, abstractmethod\n",
    "from enum import Enum\n",
    "\n",
    "# Bank account class\n",
    "# This class works nicely\n",
    "# but we'd like to add the undo option\n",
    "# for the opreations described in it.\n",
    "# We can do that with a ledger/record.\n",
    "# We can do that with a Command, too.\n",
    "class BankAccount:\n",
    "    OVERDRAFT_LIMIT = -500\n",
    "\n",
    "    def __init__(self, balance=0):\n",
    "        self.balance = balance\n",
    "\n",
    "    def deposit(self, amount):\n",
    "        self.balance += amount\n",
    "        print(f'Deposited {amount}, balance = {self.balance}')\n",
    "\n",
    "    def withdraw(self, amount):\n",
    "        if self.balance - amount >= BankAccount.OVERDRAFT_LIMIT:\n",
    "            self.balance -= amount\n",
    "            print(f'Withdrew {amount}, balance = {self.balance}')\n",
    "            # We need to return if it succeeded to avoid illegal operations\n",
    "            return True\n",
    "        return False\n",
    "\n",
    "    def __str__(self):\n",
    "        return f'Balance = {self.balance}'\n",
    "\n",
    "\n",
    "# Optional, not necessary, but good pratice\n",
    "class Command(ABC):\n",
    "    # We could also use __call__, but invoke is more explicit\n",
    "    @abstractmethod\n",
    "    def invoke(self):\n",
    "        pass\n",
    "\n",
    "    @abstractmethod\n",
    "    def undo(self):\n",
    "        pass\n",
    "\n",
    "\n",
    "# This Command class is a wrapper for the BankAccount\n",
    "# which adds the Command functionality.\n",
    "# The action on the BankAccount is not performed instantaneously\n",
    "# but when we invoke() it.\n",
    "# Additionally, we can undo the action.\n",
    "class BankAccountCommand(Command):\n",
    "    def __init__(self, account, action, amount):\n",
    "        self.amount = amount\n",
    "        self.action = action\n",
    "        self.account = account\n",
    "        self.success = None\n",
    "\n",
    "    class Action(Enum):\n",
    "        DEPOSIT = 0\n",
    "        WITHDRAW = 1\n",
    "\n",
    "    def invoke(self):\n",
    "        if self.action == self.Action.DEPOSIT:\n",
    "            self.account.deposit(self.amount)\n",
    "            self.success = True\n",
    "        elif self.action == self.Action.WITHDRAW:\n",
    "            self.success = self.account.withdraw(self.amount)\n",
    "\n",
    "    def undo(self):\n",
    "        # To avoid illegal operations:\n",
    "        # if the operation wasn't successful, don't allow undo\n",
    "        if not self.success:\n",
    "            return\n",
    "        # Strictly speaking this is not correct\n",
    "        # (you don't undo a deposit by withdrawing)\n",
    "        # but it works for this demo, so...\n",
    "        if self.action == self.Action.DEPOSIT:\n",
    "            self.account.withdraw(self.amount)\n",
    "        elif self.action == self.Action.WITHDRAW:\n",
    "            self.account.deposit(self.amount)"
   ]
  },
  {
   "cell_type": "code",
   "execution_count": 9,
   "metadata": {},
   "outputs": [
    {
     "name": "stdout",
     "output_type": "stream",
     "text": [
      "Deposited 100, balance = 100\n",
      "After $100 deposit: Balance = 100\n",
      "Withdrew 100, balance = 0\n",
      "$100 deposit undone: Balance = 0\n",
      "After impossible withdrawal: Balance = 0\n",
      "After undo: Balance = 0\n"
     ]
    }
   ],
   "source": [
    "# __main__\n",
    "ba = BankAccount()\n",
    "cmd = BankAccountCommand(ba, BankAccountCommand.Action.DEPOSIT, 100)\n",
    "cmd.invoke()\n",
    "print('After $100 deposit:', ba)\n",
    "\n",
    "cmd.undo()\n",
    "print('$100 deposit undone:', ba)\n",
    "\n",
    "illegal_cmd = BankAccountCommand(ba, BankAccountCommand.Action.WITHDRAW, 1000)\n",
    "illegal_cmd.invoke()\n",
    "print('After impossible withdrawal:', ba)\n",
    "illegal_cmd.undo()\n",
    "print('After undo:', ba)"
   ]
  },
  {
   "cell_type": "markdown",
   "metadata": {},
   "source": [
    "### Example: Bank Account with Composite Command = Macro"
   ]
  },
  {
   "cell_type": "markdown",
   "metadata": {},
   "source": [
    "This example extends the previous one by adding a Composite construct, which simultaneously represents one Command and a Collection of Commands. That allows transferring money between different bank accounts easily. A Composite Commands is also known as Macro."
   ]
  },
  {
   "cell_type": "code",
   "execution_count": 10,
   "metadata": {},
   "outputs": [],
   "source": [
    "import unittest\n",
    "from abc import ABC, abstractmethod\n",
    "from enum import Enum\n",
    "\n",
    "\n",
    "class BankAccount:\n",
    "    OVERDRAFT_LIMIT = -500\n",
    "\n",
    "    def __init__(self, balance=0):\n",
    "        self.balance = balance\n",
    "\n",
    "    def deposit(self, amount):\n",
    "        self.balance += amount\n",
    "        print(f'Deposited {amount}, balance = {self.balance}')\n",
    "\n",
    "    def withdraw(self, amount):\n",
    "        if self.balance - amount >= BankAccount.OVERDRAFT_LIMIT:\n",
    "            self.balance -= amount\n",
    "            print(f'Withdrew {amount}, balance = {self.balance}')\n",
    "            return True\n",
    "        return False\n",
    "\n",
    "    def __str__(self):\n",
    "        return f'Balance = {self.balance}'\n",
    "\n",
    "\n",
    "class Command(ABC):\n",
    "    def __init__(self):\n",
    "        self.success = False\n",
    "\n",
    "    def invoke(self):\n",
    "        pass\n",
    "\n",
    "    def undo(self):\n",
    "        pass\n",
    "\n",
    "\n",
    "class BankAccountCommand(Command):\n",
    "    def __init__(self, account, action, amount):\n",
    "        super().__init__()\n",
    "        self.amount = amount\n",
    "        self.action = action\n",
    "        self.account = account\n",
    "\n",
    "    class Action(Enum):\n",
    "        DEPOSIT = 0\n",
    "        WITHDRAW = 1\n",
    "\n",
    "    def invoke(self):\n",
    "        if self.action == self.Action.DEPOSIT:\n",
    "            self.account.deposit(self.amount)\n",
    "            self.success = True\n",
    "        elif self.action == self.Action.WITHDRAW:\n",
    "            self.success = self.account.withdraw(self.amount)\n",
    "\n",
    "    def undo(self):\n",
    "        if not self.success:\n",
    "            return\n",
    "        # Strictly speaking this is not correct\n",
    "        # (you don't undo a deposit by withdrawing)\n",
    "        # but it works for this demo, so...\n",
    "        if self.action == self.Action.DEPOSIT:\n",
    "            self.account.withdraw(self.amount)\n",
    "        elif self.action == self.Action.WITHDRAW:\n",
    "            self.account.deposit(self.amount)"
   ]
  },
  {
   "cell_type": "code",
   "execution_count": 11,
   "metadata": {},
   "outputs": [],
   "source": [
    "# Try using this before using MoneyTransferCommand!\n",
    "# This is a Composite: both the Command\n",
    "# and a collection of commands are represented\n",
    "class CompositeBankAccountCommand(Command, list):\n",
    "    def __init__(self, items=[]):\n",
    "        super().__init__()\n",
    "        for i in items:\n",
    "            self.append(i)\n",
    "\n",
    "    def invoke(self):\n",
    "        for x in self:\n",
    "            x.invoke()\n",
    "\n",
    "    def undo(self):\n",
    "        for x in reversed(self):\n",
    "            x.undo()\n",
    "\n",
    "\n",
    "# This class solves the problem from the previous one\n",
    "\n",
    "class MoneyTransferCommand(CompositeBankAccountCommand):\n",
    "    def __init__(self, from_acct, to_acct, amount):\n",
    "        super().__init__([\n",
    "            BankAccountCommand(from_acct,\n",
    "                               BankAccountCommand.Action.WITHDRAW,\n",
    "                               amount),\n",
    "            BankAccountCommand(to_acct,\n",
    "                               BankAccountCommand.Action.DEPOSIT,\n",
    "                               amount)])\n",
    "\n",
    "    def invoke(self):\n",
    "        ok = True\n",
    "        for cmd in self:\n",
    "            if ok:\n",
    "                cmd.invoke()\n",
    "                ok = cmd.success\n",
    "            else:\n",
    "                cmd.success = False\n",
    "        self.success = ok\n"
   ]
  },
  {
   "cell_type": "code",
   "execution_count": 12,
   "metadata": {},
   "outputs": [],
   "source": [
    "class TestSuite(unittest.TestCase):\n",
    "    def test_composite_deposit(self):\n",
    "        ba = BankAccount()\n",
    "        deposit1 = BankAccountCommand(ba, BankAccountCommand.Action.DEPOSIT, 1000)\n",
    "        deposit2 = BankAccountCommand(ba, BankAccountCommand.Action.DEPOSIT, 1000)\n",
    "        composite = CompositeBankAccountCommand([deposit1, deposit2])\n",
    "        composite.invoke()\n",
    "        print(ba)\n",
    "        composite.undo()\n",
    "        print(ba)\n",
    "\n",
    "    def test_transfer_fail(self):\n",
    "        ba1 = BankAccount(100)\n",
    "        ba2 = BankAccount()\n",
    "\n",
    "        # composite isn't so good because of failure\n",
    "        amount = 1000  # try 1000: no transactions should happen\n",
    "        wc = BankAccountCommand(ba1, BankAccountCommand.Action.WITHDRAW, amount)\n",
    "        dc = BankAccountCommand(ba2, BankAccountCommand.Action.DEPOSIT, amount)\n",
    "\n",
    "        transfer = CompositeBankAccountCommand([wc, dc])\n",
    "\n",
    "        transfer.invoke()\n",
    "        print('ba1:', ba1, 'ba2:', ba2)  # end up in incorrect state\n",
    "        transfer.undo()\n",
    "        print('ba1:', ba1, 'ba2:', ba2)\n",
    "\n",
    "    def test_better_tranfer(self):\n",
    "        ba1 = BankAccount(100)\n",
    "        ba2 = BankAccount()\n",
    "\n",
    "        amount = 1000\n",
    "\n",
    "        transfer = MoneyTransferCommand(ba1, ba2, amount)\n",
    "        transfer.invoke()\n",
    "        print('ba1:', ba1, 'ba2:', ba2)\n",
    "        transfer.undo()\n",
    "        print('ba1:', ba1, 'ba2:', ba2)\n",
    "        print(transfer.success)"
   ]
  },
  {
   "cell_type": "code",
   "execution_count": 13,
   "metadata": {},
   "outputs": [
    {
     "name": "stderr",
     "output_type": "stream",
     "text": [
      "..."
     ]
    },
    {
     "name": "stdout",
     "output_type": "stream",
     "text": [
      "ba1: Balance = 100 ba2: Balance = 0\n",
      "ba1: Balance = 100 ba2: Balance = 0\n",
      "False\n",
      "Deposited 1000, balance = 1000\n",
      "Deposited 1000, balance = 2000\n",
      "Balance = 2000\n",
      "Withdrew 1000, balance = 1000\n",
      "Withdrew 1000, balance = 0\n",
      "Balance = 0\n",
      "Deposited 1000, balance = 1000\n",
      "ba1: Balance = 100 ba2: Balance = 1000\n",
      "Withdrew 1000, balance = 0\n",
      "ba1: Balance = 100 ba2: Balance = 0\n"
     ]
    },
    {
     "name": "stderr",
     "output_type": "stream",
     "text": [
      "\n",
      "----------------------------------------------------------------------\n",
      "Ran 3 tests in 0.002s\n",
      "\n",
      "OK\n"
     ]
    },
    {
     "data": {
      "text/plain": [
       "<unittest.main.TestProgram at 0x203718c1f10>"
      ]
     },
     "execution_count": 13,
     "metadata": {},
     "output_type": "execute_result"
    }
   ],
   "source": [
    "# __main__\n",
    "unittest.main(argv=['first-arg-is-ignored'], exit=False)"
   ]
  },
  {
   "cell_type": "markdown",
   "metadata": {},
   "source": [
    "## Interpreter"
   ]
  },
  {
   "cell_type": "markdown",
   "metadata": {},
   "source": [
    "The Interpreter is related to the processing that text requires to interpret what to do with it:\n",
    "\n",
    "- Textual input needs to be processed; e.g., code turned in to OOP structures (compilers).\n",
    "- Some examples:\n",
    "  - Programming language compilers, interpreters and IDEs.\n",
    "  - HTML, XML, and similar\n",
    "  - Numeric expressions (`3 + 4/5`)\n",
    "  - Regular expressions\n",
    "\n",
    "Often, the processing is done to obtain structured meaning. To that end:\n",
    "\n",
    "- We separate it into lexical tokens (*lexing*)\n",
    "- and then interpret the resulting sequences (*parsing*)."
   ]
  },
  {
   "cell_type": "markdown",
   "metadata": {},
   "source": [
    "In the following an example numeric expressions with `+` and `-` operations are processed with an interpreter."
   ]
  },
  {
   "cell_type": "markdown",
   "metadata": {},
   "source": [
    "### Lexing"
   ]
  },
  {
   "cell_type": "markdown",
   "metadata": {},
   "source": [
    "In this section, we separate the input string into a sequence of known tokens. That's called *lexing*."
   ]
  },
  {
   "cell_type": "code",
   "execution_count": 14,
   "metadata": {},
   "outputs": [],
   "source": [
    "from enum import Enum, auto\n",
    "\n",
    "\n",
    "class Token:\n",
    "    # Class-level enum\n",
    "    class Type(Enum):\n",
    "        INTEGER = auto()\n",
    "        PLUS = auto()\n",
    "        MINUS = auto()\n",
    "        LPAREN = auto() # (\n",
    "        RPAREN = auto() # )\n",
    "\n",
    "    def __init__(self, type, text):\n",
    "        self.type = type\n",
    "        self.text = text\n",
    "\n",
    "    def __str__(self):\n",
    "        return f'`{self.text}`'\n",
    "\n",
    "\n",
    "# Lexing\n",
    "def lex(input):\n",
    "    result = []\n",
    "\n",
    "    i = 0\n",
    "    while i < len(input):\n",
    "        if input[i] == '+':\n",
    "            result.append(Token(Token.Type.PLUS, '+'))\n",
    "        elif input[i] == '-':\n",
    "            result.append(Token(Token.Type.MINUS, '-'))\n",
    "        elif input[i] == '(':\n",
    "            result.append(Token(Token.Type.LPAREN, '('))\n",
    "        elif input[i] == ')':\n",
    "            result.append(Token(Token.Type.RPAREN, ')'))\n",
    "        else:  # must be a number\n",
    "            digits = [input[i]]\n",
    "            for j in range(i + 1, len(input)):\n",
    "                if input[j].isdigit():\n",
    "                    digits.append(input[j])\n",
    "                    i += 1\n",
    "                else:\n",
    "                    result.append(Token(Token.Type.INTEGER,\n",
    "                                        ''.join(digits)))\n",
    "                    break\n",
    "        i += 1\n",
    "\n",
    "    return result"
   ]
  },
  {
   "cell_type": "markdown",
   "metadata": {},
   "source": [
    "### Parsing"
   ]
  },
  {
   "cell_type": "markdown",
   "metadata": {},
   "source": [
    "In this section, we take the sequence of tokens and interpret their meaning, aka. *parsing*."
   ]
  },
  {
   "cell_type": "code",
   "execution_count": 15,
   "metadata": {},
   "outputs": [],
   "source": [
    "class Integer:\n",
    "    def __init__(self, value):\n",
    "        self.value = value\n",
    "\n",
    "\n",
    "class BinaryOperation:\n",
    "    class Type(Enum):\n",
    "        ADDITION = 0\n",
    "        SUBTRACTION = 1\n",
    "\n",
    "    def __init__(self):\n",
    "        self.type = None\n",
    "        self.left = None\n",
    "        self.right = None\n",
    "\n",
    "    @property\n",
    "    def value(self):\n",
    "        if self.type == self.Type.ADDITION:\n",
    "            return self.left.value + self.right.value\n",
    "        elif self.type == self.Type.SUBTRACTION:\n",
    "            return self.left.value - self.right.value\n",
    "\n",
    "\n",
    "def parse(tokens):\n",
    "    result = BinaryOperation()\n",
    "    have_lhs = False # left-hand-side\n",
    "    i = 0\n",
    "    while i < len(tokens):\n",
    "        token = tokens[i]\n",
    "\n",
    "        if token.type == Token.Type.INTEGER:\n",
    "            integer = Integer(int(token.text))\n",
    "            if not have_lhs:\n",
    "                result.left = integer\n",
    "                have_lhs = True\n",
    "            else:\n",
    "                result.right = integer\n",
    "        elif token.type == Token.Type.PLUS:\n",
    "            result.type = BinaryOperation.Type.ADDITION\n",
    "        elif token.type == Token.Type.MINUS:\n",
    "            result.type = BinaryOperation.Type.SUBTRACTION\n",
    "        elif token.type == Token.Type.LPAREN:  # note: no if for RPAREN\n",
    "            j = i\n",
    "            while j < len(tokens):\n",
    "                if tokens[j].type == Token.Type.RPAREN:\n",
    "                    break\n",
    "                j += 1\n",
    "            # preprocess subexpression\n",
    "            subexpression = tokens[i + 1:j]\n",
    "            element = parse(subexpression)\n",
    "            if not have_lhs:\n",
    "                result.left = element\n",
    "                have_lhs = True\n",
    "            else:\n",
    "                result.right = element\n",
    "            i = j  # advance\n",
    "        i += 1\n",
    "    return result"
   ]
  },
  {
   "cell_type": "code",
   "execution_count": 16,
   "metadata": {},
   "outputs": [
    {
     "name": "stdout",
     "output_type": "stream",
     "text": [
      "`(` `13` `+` `4` `)` `-` `(` `12` `+` `1` `)`\n",
      "(13+4)-(12+1) = 4\n",
      "`1` `+` `(` `3` `-` `4` `)`\n",
      "1+(3-4) = 0\n",
      "`1` `+` `2` `+` `(` `3` `-` `4` `)`\n",
      "1+2+(3-4) = 0\n"
     ]
    }
   ],
   "source": [
    "def eval(input):\n",
    "    tokens = lex(input)\n",
    "    print(' '.join(map(str, tokens)))\n",
    "\n",
    "    parsed = parse(tokens)\n",
    "    print(f'{input} = {parsed.value}')\n",
    "\n",
    "# __main__\n",
    "eval('(13+4)-(12+1)')\n",
    "eval('1+(3-4)')\n",
    "\n",
    "# this won't work\n",
    "eval('1+2+(3-4)')"
   ]
  },
  {
   "cell_type": "markdown",
   "metadata": {},
   "source": [
    "## Iterator"
   ]
  },
  {
   "cell_type": "markdown",
   "metadata": {},
   "source": [
    "- Iteration (traversal) is a core functionality of various data structures; note that some data structures (like trees) don't have a straightforward iteration process.\n",
    "- An iterator is a class that facilitates the traversal\n",
    "  - Keeps a reference to the current element.\n",
    "  - Knows how to move to a different element.\n",
    "- The iterator protocol requires:\n",
    "  - `__iter__()` to expose the iterator, which uses\n",
    "  - `__next__()` to return each of the iterated elements or\n",
    "  - `raise StopIteration` when it's done.\n",
    "- In Python, we have the keyword `token` which makes iteration very easy."
   ]
  },
  {
   "cell_type": "markdown",
   "metadata": {},
   "source": [
    "In the following, the Iterator of a Binary Tree is shown."
   ]
  },
  {
   "cell_type": "code",
   "execution_count": 17,
   "metadata": {},
   "outputs": [],
   "source": [
    "class Node:\n",
    "    def __init__(self, value, left=None, right=None):\n",
    "        self.right = right\n",
    "        self.left = left\n",
    "        self.value = value\n",
    "\n",
    "        self.parent = None\n",
    "\n",
    "        if left:\n",
    "            self.left.parent = self\n",
    "        if right:\n",
    "            self.right.parent = self\n",
    "\n",
    "    # We expose the tree/Node with __iter__\n",
    "    def __iter__(self):\n",
    "        # We use the Iterator we want here\n",
    "        return InOrderIterator(self)\n",
    "\n",
    "# Recall we can perform 3 traversals in a tree\n",
    "#       1\n",
    "#     /   \\\n",
    "#    2     3\n",
    "# in-order: 2-1-3 (we implement only this one)\n",
    "# pre-order: 1-2-3\n",
    "# post-order: 2-3-1\n",
    "class InOrderIterator:\n",
    "    def __init__(self, root):\n",
    "        self.root = self.current = root\n",
    "        self.yielded_start = False\n",
    "        while self.current.left:\n",
    "            self.current = self.current.left\n",
    "\n",
    "    # This is a tricky implementation of in-order\n",
    "    def __next__(self):\n",
    "        if not self.yielded_start:\n",
    "            self.yielded_start = True\n",
    "            return self.current\n",
    "\n",
    "        if self.current.right:\n",
    "            self.current = self.current.right\n",
    "            while self.current.left:\n",
    "                self.current = self.current.left\n",
    "            return self.current\n",
    "        else:\n",
    "            p = self.current.parent\n",
    "            while p and self.current == p.right:\n",
    "                self.current = p\n",
    "                p = p.parent\n",
    "            self.current = p\n",
    "            if self.current:\n",
    "                return self.current\n",
    "            else:\n",
    "              raise StopIteration\n",
    "\n",
    "def traverse_in_order(root):\n",
    "    # This is the usual implementation of in-order\n",
    "    # It leverages the use of yield\n",
    "    def traverse(current):\n",
    "        if current.left:\n",
    "            for left in traverse(current.left):\n",
    "                yield left\n",
    "        yield current\n",
    "        if current.right:\n",
    "            for right in traverse(current.right):\n",
    "                yield right\n",
    "    for node in traverse(root):\n",
    "        yield node"
   ]
  },
  {
   "cell_type": "code",
   "execution_count": 18,
   "metadata": {},
   "outputs": [
    {
     "name": "stdout",
     "output_type": "stream",
     "text": [
      "[2, 1, 3]\n",
      "2\n",
      "1\n",
      "3\n",
      "2\n",
      "1\n",
      "3\n"
     ]
    }
   ],
   "source": [
    "# __main__\n",
    "\n",
    "# Recall we can perform 3 traversals in a tree\n",
    "#       1\n",
    "#     /   \\\n",
    "#    2     3\n",
    "# in-order: 2-1-3 (we implement only this one)\n",
    "# pre-order: 1-2-3\n",
    "# post-order: 2-3-1\n",
    "root = Node(1,\n",
    "            Node(2),\n",
    "            Node(3))\n",
    "\n",
    "# We can iterate with iter and next\n",
    "it = iter(root)\n",
    "print([next(it).value for x in range(3)])\n",
    "\n",
    "# Or, since we have __iter__, in a loop\n",
    "for x in root:\n",
    "    print(x.value)\n",
    "\n",
    "for y in traverse_in_order(root):\n",
    "    print(y.value)"
   ]
  },
  {
   "cell_type": "markdown",
   "metadata": {},
   "source": [
    "## Mediator"
   ]
  },
  {
   "cell_type": "markdown",
   "metadata": {},
   "source": [
    "The Mediator facilitates communication between different components without them necessarily being aware of each other or having direct (reference) access to each other.\n",
    "\n",
    "- Components may go in and out of a system at any time. For instance:\n",
    "  - Chatroom participants\n",
    "  - Players in an online game\n",
    "- It makes no sense for rthem to have direct reference to one another\n",
    "  - Because those references may go dead\n",
    "- Solution: we can have them all refer to some central component that facilitates communication, i.e., the Mediator.\n",
    "  - All components in the system refer to the Mediator.\n",
    "  - The Mediator engages in bidirectional communication with its connected components.\n",
    "  - The Mediator has functions that the components can call.\n",
    "  - The components have functions that the Mediator can call.\n",
    "  - We can also work with events."
   ]
  },
  {
   "cell_type": "markdown",
   "metadata": {},
   "source": [
    "### Example: Chatroom"
   ]
  },
  {
   "cell_type": "code",
   "execution_count": 19,
   "metadata": {},
   "outputs": [],
   "source": [
    "class Person:\n",
    "    def __init__(self, name):\n",
    "        self.name = name\n",
    "        self.chat_log = []\n",
    "        self.room = None\n",
    "\n",
    "    def receive(self, sender, message):\n",
    "        s = f'{sender}: {message}'\n",
    "        print(f'[{self.name}\\'s chat session] {s}')\n",
    "        self.chat_log.append(s)\n",
    "\n",
    "    def say(self, message):\n",
    "        self.room.broadcast(self.name, message)\n",
    "\n",
    "    def private_message(self, who, message):\n",
    "        self.room.message(self.name, who, message)\n",
    "\n",
    "# This is our Mediator,\n",
    "# since it allows private and broadcasting messages\n",
    "class ChatRoom:\n",
    "    def __init__(self):\n",
    "        self.people = []\n",
    "\n",
    "    # Broadcast = message to all\n",
    "    # We should send a message to everybody\n",
    "    # except the source\n",
    "    # We traverse all users and make them receive()\n",
    "    # the message\n",
    "    def broadcast(self, source, message):\n",
    "        for p in self.people:\n",
    "            if p.name != source:\n",
    "                p.receive(source, message)\n",
    "\n",
    "    def join(self, person):\n",
    "        join_msg = f'{person.name} joins the chat'\n",
    "        self.broadcast('room', join_msg)\n",
    "        person.room = self\n",
    "        self.people.append(person)\n",
    "\n",
    "    # Message = message to one specififc person\n",
    "    # We traverse all users and make _only_\n",
    "    # the specific user receive()\n",
    "    # the message\n",
    "    def message(self, source, destination, message):\n",
    "        for p in self.people:\n",
    "            if p.name == destination:\n",
    "                p.receive(source, message)"
   ]
  },
  {
   "cell_type": "code",
   "execution_count": 20,
   "metadata": {},
   "outputs": [
    {
     "name": "stdout",
     "output_type": "stream",
     "text": [
      "[John's chat session] room: Jane joins the chat\n",
      "[Jane's chat session] John: hi room\n",
      "[John's chat session] Jane: oh, hey john\n",
      "[John's chat session] room: Simon joins the chat\n",
      "[Jane's chat session] room: Simon joins the chat\n",
      "[John's chat session] Simon: hi everyone!\n",
      "[Jane's chat session] Simon: hi everyone!\n",
      "[Simon's chat session] Jane: glad you could join us!\n"
     ]
    }
   ],
   "source": [
    "# __main__\n",
    "room = ChatRoom()\n",
    "\n",
    "john = Person('John')\n",
    "jane = Person('Jane')\n",
    "\n",
    "room.join(john)\n",
    "room.join(jane)\n",
    "\n",
    "john.say('hi room')\n",
    "jane.say('oh, hey john')\n",
    "\n",
    "simon = Person('Simon')\n",
    "room.join(simon)\n",
    "simon.say('hi everyone!')\n",
    "\n",
    "jane.private_message('Simon', 'glad you could join us!')"
   ]
  },
  {
   "cell_type": "markdown",
   "metadata": {},
   "source": [
    "### Example: Game with Events"
   ]
  },
  {
   "cell_type": "code",
   "execution_count": 21,
   "metadata": {},
   "outputs": [],
   "source": [
    "class Event(list):\n",
    "    def __call__(self, *args, **kwargs):\n",
    "        for item in self:\n",
    "            item(*args, **kwargs)\n",
    "\n",
    "# This is our Mediator:\n",
    "# centrally available component that makes\n",
    "# possible the communication between entities\n",
    "class Game:\n",
    "    def __init__(self):\n",
    "        self.events = Event()\n",
    "\n",
    "    def fire(self, args):\n",
    "        self.events(args)\n",
    "\n",
    "\n",
    "class GoalScoredInfo:\n",
    "    def __init__(self, who_scored, goals_scored):\n",
    "        self.goals_scored = goals_scored\n",
    "        self.who_scored = who_scored\n",
    "\n",
    "\n",
    "class Player:\n",
    "    def __init__(self, name, game):\n",
    "        self.name = name\n",
    "        self.game = game\n",
    "        self.goals_scored = 0\n",
    "\n",
    "    def score(self):\n",
    "        self.goals_scored += 1\n",
    "        args = GoalScoredInfo(self.name, self.goals_scored)\n",
    "        self.game.fire(args)\n",
    "\n",
    "\n",
    "class Coach:\n",
    "    def __init__(self, game):\n",
    "        game.events.append(self.celebrate_goal)\n",
    "\n",
    "    def celebrate_goal(self, args):\n",
    "        if isinstance(args, GoalScoredInfo) and args.goals_scored < 3:\n",
    "            print(f'Coach says: well done, {args.who_scored}!')\n"
   ]
  },
  {
   "cell_type": "code",
   "execution_count": 22,
   "metadata": {},
   "outputs": [
    {
     "name": "stdout",
     "output_type": "stream",
     "text": [
      "Coach says: well done, Sam!\n",
      "Coach says: well done, Sam!\n"
     ]
    }
   ],
   "source": [
    "# __main__\n",
    "game = Game()\n",
    "player = Player('Sam', game)\n",
    "coach = Coach(game)\n",
    "\n",
    "player.score()  # Coach says: well done, Sam!\n",
    "player.score()  # Coach says: well done, Sam!\n",
    "player.score()  # ignored by coach"
   ]
  },
  {
   "cell_type": "markdown",
   "metadata": {},
   "source": [
    "## Memento"
   ]
  },
  {
   "cell_type": "markdown",
   "metadata": {},
   "source": [
    "- An object or a system can go through several changes.\n",
    "  - Example: a bank account gets deposits and withdrawals.\n",
    "- There are different ways of navigating those changes.\n",
    "  - One way is to record every change (Command) and teach a command to *undo* itself.\n",
    "  - Another is to simply save snapshots of the system = Memento.\n",
    "- The Memento pattern is a token/handle class representing the system state.\n",
    "  - It lets us roll back to the state when the token was generated.\n",
    "  - It may or may not expose state information.\n",
    "\n",
    "So, basically, the Memento pattern is like a history, i.e., a list of all states along the time. Whenever we perform a change, a state is saved so that we can go back/forth in the history of object states."
   ]
  },
  {
   "cell_type": "markdown",
   "metadata": {},
   "source": [
    "### Example: Bank Account"
   ]
  },
  {
   "cell_type": "markdown",
   "metadata": {},
   "source": [
    "In this example, for every deposit we do in a bank account, a Memento (state = balance) object is returned. Given a Memento of a bank account, we can restore that bank account with the state of the Memento."
   ]
  },
  {
   "cell_type": "code",
   "execution_count": 23,
   "metadata": {},
   "outputs": [],
   "source": [
    "# We could call it BanckAccountSnapshot\n",
    "# In this simple example, the state is just the balance\n",
    "class Memento:\n",
    "    def __init__(self, balance):\n",
    "        self.balance = balance\n",
    "\n",
    "\n",
    "class BankAccount:\n",
    "    def __init__(self, balance=0):\n",
    "        self.balance = balance\n",
    "\n",
    "    def deposit(self, amount):\n",
    "        self.balance += amount\n",
    "        return Memento(self.balance)\n",
    "\n",
    "    def restore(self, memento):\n",
    "        self.balance = memento.balance\n",
    "\n",
    "    def __str__(self):\n",
    "        return f'Balance = {self.balance}'"
   ]
  },
  {
   "cell_type": "code",
   "execution_count": 24,
   "metadata": {},
   "outputs": [
    {
     "name": "stdout",
     "output_type": "stream",
     "text": [
      "Balance = 175\n",
      "Balance = 150\n",
      "Balance = 175\n"
     ]
    }
   ],
   "source": [
    "# __main__\n",
    "ba = BankAccount(100)\n",
    "m1 = ba.deposit(50)\n",
    "m2 = ba.deposit(25)\n",
    "print(ba)\n",
    "\n",
    "# restore to m1\n",
    "ba.restore(m1)\n",
    "print(ba)\n",
    "\n",
    "# restore to m2\n",
    "ba.restore(m2)\n",
    "print(ba)\n",
    "# Balance = 175\n",
    "# Balance = 150\n",
    "# Balance = 175"
   ]
  },
  {
   "cell_type": "markdown",
   "metadata": {},
   "source": [
    "### Example: Bank Account with Undo and Redo"
   ]
  },
  {
   "cell_type": "markdown",
   "metadata": {},
   "source": [
    "This example builds on the previous one. We build a list of all the changes (a list of Mementos) in the bank account."
   ]
  },
  {
   "cell_type": "code",
   "execution_count": 25,
   "metadata": {},
   "outputs": [],
   "source": [
    "class Memento:\n",
    "    def __init__(self, balance):\n",
    "        self.balance = balance\n",
    "\n",
    "\n",
    "class BankAccount:\n",
    "    def __init__(self, balance=0):\n",
    "        self.balance = balance\n",
    "        self.changes = [Memento(self.balance)] # our history\n",
    "        self.current = 0 # index where we are in changes\n",
    "\n",
    "    def deposit(self, amount):\n",
    "        self.balance += amount\n",
    "        m = Memento(self.balance)\n",
    "        self.changes.append(m)\n",
    "        self.current += 1\n",
    "        return m\n",
    "\n",
    "    def restore(self, memento):\n",
    "        if memento:\n",
    "            self.balance = memento.balance\n",
    "            self.changes.append(memento)\n",
    "            self.current = len(self.changes)-1\n",
    "\n",
    "    def undo(self):\n",
    "        # We go back one step in history/changes\n",
    "        if self.current > 0:\n",
    "            self.current -= 1\n",
    "            m = self.changes[self.current]\n",
    "            self.balance = m.balance\n",
    "            return m\n",
    "        return None\n",
    "\n",
    "    def redo(self):\n",
    "        # We go one step forward in history/changes\n",
    "        if self.current + 1 < len(self.changes):\n",
    "            self.current += 1\n",
    "            m = self.changes[self.current]\n",
    "            self.balance = m.balance\n",
    "            return m\n",
    "        return None\n",
    "\n",
    "    def __str__(self):\n",
    "        return f'Balance = {self.balance}'"
   ]
  },
  {
   "cell_type": "code",
   "execution_count": 26,
   "metadata": {},
   "outputs": [
    {
     "name": "stdout",
     "output_type": "stream",
     "text": [
      "Balance = 175\n",
      "Undo 1: Balance = 150\n",
      "Undo 2: Balance = 100\n",
      "Redo 1: Balance = 150\n"
     ]
    }
   ],
   "source": [
    "# __main__\n",
    "ba = BankAccount(100)\n",
    "ba.deposit(50)\n",
    "ba.deposit(25)\n",
    "print(ba)\n",
    "\n",
    "ba.undo()\n",
    "print(f'Undo 1: {ba}')\n",
    "ba.undo()\n",
    "print(f'Undo 2: {ba}')\n",
    "ba.redo()\n",
    "print(f'Redo 1: {ba}')\n",
    "# Balance = 175\n",
    "# Undo 1: Balance = 150\n",
    "# Undo 2: Balance = 100\n",
    "# Redo 1: Balance = 150"
   ]
  },
  {
   "cell_type": "markdown",
   "metadata": {},
   "source": [
    "## Observer"
   ]
  },
  {
   "cell_type": "markdown",
   "metadata": {},
   "source": [
    "The Observer is probably the most common pattern.\n",
    "\n",
    "- We need to be informed when certain things happen\n",
    "  - Object's property changes\n",
    "  - Object does something\n",
    "  - Some external event occurs\n",
    "- We want to listen to those events and we want to be notified when they occur\n",
    "  - Notifications should include useful data\n",
    "- We want to unsubscribe from events we're no longer interested in\n",
    "\n",
    "The Observer is an object that wishes to be informed about events happening in the system. The entity generating the events is an *observable*.\n",
    "\n",
    "One common use-case is when a class property changes; we can use Python `@property.setter` decorator to invoke callable `Event` objects, which consist of lists of functions which are run when an event occurs.\n",
    "\n",
    "Also, note that:\n",
    "\n",
    "- In general, the Observer is an intrusive approach, i.e., the observable must provide an event to subscribe to.\n",
    "- Subscription and unsubscription is handled with addition/removal of items in a list.\n",
    "- Property change notifications are easy, but when properties depend on others, notifications start to be a bit more tricky: the dependent properties must be handled in the `@property.setter` of the main/original attribute that affects all ohers."
   ]
  },
  {
   "cell_type": "markdown",
   "metadata": {},
   "source": [
    "### Events"
   ]
  },
  {
   "cell_type": "markdown",
   "metadata": {},
   "source": [
    "In this approach to implement an Observer we define an `Event` class derived from `list` which collects callable functions, which are kind of subscribers. In the example, a `Person` is defined with and `Event` type/class for the occasion when he/she falls ill. When that occurs, all the callable subscribers (i.e., functions) from the `Event` are called."
   ]
  },
  {
   "cell_type": "code",
   "execution_count": 27,
   "metadata": {},
   "outputs": [],
   "source": [
    "# We have a Person class\n",
    "# We want an Event to occur, we one Person falls ill\n",
    "class Person:\n",
    "    def __init__(self, name, address):\n",
    "        self.name = name\n",
    "        self.address = address\n",
    "        self.falls_ill = Event()\n",
    "\n",
    "    def catch_a_cold(self):\n",
    "        self.falls_ill(self.name, self.address)\n",
    "\n",
    "\n",
    "# In the Event class, we have subscribers\n",
    "class Event(list):\n",
    "    def __call__(self, *args, **kwargs):\n",
    "        for item in self:\n",
    "            item(*args, **kwargs)\n",
    "\n",
    "\n",
    "def call_doctor(name, address):\n",
    "    print(f'A doctor has been called to {address}')\n"
   ]
  },
  {
   "cell_type": "code",
   "execution_count": 28,
   "metadata": {},
   "outputs": [
    {
     "name": "stdout",
     "output_type": "stream",
     "text": [
      "Sherlock is ill\n",
      "A doctor has been called to 221B Baker St\n",
      "Sherlock is ill\n"
     ]
    }
   ],
   "source": [
    "# __main__\n",
    "person = Person('Sherlock', '221B Baker St')\n",
    "\n",
    "# Here, we're accessing Event,\n",
    "# which is a list of items!\n",
    "# Each item is a function\n",
    "# which can be called!\n",
    "# Here, the callable items just print something\n",
    "# but similarly, they could perform other tasks,\n",
    "# e.g., send an email!\n",
    "person.falls_ill.append(lambda name, addr: print(f'{name} is ill'))\n",
    "person.falls_ill.append(call_doctor)\n",
    "\n",
    "# We call the functions by calling the Event\n",
    "# which is a list of functions = subscribers\n",
    "person.catch_a_cold()\n",
    "\n",
    "# And we can remove subscriptions too\n",
    "person.falls_ill.remove(call_doctor)\n",
    "# So only one callable item = subscriber = function is run\n",
    "person.catch_a_cold()"
   ]
  },
  {
   "cell_type": "markdown",
   "metadata": {},
   "source": [
    "### Property Observers"
   ]
  },
  {
   "cell_type": "markdown",
   "metadata": {},
   "source": [
    "This example shows how the changes in class attributes can be notified by using the `@property` decorator in Python. Basically, the same `Event` class as before is used via the `@property.setter`."
   ]
  },
  {
   "cell_type": "code",
   "execution_count": 36,
   "metadata": {},
   "outputs": [],
   "source": [
    "class Event(list):\n",
    "    def __call__(self, *args, **kwargs):\n",
    "        for item in self:\n",
    "            item(*args, **kwargs)\n",
    "\n",
    "\n",
    "# Base class which contains an Event class instance\n",
    "# Person is derived from it!\n",
    "class PropertyObservable:\n",
    "    def __init__(self):\n",
    "        self.property_changed = Event()\n",
    "\n",
    "\n",
    "# Person is derived from the Observer\n",
    "# so that we have the Events baked in\n",
    "class Person(PropertyObservable):\n",
    "    def __init__(self, age=0):\n",
    "        super().__init__()\n",
    "        self._age = age\n",
    "\n",
    "    @property\n",
    "    def age(self):\n",
    "        return self._age\n",
    "\n",
    "    # In the property setter\n",
    "    # we trigger the Event\n",
    "    # which is related to changes in\n",
    "    # the age attribute\n",
    "    @age.setter\n",
    "    def age(self, value):\n",
    "        if self._age == value:\n",
    "            return\n",
    "        self._age = value\n",
    "        self.property_changed('age', value)\n",
    "\n",
    "\n",
    "# This class uses the Observer\n",
    "# to check when people can drive\n",
    "class TrafficAuthority:\n",
    "    def __init__(self, person):\n",
    "        self.person = person\n",
    "        person.property_changed.append(self.person_changed)\n",
    "\n",
    "    def person_changed(self, name, value):\n",
    "        if name == 'age':\n",
    "            if value < 16:\n",
    "                print('Sorry, you still cannot drive')\n",
    "            else:\n",
    "                print('Okay, you can drive now')\n",
    "                self.person.property_changed.remove(self.person_changed)"
   ]
  },
  {
   "cell_type": "code",
   "execution_count": 37,
   "metadata": {},
   "outputs": [
    {
     "name": "stdout",
     "output_type": "stream",
     "text": [
      "Setting age to 14\n",
      "Sorry, you still cannot drive\n",
      "Setting age to 15\n",
      "Sorry, you still cannot drive\n",
      "Setting age to 16\n",
      "Okay, you can drive now\n",
      "Setting age to 17\n",
      "Setting age to 18\n",
      "Setting age to 19\n"
     ]
    }
   ],
   "source": [
    "# __main__\n",
    "p = Person()\n",
    "ta = TrafficAuthority(p)\n",
    "for age in range(14, 20):\n",
    "    print(f'Setting age to {age}')\n",
    "    p.age = age"
   ]
  },
  {
   "cell_type": "markdown",
   "metadata": {},
   "source": [
    "### Property Dependencies"
   ]
  },
  {
   "cell_type": "markdown",
   "metadata": {},
   "source": [
    "Property Observers can face difficulties when properties are dependent among them. This example shows how to solve those cases."
   ]
  },
  {
   "cell_type": "code",
   "execution_count": 33,
   "metadata": {},
   "outputs": [],
   "source": [
    "class Event(list):\n",
    "    def __call__(self, *args, **kwargs):\n",
    "        for item in self:\n",
    "            item(*args, **kwargs)\n",
    "\n",
    "\n",
    "class PropertyObservable:\n",
    "    def __init__(self):\n",
    "        self.property_changed = Event()\n",
    "\n",
    "\n",
    "class Person(PropertyObservable):\n",
    "    def __init__(self, age=0):\n",
    "        super().__init__()\n",
    "        self._age = age\n",
    "\n",
    "    # We add a boolean property to denote whether a Person can vote\n",
    "    # which clearly depends on the age\n",
    "    @property\n",
    "    def can_vote(self):\n",
    "        return self._age >= 18\n",
    "\n",
    "    @property\n",
    "    def age(self):\n",
    "        return self._age\n",
    "\n",
    "    # The original property from which the dependent ones\n",
    "    # hand needs to be modified:\n",
    "    # We track when the dependent properties change\n",
    "    # and notify the observer via the Event function calls\n",
    "    @age.setter\n",
    "    def age(self, value):\n",
    "        if self._age == value:\n",
    "            return\n",
    "\n",
    "        # We cash the old can_vote\n",
    "        old_can_vote = self.can_vote\n",
    "\n",
    "        self._age = value\n",
    "        self.property_changed('age', value)\n",
    "\n",
    "        # If the new can_vote is different than the old\n",
    "        # then, we notify the observer\n",
    "        if old_can_vote != self.can_vote:\n",
    "            self.property_changed('can_vote', self.can_vote)"
   ]
  },
  {
   "cell_type": "code",
   "execution_count": 34,
   "metadata": {},
   "outputs": [
    {
     "name": "stdout",
     "output_type": "stream",
     "text": [
      "Changing age to 16\n",
      "Changing age to 17\n",
      "Changing age to 18\n",
      "Voting status changed to True\n",
      "Changing age to 19\n",
      "Changing age to 20\n"
     ]
    }
   ],
   "source": [
    "# __main__\n",
    "def person_changed(name, value):\n",
    "    if name == 'can_vote':\n",
    "        print(f'Voting status changed to {value}')\n",
    "\n",
    "p = Person()\n",
    "p.property_changed.append(\n",
    "    person_changed\n",
    ")\n",
    "\n",
    "for age in range(16, 21):\n",
    "    print(f'Changing age to {age}')\n",
    "    p.age = age\n"
   ]
  },
  {
   "cell_type": "markdown",
   "metadata": {},
   "source": [
    "## State (Machine)"
   ]
  },
  {
   "cell_type": "markdown",
   "metadata": {},
   "source": [
    "Consider an ordinary telephone:\n",
    "\n",
    "- What you do with it depends on the state of the phone/line\n",
    "  - If it's ringing or you want to make a call, you can pick it up.\n",
    "  - The phone must be off the hook to talk/make a call.\n",
    "  - If you try calling someone and it's busy, you put the handset down.\n",
    "- Changes in state can be explicit or in response to an event (Observer pattern).\n",
    "\n",
    "Following the telephone's analogy, the State is a pattern in which the object's behavior is determined by its state. An object transitions from one state to another (something needs to trigger that transition). A formalized construct which manages state and transitions is called a *(finite) state machine*.\n",
    "\n",
    "The best way of implementing State Machines is to define `State` and `Trigger` classes/enums:\n",
    "\n",
    "- We define all possible `States`.\n",
    "- We define all possible events or `Triggers` that can occur.\n",
    "- We map to each `State` the `Trigger` events that can apply to them and to which `State` they transition when they occur.\n",
    "- Everything can be packed into a `while` loop where each `State`-`Trigger` pair is checked, and we can sophisticate the logic as we please:\n",
    "  - Define entry/exit `States`.\n",
    "  - Gaurd conditions for enabling/disabling transitions.\n",
    "  - Default action when no transitions are found for an event/`Trigger`."
   ]
  },
  {
   "cell_type": "markdown",
   "metadata": {},
   "source": [
    "### Classic State"
   ]
  },
  {
   "cell_type": "markdown",
   "metadata": {},
   "source": [
    "This example is a bit unrealistic/unpractical, i.e., we would not implement it in real life, because it is a too complicated solution for a simple case in which the `State` of an `ON/OFF` switch is modeled. Of course, we can find a more complex use-case which follows this `State -> XState` structure.\n",
    "\n",
    "This type of State Machine implementations were done some decades ago, but nowadays not anymore. However, it's maybe good to keep in mind how people used to solve this things beforehand."
   ]
  },
  {
   "cell_type": "code",
   "execution_count": 40,
   "metadata": {},
   "outputs": [],
   "source": [
    "from abc import ABC\n",
    "\n",
    "\n",
    "# Light switch\n",
    "# The State classes are used internally\n",
    "# and we expose all the transition buttons\n",
    "# to the Switch here\n",
    "class Switch:\n",
    "    def __init__(self):\n",
    "        self.state = OffState()\n",
    "\n",
    "    # We force a transition of State\n",
    "    def on(self):\n",
    "        self.state.on(self)\n",
    "\n",
    "    # Trasition of State\n",
    "    def off(self):\n",
    "        self.state.off(self)\n",
    "\n",
    "\n",
    "# Abstract\n",
    "class State(ABC):\n",
    "    def on(self, switch):\n",
    "        print('Light is already on')\n",
    "\n",
    "    def off(self, switch):\n",
    "        print('Light is already off')\n",
    "\n",
    "\n",
    "# We derive each State\n",
    "# Note that we define only State transtion methods!\n",
    "# OnState: off(): on -> off\n",
    "# If a transition to self is done, the parent method\n",
    "# is called! E.g., OnState.on = State.on\n",
    "class OnState(State):\n",
    "    def __init__(self):\n",
    "        print('Light turned on')\n",
    "\n",
    "    # Note we take a Switch as argument\n",
    "    def off(self, switch):\n",
    "        print('Turning light off...')\n",
    "        switch.state = OffState()\n",
    "\n",
    "\n",
    "# We derive each State\n",
    "# Note that we define only State transtion methods!\n",
    "# OffState: on(): off -> on\n",
    "# If a transition to self is done, the parent method\n",
    "# is called! E.g., OffState.on = State.off\n",
    "class OffState(State):\n",
    "    def __init__(self):\n",
    "        print('Light turned off')\n",
    "\n",
    "    # Note we take a Switch as argument\n",
    "    def on(self, switch):\n",
    "        print('Turning light on...')\n",
    "        switch.state = OnState()"
   ]
  },
  {
   "cell_type": "code",
   "execution_count": 39,
   "metadata": {},
   "outputs": [
    {
     "name": "stdout",
     "output_type": "stream",
     "text": [
      "Light turned off\n",
      "Turning light on...\n",
      "Light turned on\n",
      "Turning light off...\n",
      "Light turned off\n",
      "Light is already off\n"
     ]
    }
   ],
   "source": [
    "# __main__\n",
    "sw = Switch()\n",
    "\n",
    "sw.on()  # Turning light on...\n",
    "         # Light turned on\n",
    "\n",
    "sw.off()  # Turning light off...\n",
    "          # Light turned off\n",
    "\n",
    "sw.off()  # Light is already off"
   ]
  },
  {
   "cell_type": "markdown",
   "metadata": {},
   "source": [
    "### Handmade State Machine"
   ]
  },
  {
   "cell_type": "markdown",
   "metadata": {},
   "source": [
    "In this example a phone call is modeled with a State Machine. `State` and `Trigger` `Enums` are defined and a `rules` dictionary which maps each current `State` to all possible `(Trigger, NewState)` pairs. Then, we check in a loop the `Trigger` for the current `State` and perform a State Transition associated with each `Trigger`."
   ]
  },
  {
   "cell_type": "code",
   "execution_count": 9,
   "metadata": {},
   "outputs": [],
   "source": [
    "from enum import Enum, auto\n",
    "\n",
    "\n",
    "class State(Enum):\n",
    "    OFF_HOOK = auto() # handset lifted from the cradle = descolgado\n",
    "    CONNECTING = auto()\n",
    "    CONNECTED = auto()\n",
    "    ON_HOLD = auto()\n",
    "    ON_HOOK = auto() # handset placed on the cradle = colgado\n",
    "\n",
    "\n",
    "# Triggers are the things that cause the State transitions\n",
    "class Trigger(Enum):\n",
    "    CALL_DIALED = auto()\n",
    "    HUNG_UP = auto()\n",
    "    CALL_CONNECTED = auto()\n",
    "    PLACED_ON_HOLD = auto()\n",
    "    TAKEN_OFF_HOLD = auto()\n",
    "    LEFT_MESSAGE = auto()"
   ]
  },
  {
   "cell_type": "code",
   "execution_count": 11,
   "metadata": {},
   "outputs": [
    {
     "name": "stdout",
     "output_type": "stream",
     "text": [
      "The phone is currently State.OFF_HOOK\n",
      "0: Trigger.CALL_DIALED\n",
      "The phone is currently State.CONNECTING\n",
      "0: Trigger.HUNG_UP\n",
      "1: Trigger.CALL_CONNECTED\n",
      "We are done using the phone.\n"
     ]
    }
   ],
   "source": [
    "# __main__\n",
    "# Now for each State, we need to define which\n",
    "# Triggers would cause to transition to a new State\n",
    "# We have a list of pairs for each State:\n",
    "# (Trigger event, State we transition to)\n",
    "# Everything is packed in a dictionary Dict[State, List[Trigger, State]]\n",
    "rules = {\n",
    "    State.OFF_HOOK: [\n",
    "        (Trigger.CALL_DIALED, State.CONNECTING)\n",
    "    ],\n",
    "    State.CONNECTING: [\n",
    "        (Trigger.HUNG_UP, State.ON_HOOK),\n",
    "        (Trigger.CALL_CONNECTED, State.CONNECTED)\n",
    "    ],\n",
    "    State.CONNECTED: [\n",
    "        (Trigger.LEFT_MESSAGE, State.ON_HOOK),\n",
    "        (Trigger.HUNG_UP, State.ON_HOOK),\n",
    "        (Trigger.PLACED_ON_HOLD, State.ON_HOLD)\n",
    "    ],\n",
    "    State.ON_HOLD: [\n",
    "        (Trigger.TAKEN_OFF_HOLD, State.CONNECTED),\n",
    "        (Trigger.HUNG_UP, State.ON_HOOK)\n",
    "    ]\n",
    "}\n",
    "\n",
    "# Starting State: When the State Machine is initiated\n",
    "state = State.OFF_HOOK\n",
    "# Ending State; in some State Machines\n",
    "# exit_state does not occur, e.g., trading bots.\n",
    "# Here, as soon as a person sets the phone on hook\n",
    "# we are done!\n",
    "exit_state = State.ON_HOOK\n",
    "\n",
    "while state != exit_state:\n",
    "    print(f'The phone is currently {state}')\n",
    "\n",
    "    # Check all rules to find current state\n",
    "    for i in range(len(rules[state])):\n",
    "        t = rules[state][i][0]\n",
    "        print(f'{i}: {t}')\n",
    "\n",
    "    # Request Trigger input\n",
    "    idx = int(input('Select a trigger:'))\n",
    "    # Perform State Transiton with Trigger\n",
    "    s = rules[state][idx][1]\n",
    "    state = s\n",
    "\n",
    "print('We are done using the phone.')\n",
    "# We enter idx in List[] of rules[State], e.g. 0\n",
    "# The phone is currently State.OFF_HOOK\n",
    "# 0: Trigger.CALL_DIALED\n",
    "# The phone is currently State.CONNECTING\n",
    "# 0: Trigger.HUNG_UP\n",
    "# 1: Trigger.CALL_CONNECTED\n",
    "# We are done using the phone."
   ]
  },
  {
   "cell_type": "markdown",
   "metadata": {},
   "source": [
    "### Switch-Based State Machine"
   ]
  },
  {
   "cell_type": "markdown",
   "metadata": {},
   "source": [
    "In this example, the State Machine of a lock is implemented following the `switch`-based approach. Python doesn't have a `switch` statement, but we can imlement it using `if-else` or `dicts`.\n",
    "\n",
    "The advantage of this approach is that we just need to define only `State`, and all the transitions are handled in a `while`-loop. However, it works only for simple State Machines; in complex cases, it is better to define `Triggers` and transition `rules`, as done beforehand."
   ]
  },
  {
   "cell_type": "code",
   "execution_count": 13,
   "metadata": {},
   "outputs": [],
   "source": [
    "from enum import Enum, auto\n",
    "\n",
    "\n",
    "class State(Enum):\n",
    "    LOCKED = auto()\n",
    "    FAILED = auto()\n",
    "    UNLOCKED = auto()\n"
   ]
  },
  {
   "cell_type": "code",
   "execution_count": 15,
   "metadata": {},
   "outputs": [
    {
     "name": "stdout",
     "output_type": "stream",
     "text": [
      "\n",
      "FAILED\n",
      "\n",
      "UNLOCKED\n"
     ]
    }
   ],
   "source": [
    "# __main__\n",
    "code = '1234'\n",
    "state = State.LOCKED\n",
    "entry = ''\n",
    "\n",
    "while True:\n",
    "    if state == State.LOCKED:\n",
    "        entry += input(entry)\n",
    "\n",
    "        if entry == code:\n",
    "            state = State.UNLOCKED\n",
    "\n",
    "        if not code.startswith(entry):\n",
    "            # the code is wrong\n",
    "            state = State.FAILED\n",
    "    elif state == State.FAILED:\n",
    "        print('\\nFAILED')\n",
    "        entry = ''\n",
    "        state = State.LOCKED\n",
    "    elif state == State.UNLOCKED:\n",
    "        print('\\nUNLOCKED')\n",
    "        break"
   ]
  },
  {
   "cell_type": "markdown",
   "metadata": {},
   "source": [
    "## Strategy"
   ]
  },
  {
   "cell_type": "markdown",
   "metadata": {},
   "source": [
    "Many algorithms can be separated into two layers: high-level and low-level; while high-level deals with the overall goal, the low-level deals with the details. The Strategy makes use of that sepration and enables to select the exact behavior of a system at run-time.\n",
    "\n",
    "Example: the algorithm of making tea can be decomposed into:\n",
    "\n",
    "- the process of making a hot beverage (boil water, pout into a cut)\n",
    "- and tea-specific steps (put teabag into water, etc.)\n",
    "\n",
    "The high-level algorithm is the one which is reused and provided to the user (prepare hot beverage), who then adds/selects low-level parts (coffe, tea, hot chocolate). Each of the low-level options is called a Strategy, which supports specifics associated with the low-level option:\n",
    "\n",
    "- Tea-Strategy\n",
    "- Coffee-Strategy\n",
    "- Hot-chocolate-Strategy\n",
    "- etc.\n",
    "\n",
    "So, in summary, when we use Strategies:\n",
    "\n",
    "- We define an algorithm at a high level.\n",
    "- We define the interface we expect each Strategy to follow.\n",
    "- We provide for dynamic composition of Strategies in the resulting object."
   ]
  },
  {
   "cell_type": "markdown",
   "metadata": {},
   "source": [
    "### Example: Text Processor"
   ]
  },
  {
   "cell_type": "markdown",
   "metadata": {},
   "source": [
    "This example is a simple text processor which formats a list of bullet points to be in Markdown or HTML. The Strategy pattern is used to specify the low-level text foramtting of the list. That way, we define the high-level code and inject low-level Strategy objects, which are implemented somewhere else. In this case, the Strategy = Format (HTML/Markdown)."
   ]
  },
  {
   "cell_type": "code",
   "execution_count": 18,
   "metadata": {},
   "outputs": [],
   "source": [
    "from abc import ABC\n",
    "from enum import Enum, auto\n",
    "\n",
    "\n",
    "class OutputFormat(Enum):\n",
    "    MARKDOWN = auto()\n",
    "    HTML = auto()\n",
    "\n",
    "\n",
    "# Abstract base class for all Strategies = Formats\n",
    "# Not required but a good idea\n",
    "class ListStrategy(ABC):\n",
    "    def start(self, buffer): pass\n",
    "    def end(self, buffer): pass\n",
    "    def add_list_item(self, buffer, item): pass\n",
    "\n",
    "\n",
    "# Markdown lists are very easy\n",
    "class MarkdownListStrategy(ListStrategy):\n",
    "\n",
    "    def add_list_item(self, buffer, item):\n",
    "        buffer.append(f' * {item}\\n')\n",
    "\n",
    "\n",
    "# HTML lists are a bit more complicated\n",
    "# bacause they have start/end tags \n",
    "# for both the complete list\n",
    "# and each item\n",
    "class HtmlListStrategy(ListStrategy):\n",
    "\n",
    "    def start(self, buffer):\n",
    "        buffer.append('<ul>\\n')\n",
    "\n",
    "    def end(self, buffer):\n",
    "        buffer.append('</ul>\\n')\n",
    "\n",
    "    def add_list_item(self, buffer, item):\n",
    "        buffer.append(f'  <li>{item}</li>\\n')\n",
    "\n",
    "\n",
    "# This text processor is a high-level API\n",
    "# in which we can choose the low-level Strategy\n",
    "# i.e., the format, in this case\n",
    "class TextProcessor:\n",
    "    def __init__(self, list_strategy=HtmlListStrategy()):\n",
    "        self.buffer = [] # all the text goes here\n",
    "        self.list_strategy = list_strategy\n",
    "\n",
    "    # We add the items of a list, which are appended to the buffer\n",
    "    def append_list(self, items):\n",
    "        self.list_strategy.start(self.buffer)\n",
    "        for item in items:\n",
    "            self.list_strategy.add_list_item(\n",
    "                self.buffer, item\n",
    "            )\n",
    "        self.list_strategy.end(self.buffer)\n",
    "\n",
    "    # We set the format at the beginning\n",
    "    # which instantiates the desired Strategy = Format\n",
    "    def set_output_format(self, format):\n",
    "        if format == OutputFormat.MARKDOWN:\n",
    "            self.list_strategy = MarkdownListStrategy()\n",
    "        elif format == OutputFormat.HTML:\n",
    "            self.list_strategy = HtmlListStrategy()\n",
    "\n",
    "    def clear(self):\n",
    "        self.buffer.clear()\n",
    "\n",
    "    def __str__(self):\n",
    "        return ''.join(self.buffer)"
   ]
  },
  {
   "cell_type": "code",
   "execution_count": 20,
   "metadata": {},
   "outputs": [
    {
     "name": "stdout",
     "output_type": "stream",
     "text": [
      " * foo\n",
      " * bar\n",
      " * baz\n",
      "\n",
      "<ul>\n",
      "  <li>foo</li>\n",
      "  <li>bar</li>\n",
      "  <li>baz</li>\n",
      "</ul>\n",
      "\n"
     ]
    }
   ],
   "source": [
    "# __main__\n",
    "items = ['foo', 'bar', 'baz']\n",
    "\n",
    "tp = TextProcessor()\n",
    "tp.set_output_format(OutputFormat.MARKDOWN)\n",
    "tp.append_list(items)\n",
    "print(tp)\n",
    "#  * foo\n",
    "#  * bar\n",
    "#  * baz\n",
    "\n",
    "tp.set_output_format(OutputFormat.HTML)\n",
    "tp.clear()\n",
    "tp.append_list(items)\n",
    "print(tp)\n",
    "# <ul>\n",
    "#   <li>foo</li>\n",
    "#   <li>bar</li>\n",
    "#   <li>baz</li>\n",
    "# </ul>"
   ]
  },
  {
   "cell_type": "markdown",
   "metadata": {},
   "source": [
    "## Template Method"
   ]
  },
  {
   "cell_type": "markdown",
   "metadata": {},
   "source": [
    "A Template is a high-level blueprint for an algorithm to be completed by inheritors. In other words, it is equivalent to the Strategy method, but it's implemented via inheritance: it allows us to define the skeleton of the algorithm with concrete implementations defined in subclasses.\n",
    "\n",
    "- Algorithms can be decomposed into common parts (high-level) + specifics (low-level).\n",
    "- The Strategy pattern accomplishes the separation of high/low-level parts throuhg composition:\n",
    "  - High-level algorithm expects strateges to conform to an interface.\n",
    "  - Concrete implementations implement this interface and are used.\n",
    "- The Template Method pattern does the same thing as Strategy, but using inheritance\n",
    "  - The overall algorithm is defined in the base class; it uses abstract members.\n",
    "  - Inheritors override the abstract members.\n",
    "  - Template method invoked to get the work done.\n",
    "\n",
    "The Template Method is usually defined in the base class and not overriden in derived concrete classes; instead, the abstract methods used by it are overriden. That way, the high-level logic is already defined in the Template Method of the base class."
   ]
  },
  {
   "cell_type": "markdown",
   "metadata": {},
   "source": [
    "### Example: Chess Game"
   ]
  },
  {
   "cell_type": "code",
   "execution_count": 24,
   "metadata": {},
   "outputs": [],
   "source": [
    "from abc import ABC\n",
    "\n",
    "\n",
    "# Our base class = our Skeleton\n",
    "# It defines the structure of any/many game/s\n",
    "class Game(ABC):\n",
    "\n",
    "    def __init__(self, number_of_players):\n",
    "        self.number_of_players = number_of_players\n",
    "        self.current_player = 0\n",
    "\n",
    "    # This is the Template Method!\n",
    "    def run(self):\n",
    "        self.start()\n",
    "        while not self.have_winner:\n",
    "            self.take_turn()\n",
    "        print(f'Player {self.winning_player} wins!')\n",
    "\n",
    "    def start(self): pass\n",
    "\n",
    "    @property\n",
    "    def have_winner(self): pass\n",
    "\n",
    "    def take_turn(self): pass\n",
    "\n",
    "    @property\n",
    "    def winning_player(self): pass\n",
    "\n",
    "\n",
    "# This is our inherited class.\n",
    "# We won't override our Template Method (run)\n",
    "# but instead, all the other methods used \n",
    "# by it: have_winner, take_turn, winning_player\n",
    "class Chess(Game):\n",
    "    def __init__(self):\n",
    "        super().__init__(2)\n",
    "        self.max_turns = 10\n",
    "        self.turn = 1\n",
    "\n",
    "    def start(self):\n",
    "        print(f'Starting a game of chess with {self.number_of_players} players.')\n",
    "\n",
    "    @property\n",
    "    def have_winner(self):\n",
    "        return self.turn == self.max_turns\n",
    "\n",
    "    def take_turn(self):\n",
    "        print(f'Turn {self.turn} taken by player {self.current_player}')\n",
    "        self.turn += 1\n",
    "        self.current_player = 1 - self.current_player\n",
    "\n",
    "    @property\n",
    "    def winning_player(self):\n",
    "        return self.current_player"
   ]
  },
  {
   "cell_type": "code",
   "execution_count": 23,
   "metadata": {},
   "outputs": [
    {
     "name": "stdout",
     "output_type": "stream",
     "text": [
      "Starting a game of chess with 2 players.\n",
      "Turn 1 taken by player 0\n",
      "Turn 2 taken by player 1\n",
      "Turn 3 taken by player 0\n",
      "Turn 4 taken by player 1\n",
      "Turn 5 taken by player 0\n",
      "Turn 6 taken by player 1\n",
      "Turn 7 taken by player 0\n",
      "Turn 8 taken by player 1\n",
      "Turn 9 taken by player 0\n",
      "Player 1 wins!\n"
     ]
    }
   ],
   "source": [
    "# __main__\n",
    "chess = Chess()\n",
    "chess.run()\n",
    "# Starting a game of chess with 2 players.\n",
    "# Turn 1 taken by player 0\n",
    "# Turn 2 taken by player 1\n",
    "# Turn 3 taken by player 0\n",
    "# Turn 4 taken by player 1\n",
    "# Turn 5 taken by player 0\n",
    "# Turn 6 taken by player 1\n",
    "# Turn 7 taken by player 0\n",
    "# Turn 8 taken by player 1\n",
    "# Turn 9 taken by player 0\n",
    "# Player 1 wins!"
   ]
  },
  {
   "cell_type": "markdown",
   "metadata": {},
   "source": [
    "## Visitor"
   ]
  },
  {
   "cell_type": "markdown",
   "metadata": {},
   "source": [
    "Sometimes we need to define a new operation/bahavior on an entire class hierarchy (i.e., in several classes with a hierarchical dependency): that's exactly what the Visitor pattern makes possible.\n",
    "\n",
    "- Example: we want to make a document model printable to HTML/Markdown.\n",
    "- We don't want to keep modifying every class in the hierarchy.\n",
    "- We need access to the non-common aspects of classes in the hierarchy.\n",
    "- We create an external component to handle rendering.\n",
    "  - But we want to avoid explicit type checks.\n",
    "\n",
    "The Visitor is a components that knows how to traverse a data structure composed of (possibly related) types."
   ]
  },
  {
   "cell_type": "markdown",
   "metadata": {},
   "source": [
    "### Intrusive (Bad) Visitor"
   ]
  },
  {
   "cell_type": "markdown",
   "metadata": {},
   "source": [
    "In this example we capture expressions like `1 + (2+3)` in Object-Oriented fashion:\n",
    "\n",
    "- We have left/right terms.\n",
    "- Each term can be an expression, too.\n",
    "- We want to print the complete expression.\n",
    "- We want to evaluate the complete expression.\n",
    "\n",
    "This Visitor example is *intrusive* because be break the Open-Closed Principle: We modify the classes to add additional functionality, in this case they print themselves.\n",
    "\n",
    "The modification is the addition of the `print()` method, which outputs to a `buffer: list` all the components of the expression. The problem is that\n",
    "\n",
    "- We need to add a `print()` method to all classes in the hierarchy so that the expression can be printed.\n",
    "- Adding a `print()` method post-hoc breaks the Open-Closed principle and it can be cumbersome: if the class hierarchy is large, we have much work to do.\n",
    "- Something similar happens with `eval()`."
   ]
  },
  {
   "cell_type": "code",
   "execution_count": 27,
   "metadata": {},
   "outputs": [],
   "source": [
    "class DoubleExpression:\n",
    "    def __init__(self, value):\n",
    "        self.value = value\n",
    "\n",
    "    # This print is intrusive (breaks Open-Close principle)\n",
    "    # because we add it afterwards\n",
    "    # and we need it (with custom implementations)\n",
    "    # in all classes related to this\n",
    "    def print(self, buffer):\n",
    "        buffer.append(str(self.value))\n",
    "\n",
    "    # This is also an intrusive solution\n",
    "    def eval(self): return self.value\n",
    "\n",
    "\n",
    "class AdditionExpression:\n",
    "    def __init__(self, left, right):\n",
    "        self.right = right\n",
    "        self.left = left\n",
    "\n",
    "    # This print is intrusive (breaks Open-Close principle)\n",
    "    # because we add it afterwards\n",
    "    # and we need it (with custom implementations)\n",
    "    # in all classes related to this\n",
    "    def print(self, buffer):\n",
    "        buffer.append('(')\n",
    "        self.left.print(buffer)\n",
    "        buffer.append('+')\n",
    "        self.right.print(buffer)\n",
    "        buffer.append(')')\n",
    "\n",
    "    # This is also an intrusive solution\n",
    "    def eval(self):\n",
    "        return self.left.eval() + self.right.eval()"
   ]
  },
  {
   "cell_type": "code",
   "execution_count": 29,
   "metadata": {},
   "outputs": [
    {
     "name": "stdout",
     "output_type": "stream",
     "text": [
      "(1+(2+3)) = 6\n"
     ]
    }
   ],
   "source": [
    "# __main__\n",
    "# This represents 1+(2+3)\n",
    "e = AdditionExpression(\n",
    "    DoubleExpression(1),\n",
    "    AdditionExpression(\n",
    "        DoubleExpression(2),\n",
    "        DoubleExpression(3)\n",
    "    )\n",
    ")\n",
    "buffer = []\n",
    "# We print the expression:\n",
    "# Intrusive print() method\n",
    "e.print(buffer)\n",
    "print(''.join(buffer), '=', e.eval())\n",
    "\n",
    "# This breaks OCP: requires we modify the entire hierarchy\n",
    "# What is more likely: new type or new operation?"
   ]
  },
  {
   "cell_type": "markdown",
   "metadata": {},
   "source": [
    "### Reflective Visitor"
   ]
  },
  {
   "cell_type": "markdown",
   "metadata": {},
   "source": [
    "An improvement to the previous approach is presented below. Here, a new class `ExpressionPrinter` is created which takes care of the printing: it contains the functionality in a separate class. The solution still breaks the Open-Closed principle, because we need to create `M (print, eval) x N (DoubleExpression, AdditionExpession)` new classes which are modified every time we extend the functionalities, but it's still an enhancement.\n",
    "\n",
    "This example, in addition, *injects* a `print()` function from `ExpressionPrinter` to an abstract base class `Expression`, which is used by the derived `DoubleExpression` and `AdditionExpression`.\n",
    "\n",
    "The example is called *reflective* because types need to be checked. From the [Wikipedia](https://en.wikipedia.org/wiki/Reflective_programming):\n",
    "\n",
    "> In computer science, reflective programming or reflection is the ability of a process to examine, introspect, and modify its own structure and behavior."
   ]
  },
  {
   "cell_type": "markdown",
   "metadata": {},
   "source": [
    "Another example of *reflection*, from the [Wikipedia](https://en.wikipedia.org/wiki/Reflective_programming)\n",
    "\n",
    "```python\n",
    "class Foo:\n",
    "    def __init__(self):\n",
    "        pass\n",
    "    def hello(self):\n",
    "        print(\"Hello!\")\n",
    "\n",
    "# Without reflection\n",
    "obj = Foo()\n",
    "obj.hello()\n",
    "\n",
    "# With reflection\n",
    "obj = globals()[\"Foo\"]()\n",
    "getattr(obj, \"hello\")()\n",
    "\n",
    "# With eval\n",
    "eval(\"Foo().hello()\")\n",
    "```"
   ]
  },
  {
   "cell_type": "markdown",
   "metadata": {},
   "source": [
    "Reflective Visitor Example:"
   ]
  },
  {
   "cell_type": "code",
   "execution_count": 35,
   "metadata": {},
   "outputs": [],
   "source": [
    "from abc import ABC\n",
    "\n",
    "\n",
    "# We use this abstract base class to join\n",
    "# all Expression* classes in a hierarchy\n",
    "# Later (in ExpressionPrinter) we will\n",
    "# define a print() method shared among all\n",
    "# derived classes!\n",
    "class Expression(ABC):\n",
    "    pass\n",
    "\n",
    "\n",
    "# Note we derive the class from Expression\n",
    "class DoubleExpression(Expression):\n",
    "    def __init__(self, value):\n",
    "        self.value = value\n",
    "\n",
    "\n",
    "# Note we derive the class from Expression\n",
    "class AdditionExpression(Expression):\n",
    "    def __init__(self, left, right):\n",
    "        self.right = right\n",
    "        self.left = left\n",
    "\n",
    "\n",
    "# This still breaks OCP \n",
    "# because new types require M×N modifications.\n",
    "# If we add new types\n",
    "# we need to modify ExpressionPrinter.\n",
    "# If we add new operations (print, eval)\n",
    "# we need to reate anew class.\n",
    "class ExpressionPrinter:\n",
    "    # Static method = class-level method, \n",
    "    # we don't need to instantiate a class object\n",
    "    @staticmethod\n",
    "    def print(e, buffer):\n",
    "        \"\"\" Will fail silently on a missing case. \"\"\"\n",
    "        if isinstance(e, DoubleExpression):\n",
    "            buffer.append(str(e.value))\n",
    "        elif isinstance(e, AdditionExpression):\n",
    "            buffer.append('(')\n",
    "            ExpressionPrinter.print(e.left, buffer)\n",
    "            buffer.append('+')\n",
    "            ExpressionPrinter.print(e.right, buffer)\n",
    "            buffer.append(')')\n",
    "\n",
    "    # We (re-)define Expression.print in ExpressionPrinter\n",
    "    # so that we can call print() from DoubleExpression and AdditionExpression\n",
    "    # because the are inherited from Expression!\n",
    "    Expression.print = lambda self, b: ExpressionPrinter.print(self, b)"
   ]
  },
  {
   "cell_type": "code",
   "execution_count": 38,
   "metadata": {},
   "outputs": [
    {
     "name": "stdout",
     "output_type": "stream",
     "text": [
      "ExpressionPrinter.print: (1+(2+3))\n",
      "e.print: (1+(2+3))\n"
     ]
    }
   ],
   "source": [
    "# __main__\n",
    "# represents 1+(2+3)\n",
    "e = AdditionExpression(\n",
    "    DoubleExpression(1),\n",
    "    AdditionExpression(\n",
    "        DoubleExpression(2),\n",
    "        DoubleExpression(3)\n",
    "    )\n",
    ")\n",
    "\n",
    "buffer = []\n",
    "# print() is a static method = class-level method, \n",
    "# we don't need to instantiate a class object\n",
    "ExpressionPrinter.print(e, buffer)\n",
    "print(\"ExpressionPrinter.print:\", ''.join(buffer))\n",
    "\n",
    "# Since we inherited all Expression* from the ABC Expression\n",
    "# and we (re-)define Expression.print in ExpressionPrinter\n",
    "# we can still call print() from DoubleExpression and AdditionExpression\n",
    "# because the are inherited from Expression!\n",
    "buffer = []\n",
    "e.print(buffer)\n",
    "print(\"e.print:\", ''.join(buffer))\n"
   ]
  },
  {
   "cell_type": "markdown",
   "metadata": {},
   "source": [
    "### Classic Visitor"
   ]
  },
  {
   "cell_type": "markdown",
   "metadata": {},
   "source": [
    "This implementation follows the example from the Gang of Four, which uses a [*double dispatch*](https://en.wikipedia.org/wiki/Double_dispatch), a technical term to describe the process of choosing the method to invoke based both on receiver and argument types.\n",
    "\n",
    "As in the previous examples, we use an explicit new class for printing: `ExpressionPrinter`. However, a decorator `@visitor` is previously defined which is used to overload the `visit()` method in `ExpressionPrinter`."
   ]
  },
  {
   "cell_type": "code",
   "execution_count": 50,
   "metadata": {},
   "outputs": [],
   "source": [
    "# VISITOR CODE\n",
    "# Example taken from \n",
    "# https://tavianator.com/the-visitor-pattern-in-python/\n",
    "\n",
    "def _qualname(obj):\n",
    "    \"\"\"Get the fully-qualified name of an object (including module).\"\"\"\n",
    "    return obj.__module__ + '.' + obj.__qualname__\n",
    "\n",
    "\n",
    "def _declaring_class(obj):\n",
    "    \"\"\"Get the name of the class that declared an object.\"\"\"\n",
    "    name = _qualname(obj)\n",
    "    return name[:name.rfind('.')]\n",
    "\n",
    "\n",
    "# Stores the actual visitor methods\n",
    "_methods = {}\n",
    "\n",
    "\n",
    "# Delegating visitor implementation\n",
    "def _visitor_impl(self, arg):\n",
    "    \"\"\"Actual visitor method implementation.\"\"\"\n",
    "    method = _methods[(_qualname(type(self)), type(arg))]\n",
    "    return method(self, arg)\n",
    "\n",
    "\n",
    "# The actual @visitor decorator\n",
    "def visitor(arg_type):\n",
    "    \"\"\"Decorator that creates a visitor method.\"\"\"\n",
    "\n",
    "    def decorator(fn):\n",
    "        declaring_class = _declaring_class(fn)\n",
    "        _methods[(declaring_class, arg_type)] = fn\n",
    "\n",
    "        # Replace all decorated methods with _visitor_impl\n",
    "        return _visitor_impl\n",
    "\n",
    "    return decorator"
   ]
  },
  {
   "cell_type": "code",
   "execution_count": 51,
   "metadata": {},
   "outputs": [],
   "source": [
    "class Expression:\n",
    "    def accept(self, visitor):\n",
    "        visitor.visit(self)    \n",
    "\n",
    "\n",
    "class DoubleExpression(Expression):\n",
    "    def __init__(self, value):\n",
    "        self.value = value\n",
    "\n",
    "\n",
    "class AdditionExpression(Expression):\n",
    "    def __init__(self, left, right):\n",
    "        self.left = left\n",
    "        self.right = right\n",
    "\n",
    "\n",
    "class ExpressionPrinter:\n",
    "    def __init__(self):\n",
    "        self.buffer = []\n",
    "\n",
    "    @visitor(DoubleExpression)\n",
    "    def visit(self, de):\n",
    "        self.buffer.append(str(de.value))\n",
    "\n",
    "    @visitor(AdditionExpression)\n",
    "    def visit(self, ae):\n",
    "        self.buffer.append('(')\n",
    "        ae.left.accept(self) # This calls the accept of the correct type, which calls the visitor!\n",
    "        self.buffer.append('+')\n",
    "        ae.right.accept(self)\n",
    "        self.buffer.append(')') # This calls the accept of the correct type, which calls the visitor!\n",
    "\n",
    "    def __str__(self):\n",
    "        return ''.join(self.buffer)"
   ]
  },
  {
   "cell_type": "code",
   "execution_count": 52,
   "metadata": {},
   "outputs": [
    {
     "name": "stdout",
     "output_type": "stream",
     "text": [
      "(1+(2+3))\n"
     ]
    }
   ],
   "source": [
    "# __main__\n",
    "# represents 1+(2+3)\n",
    "e = AdditionExpression(\n",
    "    DoubleExpression(1),\n",
    "    AdditionExpression(\n",
    "        DoubleExpression(2),\n",
    "        DoubleExpression(3)\n",
    "    )\n",
    ")\n",
    "buffer = []\n",
    "printer = ExpressionPrinter()\n",
    "printer.visit(e)\n",
    "print(printer)"
   ]
  },
  {
   "cell_type": "markdown",
   "metadata": {},
   "source": [
    "### Classic Visitor Refined"
   ]
  },
  {
   "cell_type": "markdown",
   "metadata": {},
   "source": [
    "The `accept()` method is necessary only for statically typed languages, i.e., languages in which viariable types are known at compiple time (e.g., C/C++). However, it is not necessary in non-statically typed languages, such as Python.\n",
    "\n",
    "In this version, the `accept()` method is ignored and instead, `self.visit()` is used ina new class `ExpressionEvaluator`."
   ]
  },
  {
   "cell_type": "code",
   "execution_count": 54,
   "metadata": {},
   "outputs": [],
   "source": [
    "# VISITOR CODE\n",
    "# Example taken from \n",
    "# https://tavianator.com/the-visitor-pattern-in-python/\n",
    "\n",
    "def _qualname(obj):\n",
    "    \"\"\"Get the fully-qualified name of an object (including module).\"\"\"\n",
    "    return obj.__module__ + '.' + obj.__qualname__\n",
    "\n",
    "\n",
    "def _declaring_class(obj):\n",
    "    \"\"\"Get the name of the class that declared an object.\"\"\"\n",
    "    name = _qualname(obj)\n",
    "    return name[:name.rfind('.')]\n",
    "\n",
    "\n",
    "# Stores the actual visitor methods\n",
    "_methods = {}\n",
    "\n",
    "\n",
    "# Delegating visitor implementation\n",
    "def _visitor_impl(self, arg):\n",
    "    \"\"\"Actual visitor method implementation.\"\"\"\n",
    "    method = _methods[(_qualname(type(self)), type(arg))]\n",
    "    return method(self, arg)\n",
    "\n",
    "\n",
    "# The actual @visitor decorator\n",
    "def visitor(arg_type):\n",
    "    \"\"\"Decorator that creates a visitor method.\"\"\"\n",
    "\n",
    "    def decorator(fn):\n",
    "        declaring_class = _declaring_class(fn)\n",
    "        _methods[(declaring_class, arg_type)] = fn\n",
    "\n",
    "        # Replace all decorated methods with _visitor_impl\n",
    "        return _visitor_impl\n",
    "\n",
    "    return decorator"
   ]
  },
  {
   "cell_type": "code",
   "execution_count": 57,
   "metadata": {},
   "outputs": [],
   "source": [
    "class Expression:\n",
    "    def accept(self, visitor):\n",
    "        visitor.visit(self)    \n",
    "\n",
    "\n",
    "class DoubleExpression(Expression):\n",
    "    def __init__(self, value):\n",
    "        self.value = value\n",
    "\n",
    "\n",
    "class AdditionExpression(Expression):\n",
    "    def __init__(self, left, right):\n",
    "        self.left = left\n",
    "        self.right = right\n",
    "\n",
    "\n",
    "class ExpressionPrinter:\n",
    "    def __init__(self):\n",
    "        self.buffer = []\n",
    "\n",
    "    @visitor(DoubleExpression)\n",
    "    def visit(self, de):\n",
    "        self.buffer.append(str(de.value))\n",
    "\n",
    "    @visitor(AdditionExpression)\n",
    "    def visit(self, ae):\n",
    "        self.buffer.append('(')\n",
    "        ae.left.accept(self)\n",
    "        self.buffer.append('+')\n",
    "        ae.right.accept(self)\n",
    "        self.buffer.append(')')\n",
    "\n",
    "    def __str__(self):\n",
    "        return ''.join(self.buffer)\n",
    "\n",
    "\n",
    "# This class is stateful = we need to safe the evaluated value\n",
    "# otherwise when the visitor is called in the next line,\n",
    "# thevalue evaluated until that point is lost.\n",
    "# We can achieve that with a temporal variable\n",
    "# which caches the values.\n",
    "class ExpressionEvaluator:\n",
    "    def __init__(self):\n",
    "        self.value = None\n",
    "\n",
    "    @visitor(DoubleExpression)\n",
    "    def visit(self, de):\n",
    "        self.value = de.value\n",
    "\n",
    "    @visitor(AdditionExpression)\n",
    "    def visit(self, ae):\n",
    "        # ae.left.accept(self)\n",
    "        self.visit(ae.left)\n",
    "        temp = self.value\n",
    "        # ae.right.accept(self)\n",
    "        self.visit(ae.right)\n",
    "        self.value += temp"
   ]
  },
  {
   "cell_type": "code",
   "execution_count": 58,
   "metadata": {},
   "outputs": [
    {
     "name": "stdout",
     "output_type": "stream",
     "text": [
      "(1+(2+3)) = 6\n"
     ]
    }
   ],
   "source": [
    "# __main__\n",
    "# represents 1+(2+3)\n",
    "e = AdditionExpression(\n",
    "    DoubleExpression(1),\n",
    "    AdditionExpression(\n",
    "        DoubleExpression(2),\n",
    "        DoubleExpression(3)\n",
    "    )\n",
    ")\n",
    "printer = ExpressionPrinter()\n",
    "printer.visit(e)\n",
    "\n",
    "evaluator = ExpressionEvaluator()\n",
    "evaluator.visit(e)\n",
    "\n",
    "print(f'{printer} = {evaluator.value}')\n"
   ]
  }
 ],
 "metadata": {
  "kernelspec": {
   "display_name": "Python 3",
   "language": "python",
   "name": "python3"
  },
  "language_info": {
   "codemirror_mode": {
    "name": "ipython",
    "version": 3
   },
   "file_extension": ".py",
   "mimetype": "text/x-python",
   "name": "python",
   "nbconvert_exporter": "python",
   "pygments_lexer": "ipython3",
   "version": "3.8.16"
  }
 },
 "nbformat": 4,
 "nbformat_minor": 2
}
