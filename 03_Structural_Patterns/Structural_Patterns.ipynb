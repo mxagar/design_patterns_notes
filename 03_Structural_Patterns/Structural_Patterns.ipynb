{
 "cells": [
  {
   "cell_type": "markdown",
   "metadata": {},
   "source": [
    "# Structural Design Patterns"
   ]
  },
  {
   "cell_type": "markdown",
   "metadata": {},
   "source": [
    "Structural patterns deal with the structure of objects:\n",
    "\n",
    "- Class members, adherence to interfaces, etc.\n",
    "- Many patterns are wrappers that mimic the underlying class interface.\n",
    "- Stress the importance of good API design: usability, etc.\n",
    "\n",
    "Table of contents:\n",
    "\n",
    "- [Adapter](#adapter)\n",
    "  - Adapter: Point and Line Example\n",
    "  - Adapter with Caching\n",
    "- [Bridge](#bridge)\n",
    "- [Composite](#composite)\n",
    "  - Example: Geometric Shapes\n",
    "  - Example: Neural Networks\n",
    "- [Decorator](#decorator)\n",
    "- Facade\n",
    "- Flyweight\n",
    "- Proxy"
   ]
  },
  {
   "cell_type": "markdown",
   "metadata": {},
   "source": [
    "## Adapter"
   ]
  },
  {
   "cell_type": "markdown",
   "metadata": {},
   "source": [
    "An analogy of the Adapter are the physical power adapters:\n",
    "\n",
    "- The devices have different power requirements: 5V, 220V, 120V, plug type EU/US, etc.\n",
    "- We cannot modify our gadgets to support every possible interface!\n",
    "\n",
    "An adapter is a construct which adapts an existing interface X to conform the required interface Y."
   ]
  },
  {
   "cell_type": "markdown",
   "metadata": {},
   "source": [
    "### Adapter: Point and Line Example"
   ]
  },
  {
   "cell_type": "markdown",
   "metadata": {},
   "source": [
    "This example shows the interplay between a Point, Line and Rectangle class. The goal is to draw all the discrete Points of a Rectangle. To that end, we adapt the Line class (which is defined with start and end Points) to deliver all the discrete Points in it."
   ]
  },
  {
   "cell_type": "code",
   "execution_count": 19,
   "metadata": {},
   "outputs": [],
   "source": [
    "# Let's suppose we are given a class Point\n",
    "# and a function draw_point\n",
    "class Point:\n",
    "    def __init__(self, x: int, y: int):\n",
    "        self.y = y\n",
    "        self.x = x\n",
    "\n",
    "\n",
    "def draw_point(p):\n",
    "    print('.', end='')"
   ]
  },
  {
   "cell_type": "code",
   "execution_count": 20,
   "metadata": {},
   "outputs": [],
   "source": [
    "# Then, we build two more classes: Line and Rectangle\n",
    "# Both consist of Point elements in discrete coordinates\n",
    "# and we would like to draw all the points in a Rectangle\n",
    "# or a Line\n",
    "class Line:\n",
    "    def __init__(self, start, end):\n",
    "        self.end = end\n",
    "        self.start = start\n",
    "\n",
    "\n",
    "class Rectangle(list):\n",
    "    \"\"\" Represented as a list of lines. \"\"\"\n",
    "\n",
    "    def __init__(self, x: int, y: int, width: int, height: int):\n",
    "        super().__init__()\n",
    "        self.append(Line(Point(x, y), Point(x + width, y)))\n",
    "        self.append(Line(Point(x + width, y), Point(x + width, y + height)))\n",
    "        self.append(Line(Point(x, y), Point(x, y + height)))\n",
    "        self.append(Line(Point(x, y + height), Point(x + width, y + height)))\n",
    "\n",
    "\n",
    "# We want to draw the rectangles\n",
    "# But: rectangles consist of lines, which consist of points\n",
    "# and we want to use the draw_point function,\n",
    "# which draws a unique point each call.\n",
    "# We need a LineToPointAdapter, which converts a Line\n",
    "# defined with its start and end points to a set of points\n",
    "# lying between the start and end points\n",
    "def draw(rcs):\n",
    "    print(\"\\n\\n--- Drawing some stuff ---\\n\")\n",
    "    for rc in rcs:\n",
    "        for line in rc:\n",
    "            # We need a LineToPointAdapter!\n",
    "            pass"
   ]
  },
  {
   "cell_type": "code",
   "execution_count": 23,
   "metadata": {},
   "outputs": [],
   "source": [
    "# A Line is defined with a start and an end point\n",
    "# This adapter converts the line to a set of Points\n",
    "# between the start and end (included).\n",
    "class LineToPointAdapter(list):\n",
    "    count = 0\n",
    "\n",
    "    def __init__(self, line):\n",
    "        super().__init__()\n",
    "        self.count += 1\n",
    "        print(f'{self.count}: Generating points for line '\n",
    "              f'[{line.start.x},{line.start.y}]-->'\n",
    "              f'[{line.end.x},{line.end.y}]')\n",
    "\n",
    "        left = min(line.start.x, line.end.x)\n",
    "        right = max(line.start.x, line.end.x)\n",
    "        top = min(line.start.y, line.end.y)\n",
    "        bottom = min(line.start.y, line.end.y)\n",
    "\n",
    "        # Since we are dealing with rectangles\n",
    "        # lines can be either vertical or horizontal\n",
    "        if right - left == 0:\n",
    "            # Point and Line consist of int coordinates\n",
    "            # thus, range works\n",
    "            for y in range(top, bottom):\n",
    "                self.append(Point(left, y))\n",
    "        elif line.end.y - line.start.y == 0:\n",
    "            for x in range(left, right):\n",
    "                self.append(Point(x, top))\n",
    "\n",
    "\n",
    "\n",
    "def draw(rcs):\n",
    "    print(\"\\n\\n--- Drawing some stuff ---\\n\")\n",
    "    for rc in rcs:\n",
    "        for line in rc:\n",
    "            adapter = LineToPointAdapter(line)\n",
    "            for p in adapter:\n",
    "                draw_point(p)"
   ]
  },
  {
   "cell_type": "code",
   "execution_count": 24,
   "metadata": {},
   "outputs": [
    {
     "name": "stdout",
     "output_type": "stream",
     "text": [
      "\n",
      "\n",
      "--- Drawing some stuff ---\n",
      "\n",
      "1: Generating points for line [1,1]-->[11,1]\n",
      "..........1: Generating points for line [11,1]-->[11,11]\n",
      "1: Generating points for line [1,1]-->[1,11]\n",
      "1: Generating points for line [1,11]-->[11,11]\n",
      "..........1: Generating points for line [3,3]-->[9,3]\n",
      "......1: Generating points for line [9,3]-->[9,9]\n",
      "1: Generating points for line [3,3]-->[3,9]\n",
      "1: Generating points for line [3,9]-->[9,9]\n",
      "......\n",
      "\n",
      "--- Drawing some stuff ---\n",
      "\n",
      "1: Generating points for line [1,1]-->[11,1]\n",
      "..........1: Generating points for line [11,1]-->[11,11]\n",
      "1: Generating points for line [1,1]-->[1,11]\n",
      "1: Generating points for line [1,11]-->[11,11]\n",
      "..........1: Generating points for line [3,3]-->[9,3]\n",
      "......1: Generating points for line [9,3]-->[9,9]\n",
      "1: Generating points for line [3,3]-->[3,9]\n",
      "1: Generating points for line [3,9]-->[9,9]\n",
      "......"
     ]
    }
   ],
   "source": [
    "# __main__\n",
    "rs = [\n",
    "    Rectangle(1, 1, 10, 10),\n",
    "    Rectangle(3, 3, 6, 6)\n",
    "]\n",
    "draw(rs)\n",
    "draw(rs)"
   ]
  },
  {
   "cell_type": "markdown",
   "metadata": {},
   "source": [
    "### Adapter with Caching"
   ]
  },
  {
   "cell_type": "markdown",
   "metadata": {},
   "source": [
    "Adapters often lead to too many temporary objects which are re-generared once and again. To alleviate that innecessary effort, we can add a cache dictionary to our adapter."
   ]
  },
  {
   "cell_type": "code",
   "execution_count": 29,
   "metadata": {},
   "outputs": [],
   "source": [
    "# We add a caching dictionary to the Adapter\n",
    "# to avoid re-generating too many temporary objects\n",
    "# Note that it's not inherited from a list\n",
    "# because the information is saved in the cache dict!\n",
    "class LineToPointAdapter:\n",
    "    cache = {}\n",
    "\n",
    "    def __init__(self, line):\n",
    "        self.h = hash(line) # Compute the hash of the line = key\n",
    "        # Note: hash() works in two cases:\n",
    "        # - if the input is inmutable: int, float, string, etc.\n",
    "        # - if the input us mutable (list, class, etc.) it needs to have the __hash__ method implemented\n",
    "        if self.h in self.cache:\n",
    "            # Set of generated points is already in the cache!\n",
    "            return\n",
    "\n",
    "        # If the hash doesnt exist, the points were not generated\n",
    "        # thus, we need to generate them\n",
    "        super().__init__()\n",
    "        print(f'Generating points for line ' +\n",
    "              f'[{line.start.x},{line.start.y}]-->[{line.end.x},{line.end.y}]')\n",
    "\n",
    "        left = min(line.start.x, line.end.x)\n",
    "        right = max(line.start.x, line.end.x)\n",
    "        top = min(line.start.y, line.end.y)\n",
    "        bottom = min(line.start.y, line.end.y)\n",
    "\n",
    "        # List of points to store = value\n",
    "        points = []\n",
    "\n",
    "        if right - left == 0:\n",
    "            for y in range(top, bottom):\n",
    "                points.append(Point(left, y))\n",
    "        elif line.end.y - line.start.y == 0:\n",
    "            for x in range(left, right):\n",
    "                points.append(Point(x, top))\n",
    "\n",
    "        # Store key-value pair in dict\n",
    "        self.cache[self.h] = points\n",
    "\n",
    "    # Beforehand, we LinetoPointAdapter was inherited from a list\n",
    "    # Now, everything is in a dict\n",
    "    # Thus, we implement the dunder method __iter__\n",
    "    # to make possible iterating like in a list\n",
    "    def __iter__(self):\n",
    "        return iter(self.cache[self.h])"
   ]
  },
  {
   "cell_type": "code",
   "execution_count": 30,
   "metadata": {},
   "outputs": [],
   "source": [
    "# Same as before\n",
    "def draw(rcs):\n",
    "    print('Drawing some rectangles...')\n",
    "    for rc in rcs:\n",
    "        for line in rc:\n",
    "            adapter = LineToPointAdapter(line)\n",
    "            for p in adapter:\n",
    "                draw_point(p)\n",
    "    print('\\n')"
   ]
  },
  {
   "cell_type": "code",
   "execution_count": 31,
   "metadata": {},
   "outputs": [
    {
     "name": "stdout",
     "output_type": "stream",
     "text": [
      "Drawing some rectangles...\n",
      "Generating points for line [1,1]-->[11,1]\n",
      "..........Generating points for line [11,1]-->[11,11]\n",
      "Generating points for line [1,1]-->[1,11]\n",
      "Generating points for line [1,11]-->[11,11]\n",
      "..........Generating points for line [3,3]-->[9,3]\n",
      "......Generating points for line [9,3]-->[9,9]\n",
      "Generating points for line [3,3]-->[3,9]\n",
      "Generating points for line [3,9]-->[9,9]\n",
      "......\n",
      "\n",
      "Drawing some rectangles...\n",
      "................................\n",
      "\n",
      "99894889213\n"
     ]
    }
   ],
   "source": [
    "# __main__\n",
    "rs = [\n",
    "    Rectangle(1, 1, 10, 10),\n",
    "    Rectangle(3, 3, 6, 6)\n",
    "]\n",
    "\n",
    "draw(rs)\n",
    "draw(rs)\n",
    "\n",
    "# Can define your own hashes or use the defaults\n",
    "# Note: hash() works in two cases:\n",
    "# - if the input is inmutable: int, float, string, etc.\n",
    "# - if the input us mutable (list, class, etc.) it needs to have the __hash__ method implemented\n",
    "# In our case, Line is a list\n",
    "print(hash(Line(Point(1, 1), Point(10, 10))))"
   ]
  },
  {
   "cell_type": "markdown",
   "metadata": {},
   "source": [
    "## Bridge"
   ]
  },
  {
   "cell_type": "markdown",
   "metadata": {},
   "source": [
    "Bridges connect components together through abstractions:\n",
    "\n",
    "- A Bridge prevents a *Cartesian product* complexity explosion; example:\n",
    "  - Base class `ThreadScheduler`\n",
    "  - Can be pre-emptive or cooperative\n",
    "  - Can run on Windows or Unix\n",
    "  - We end-up having a 2x2 scenario: `WindowsPTS`, `UnixPTS`, `WindowsCTS`, `UnixCTS`\n",
    "  - So, for each new dimension with levels we add, the number of classes explode, since all the levels need to be combined.\n",
    "- The Bridge pattern avoids entity explosion.\n",
    "- We don't rely on inheritance as much, instead, we use **inheritance + aggregation**.\n",
    "\n",
    "Essentially, a Bridge is a mechanism that decouples an interface or abstraction (which can be a hierarchy) from an implementation (which can be another hierarchy), or in other words, it connects two hierarchies of different classes so that we don't need to performa Cartesian product of the class hierarchies. We can understand a Bridge as a stronger form of encapsulation.\n",
    "\n",
    "The downside of the Bridge pattern is often that we break the Open-Close SOLID principle with it. However, that's the price we need to pay to avoid complexity explosion. When the Open-Close principle is broken, we need to modify many classes every time we add a new one."
   ]
  },
  {
   "cell_type": "code",
   "execution_count": 36,
   "metadata": {},
   "outputs": [
    {
     "name": "stdout",
     "output_type": "stream",
     "text": [
      "Drawing a circle of radius 5\n",
      "Drawing a circle of radius 10\n",
      "Drawing pixels for circle of radius 5\n",
      "Drawing pixels for circle of radius 10\n",
      "Drawing a square of side 5\n",
      "Drawing a square of side 10\n",
      "Drawing pixels for a square of side 5\n",
      "Drawing pixels for a square of side 10\n"
     ]
    }
   ],
   "source": [
    "# We want to ender Circles and Squares: Circle, Square\n",
    "# Each can be rendered in vector or raster form: Vector, Raster\n",
    "# We could define these renderers:\n",
    "# CircleVectorRender, CircleRasterRender, SquareVectorRender, SquareRasterRender\n",
    "# But that doesn't make sense, the complexity explodes!\n",
    "# To avoid that, we implement the Bridge pattern\n",
    "# HOWEVER: Note that we break the Open-Close principle!\n",
    "# That is the price we need to pay to avoid complexit explosion.\n",
    "# Since the Open-Close principle is broken, whenever we add a new Shape,\n",
    "# e.g., Triangle, we need to modify Renderer, VectorRenderer, RasterRenderer.\n",
    "from abc import ABC, abstractmethod\n",
    "\n",
    "# Abstract base class of the renderer\n",
    "class Renderer(ABC):\n",
    "    @abstractmethod\n",
    "    def render_circle(self, radius):\n",
    "        pass\n",
    "\n",
    "    @abstractmethod\n",
    "    def render_square(self, side):\n",
    "        pass\n",
    "\n",
    "# Vector Renderer inherits from base class and implements 2 shapes\n",
    "# However, note that the render_ functions don't take a class (Circle, Square)\n",
    "# but a parameter essential to defining the class (radius, side)!\n",
    "class VectorRenderer(Renderer):\n",
    "    def render_circle(self, radius):\n",
    "        print(f'Drawing a circle of radius {radius}')\n",
    "\n",
    "    def render_square(self, side):\n",
    "        print(f'Drawing a square of side {side}')\n",
    "\n",
    "# Raster Renderer inherits from base class and implements 2 shapes\n",
    "# However, note that the render_ functions don't take a class (Circle, Square)\n",
    "# but a parameter essential to defining the class (radius, side)!\n",
    "class RasterRenderer(Renderer):\n",
    "    def render_circle(self, radius):\n",
    "        print(f'Drawing pixels for circle of radius {radius}')\n",
    "\n",
    "    def render_square(self, side):\n",
    "        print(f'Drawing pixels for a square of side {side}')\n",
    "\n",
    "# THIS IS WHERE WE CREATE THE BRIDGE\n",
    "# In a base class Shape we pass the Renderer as dependency/parameter!\n",
    "# Then, we inherit concrete Shapes and each can take\n",
    "# a Vector/ResterRenderer, which contain the methods for plotting each shape!\n",
    "class Shape:\n",
    "    def __init__(self, renderer):\n",
    "        self.renderer = renderer\n",
    "\n",
    "    def draw(self): pass\n",
    "    def resize(self, factor): pass\n",
    "\n",
    "\n",
    "class Circle(Shape):\n",
    "    def __init__(self, renderer, radius):\n",
    "        super().__init__(renderer)\n",
    "        self.radius = radius\n",
    "\n",
    "    def draw(self):\n",
    "        self.renderer.render_circle(self.radius)\n",
    "\n",
    "    def resize(self, factor):\n",
    "        self.radius *= factor\n",
    "\n",
    "\n",
    "class Square(Shape):\n",
    "    def __init__(self, renderer, side):\n",
    "        super().__init__(renderer)\n",
    "        self.side = side\n",
    "\n",
    "    def draw(self):\n",
    "        self.renderer.render_square(self.side)\n",
    "\n",
    "    def resize(self, factor):\n",
    "        self.side *= factor\n",
    "\n",
    "# __main__\n",
    "raster = RasterRenderer()\n",
    "vector = VectorRenderer()\n",
    "\n",
    "circle = Circle(vector, 5)\n",
    "circle.draw()\n",
    "circle.resize(2)\n",
    "circle.draw()\n",
    "\n",
    "circle = Circle(raster, 5)\n",
    "circle.draw()\n",
    "circle.resize(2)\n",
    "circle.draw()\n",
    "\n",
    "square = Square(vector, 5)\n",
    "square.draw()\n",
    "square.resize(2)\n",
    "square.draw()\n",
    "\n",
    "square = Square(raster, 5)\n",
    "square.draw()\n",
    "square.resize(2)\n",
    "square.draw()\n"
   ]
  },
  {
   "cell_type": "markdown",
   "metadata": {},
   "source": [
    "## Composite"
   ]
  },
  {
   "cell_type": "markdown",
   "metadata": {},
   "source": [
    "The goal of a Composite is to treat individual/scalar and aggregate/collection objects uniformly:\n",
    "\n",
    "- Objects use other object's properties/members through inheritance and composition.\n",
    "- Composition lets us make compound objects.\n",
    "  - Example: a mathematical expression composed of simple expressions or a grouping of shapes that consists of several shapes.\n",
    "- **The Composite design pattern is used to treat both single (scalar) and composite objects uniformly.**\n",
    "  - That is: a scalar/single object and a collection/sequence structure that containes those objects have common APIs.\n",
    "\n",
    "Note: scalar is used here in the sense of a single object (e.g., a class or a object of a class), whereas group means a collection (e.g., a list).\n",
    "\n",
    "The main difference between a scalar/single object and a group/collection object which can contain both the scalar/single objects and groups is **iteration**. Therefore, we need to somehow support iteration in the Composite:\n",
    "\n",
    "- We can do that by defining the scalar objects as classes that contain iterables.\n",
    "- Or we can also do that by defining the `__iter__` method in the scalar object."
   ]
  },
  {
   "cell_type": "markdown",
   "metadata": {},
   "source": [
    "### Example: Geometric Shapes"
   ]
  },
  {
   "cell_type": "markdown",
   "metadata": {},
   "source": [
    "The Composite pattern allows to compose objects into tree structures to represent part-whole hierarchies. It lets clients treat individual objects and compositions of objects uniformly. Key components, focusing on the example of the **Geometric Shapes**:\n",
    "\n",
    "- **Component**: The base class (`GraphicObject` in the example with the Geometric Shapes) represents both individual objects and their compositions.\n",
    "\n",
    "- **Leaf**: The individual objects that can be part of a composition. In the following example, `Circle` and `Square` are leaf objects.\n",
    "\n",
    "- **Composite**: The composite objects that can contain other objects. In the following example, `GraphicObject` itself acts as a composite that can contain other `GraphicObject` instances.\n",
    "\n",
    "In the example of the Geometric Shapes, the coposite pattern is accomplised thanks to 3-4 key points:\n",
    "\n",
    "- We define a member list which contains children: `self.children = []`\n",
    "- We add derived class objects to the `children` list, as well as the `GraphicObject` type itsself, creating nested structures.\n",
    "- We apply a recursive printing `_print` that traverses all the children and the children of the children; that's a depth-first tree traverse."
   ]
  },
  {
   "cell_type": "code",
   "execution_count": 41,
   "metadata": {},
   "outputs": [],
   "source": [
    "# This base class can be 2 things:\n",
    "# a single shape (derived) or a group/collection of shapes\n",
    "class GraphicObject:\n",
    "    def __init__(self, color=None):\n",
    "        self.color = color\n",
    "        self.children = [] # Key line for Composite\n",
    "        self._name = 'Group' # We will override the name in inherited shapes\n",
    "\n",
    "    @property\n",
    "    def name(self):\n",
    "        return self._name\n",
    "\n",
    "    @name.setter\n",
    "    def name(self, name):\n",
    "        self._name = name\n",
    "\n",
    "    # We create a list of ObjectColor items\n",
    "    # preceeded by the depth represented with the number of *\n",
    "    # This recursive function is a tree traverse\n",
    "    # and it's a key part of the Composite pattern\n",
    "    def _print(self, items, depth):\n",
    "        items.append('*' * depth)\n",
    "        if self.color:\n",
    "            items.append(self.color)\n",
    "        items.append(f'{self.name}\\n')\n",
    "        for child in self.children:\n",
    "            child._print(items, depth + 1)\n",
    "\n",
    "    def __str__(self):\n",
    "        items = []\n",
    "        self._print(items, 0)\n",
    "        return ''.join(items)\n",
    "\n",
    "\n",
    "class Circle(GraphicObject):\n",
    "    @property\n",
    "    def name(self):\n",
    "        return 'Circle'\n",
    "\n",
    "\n",
    "class Square(GraphicObject):\n",
    "    @property\n",
    "    def name(self):\n",
    "        return 'Square'"
   ]
  },
  {
   "cell_type": "code",
   "execution_count": 43,
   "metadata": {},
   "outputs": [
    {
     "name": "stdout",
     "output_type": "stream",
     "text": [
      "My Drawing\n",
      "*RedSquare\n",
      "*YellowCircle\n",
      "*Group\n",
      "**BlueCircle\n",
      "**BlueSquare\n",
      "\n"
     ]
    }
   ],
   "source": [
    "# __main__\n",
    "drawing = GraphicObject()\n",
    "#drawing._name = 'My Drawing'\n",
    "drawing.name = 'My Drawing'\n",
    "# Key line for Composite: we add a derived class object\n",
    "drawing.children.append(Square('Red'))\n",
    "drawing.children.append(Circle('Yellow'))\n",
    "\n",
    "group = GraphicObject()  # no name\n",
    "group.children.append(Circle('Blue'))\n",
    "group.children.append(Square('Blue'))\n",
    "# Key line for Composite: we add an object of the Composite class itself\n",
    "# creatiga nested structure\n",
    "drawing.children.append(group) # we are appending a group to it!\n",
    "\n",
    "# The composite pattern is used here!\n",
    "# With a simple print() that uses __str__\n",
    "# the complete tree structure consisting of leaf objects\n",
    "# and group/composite objects is traversed and printed!\n",
    "print(drawing)"
   ]
  },
  {
   "cell_type": "markdown",
   "metadata": {},
   "source": [
    "### Example: Neural Networks"
   ]
  },
  {
   "cell_type": "markdown",
   "metadata": {},
   "source": [
    "This is a very interesting case of the Composite pattern in which a function/method that should work the same way for a scalar object (`Neuron`) and a collection of it (`NeuronLayer`), i.e., `connect_to`, is implemented in a bas class `Connectable` from which `Neuron` and `NeuronLayer` are derived. Additionally, we add `__iter__` to the scalar class (`Neuron`) so that it can be iterable in a for loop, as well as the collection (`NeuronLayer`)."
   ]
  },
  {
   "cell_type": "code",
   "execution_count": 47,
   "metadata": {},
   "outputs": [],
   "source": [
    "from abc import ABC\n",
    "from collections.abc import Iterable"
   ]
  },
  {
   "cell_type": "code",
   "execution_count": 49,
   "metadata": {},
   "outputs": [],
   "source": [
    "# A straightforward class for a Neuron\n",
    "# and a Neuron Layer\n",
    "class Neuron():\n",
    "    def __init__(self, name):\n",
    "        self.name = name\n",
    "        self.inputs = []\n",
    "        self.outputs = []\n",
    "\n",
    "    def connect_to(self, other):\n",
    "        self.outputs.append(other)\n",
    "        other.inputs.append(self)\n",
    "\n",
    "    def __str__(self):\n",
    "        return f'{self.name}, {len(self.inputs)} inputs, {len(self.outputs)} outputs'\n",
    "\n",
    "class NeuronLayer(list):\n",
    "    def __init__(self, name, count):\n",
    "        super().__init__()\n",
    "        self.name = name\n",
    "        for x in range(0, count):\n",
    "            self.append(Neuron(f'{name}-{x}'))\n",
    "\n",
    "    def __str__(self):\n",
    "        return f'{self.name} with {len(self)} neurons'\n",
    "    \n",
    "# However, this classes as they are defined\n",
    "# make it difficult to perform the following operations\n",
    "#   neuron1.connect_to(neuron2)\n",
    "#   neuron1.connect_to(layer1)\n",
    "#   layer1.connect_to(neuron2)\n",
    "#   layer1.connect_to(layer2)\n",
    "# \n",
    "# That is difficult, because we would have to implement\n",
    "# different connect_to methods, where the types are checked.\n",
    "# Instead, we use the Composite pattern"
   ]
  },
  {
   "cell_type": "code",
   "execution_count": 50,
   "metadata": {},
   "outputs": [],
   "source": [
    "# We define this class _only_ to share the \n",
    "# function connect_to with any other class which is inherited with it\n",
    "class Connectable(Iterable, ABC):\n",
    "    def connect_to(self, other):\n",
    "        if self == other: # cannot connect to yourself\n",
    "            return\n",
    "\n",
    "        for s in self:\n",
    "            for o in other:\n",
    "                s.outputs.append(o)\n",
    "                o.inputs.append(s)\n",
    "\n",
    "# Since Neuron is inherited from Connectable, \n",
    "# it has the connect_to method!\n",
    "class Neuron(Connectable):\n",
    "    def __init__(self, name):\n",
    "        self.name = name\n",
    "        self.inputs = []\n",
    "        self.outputs = []\n",
    "\n",
    "    # With this function we turn a scalar value into a collection of 1\n",
    "    # We need it because connect_to expects a collection in the for-loop!\n",
    "    def __iter__(self):\n",
    "        yield self\n",
    "\n",
    "    def __str__(self):\n",
    "        return f'{self.name}, {len(self.inputs)} inputs, {len(self.outputs)} outputs'\n",
    "\n",
    "# Since NeuronLayer is inherited from Connectable, \n",
    "# it has the connect_to method!\n",
    "class NeuronLayer(list, Connectable):\n",
    "    def __init__(self, name, count):\n",
    "        super().__init__()\n",
    "        self.name = name\n",
    "        for x in range(0, count):\n",
    "            self.append(Neuron(f'{name}-{x}'))\n",
    "\n",
    "    def __str__(self):\n",
    "        return f'{self.name} with {len(self)} neurons'"
   ]
  },
  {
   "cell_type": "code",
   "execution_count": 51,
   "metadata": {},
   "outputs": [
    {
     "name": "stdout",
     "output_type": "stream",
     "text": [
      "n1, 0 inputs, 4 outputs\n",
      "n2, 4 inputs, 0 outputs\n",
      "L1 with 3 neurons\n",
      "L2 with 4 neurons\n"
     ]
    }
   ],
   "source": [
    "# __main__\n",
    "\n",
    "neuron1 = Neuron('n1')\n",
    "neuron2 = Neuron('n2')\n",
    "layer1 = NeuronLayer('L1', 3)\n",
    "layer2 = NeuronLayer('L2', 4)\n",
    "\n",
    "neuron1.connect_to(neuron2)\n",
    "neuron1.connect_to(layer1)\n",
    "layer1.connect_to(neuron2)\n",
    "layer1.connect_to(layer2)\n",
    "\n",
    "print(neuron1)\n",
    "print(neuron2)\n",
    "print(layer1)\n",
    "print(layer2)"
   ]
  },
  {
   "cell_type": "code",
   "execution_count": null,
   "metadata": {},
   "outputs": [],
   "source": []
  }
 ],
 "metadata": {
  "kernelspec": {
   "display_name": "Python 3",
   "language": "python",
   "name": "python3"
  },
  "language_info": {
   "codemirror_mode": {
    "name": "ipython",
    "version": 3
   },
   "file_extension": ".py",
   "mimetype": "text/x-python",
   "name": "python",
   "nbconvert_exporter": "python",
   "pygments_lexer": "ipython3",
   "version": "3.8.16"
  }
 },
 "nbformat": 4,
 "nbformat_minor": 2
}
