{
 "cells": [
  {
   "cell_type": "markdown",
   "metadata": {},
   "source": [
    "# Structural Design Patterns"
   ]
  },
  {
   "cell_type": "markdown",
   "metadata": {},
   "source": [
    "Structural patterns deal with the structure of objects:\n",
    "\n",
    "- Class members, adherence to interfaces, etc.\n",
    "- Many patterns are wrappers that mimic the underlying class interface.\n",
    "- Stress the importance of good API design: usability, etc.\n",
    "\n",
    "Table of contents:\n",
    "\n",
    "- [Adapter](#adapter)\n",
    "  - Adapter: Point and Line Example\n",
    "  - Adapter with Caching\n",
    "- Bridge\n",
    "- Composite\n",
    "- Decorator\n",
    "- Facade\n",
    "- Flyweight\n",
    "- Proxy"
   ]
  },
  {
   "cell_type": "markdown",
   "metadata": {},
   "source": [
    "## Adapter"
   ]
  },
  {
   "cell_type": "markdown",
   "metadata": {},
   "source": [
    "An analogy of the Adapter are the physical power adapters:\n",
    "\n",
    "- The devices have different power requirements: 5V, 220V, 120V, plug type EU/US, etc.\n",
    "- We cannot modify our gadgets to support every possible interface!\n",
    "\n",
    "An adapter is a construct which adapts an existing interface X to conform the required interface Y."
   ]
  },
  {
   "cell_type": "markdown",
   "metadata": {},
   "source": [
    "### Adapter: Point and Line Example"
   ]
  },
  {
   "cell_type": "markdown",
   "metadata": {},
   "source": [
    "This example shows the interplay between a Point, Line and Rectangle class. The goal is to draw all the discrete Points of a Rectangle. To that end, we adapt the Line class (which is defined with start and end Points) to deliver all the discrete Points in it."
   ]
  },
  {
   "cell_type": "code",
   "execution_count": 19,
   "metadata": {},
   "outputs": [],
   "source": [
    "# Let's suppose we are given a class Point\n",
    "# and a function draw_point\n",
    "class Point:\n",
    "    def __init__(self, x: int, y: int):\n",
    "        self.y = y\n",
    "        self.x = x\n",
    "\n",
    "\n",
    "def draw_point(p):\n",
    "    print('.', end='')"
   ]
  },
  {
   "cell_type": "code",
   "execution_count": 20,
   "metadata": {},
   "outputs": [],
   "source": [
    "# Then, we build two more classes: Line and Rectangle\n",
    "# Both consist of Point elements in discrete coordinates\n",
    "# and we would like to draw all the points in a Rectangle\n",
    "# or a Line\n",
    "class Line:\n",
    "    def __init__(self, start, end):\n",
    "        self.end = end\n",
    "        self.start = start\n",
    "\n",
    "\n",
    "class Rectangle(list):\n",
    "    \"\"\" Represented as a list of lines. \"\"\"\n",
    "\n",
    "    def __init__(self, x: int, y: int, width: int, height: int):\n",
    "        super().__init__()\n",
    "        self.append(Line(Point(x, y), Point(x + width, y)))\n",
    "        self.append(Line(Point(x + width, y), Point(x + width, y + height)))\n",
    "        self.append(Line(Point(x, y), Point(x, y + height)))\n",
    "        self.append(Line(Point(x, y + height), Point(x + width, y + height)))\n",
    "\n",
    "\n",
    "# We want to draw the rectangles\n",
    "# But: rectangles consist of lines, which consist of points\n",
    "# and we want to use the draw_point function,\n",
    "# which draws a unique point each call.\n",
    "# We need a LineToPointAdapter, which converts a Line\n",
    "# defined with its start and end points to a set of points\n",
    "# lying between the start and end points\n",
    "def draw(rcs):\n",
    "    print(\"\\n\\n--- Drawing some stuff ---\\n\")\n",
    "    for rc in rcs:\n",
    "        for line in rc:\n",
    "            # We need a LineToPointAdapter!\n",
    "            pass"
   ]
  },
  {
   "cell_type": "code",
   "execution_count": 23,
   "metadata": {},
   "outputs": [],
   "source": [
    "# A Line is defined with a start and an end point\n",
    "# This adapter converts the line to a set of Points\n",
    "# between the start and end (included).\n",
    "class LineToPointAdapter(list):\n",
    "    count = 0\n",
    "\n",
    "    def __init__(self, line):\n",
    "        super().__init__()\n",
    "        self.count += 1\n",
    "        print(f'{self.count}: Generating points for line '\n",
    "              f'[{line.start.x},{line.start.y}]-->'\n",
    "              f'[{line.end.x},{line.end.y}]')\n",
    "\n",
    "        left = min(line.start.x, line.end.x)\n",
    "        right = max(line.start.x, line.end.x)\n",
    "        top = min(line.start.y, line.end.y)\n",
    "        bottom = min(line.start.y, line.end.y)\n",
    "\n",
    "        # Since we are dealing with rectangles\n",
    "        # lines can be either vertical or horizontal\n",
    "        if right - left == 0:\n",
    "            # Point and Line consist of int coordinates\n",
    "            # thus, range works\n",
    "            for y in range(top, bottom):\n",
    "                self.append(Point(left, y))\n",
    "        elif line.end.y - line.start.y == 0:\n",
    "            for x in range(left, right):\n",
    "                self.append(Point(x, top))\n",
    "\n",
    "\n",
    "\n",
    "def draw(rcs):\n",
    "    print(\"\\n\\n--- Drawing some stuff ---\\n\")\n",
    "    for rc in rcs:\n",
    "        for line in rc:\n",
    "            adapter = LineToPointAdapter(line)\n",
    "            for p in adapter:\n",
    "                draw_point(p)"
   ]
  },
  {
   "cell_type": "code",
   "execution_count": 24,
   "metadata": {},
   "outputs": [
    {
     "name": "stdout",
     "output_type": "stream",
     "text": [
      "\n",
      "\n",
      "--- Drawing some stuff ---\n",
      "\n",
      "1: Generating points for line [1,1]-->[11,1]\n",
      "..........1: Generating points for line [11,1]-->[11,11]\n",
      "1: Generating points for line [1,1]-->[1,11]\n",
      "1: Generating points for line [1,11]-->[11,11]\n",
      "..........1: Generating points for line [3,3]-->[9,3]\n",
      "......1: Generating points for line [9,3]-->[9,9]\n",
      "1: Generating points for line [3,3]-->[3,9]\n",
      "1: Generating points for line [3,9]-->[9,9]\n",
      "......\n",
      "\n",
      "--- Drawing some stuff ---\n",
      "\n",
      "1: Generating points for line [1,1]-->[11,1]\n",
      "..........1: Generating points for line [11,1]-->[11,11]\n",
      "1: Generating points for line [1,1]-->[1,11]\n",
      "1: Generating points for line [1,11]-->[11,11]\n",
      "..........1: Generating points for line [3,3]-->[9,3]\n",
      "......1: Generating points for line [9,3]-->[9,9]\n",
      "1: Generating points for line [3,3]-->[3,9]\n",
      "1: Generating points for line [3,9]-->[9,9]\n",
      "......"
     ]
    }
   ],
   "source": [
    "# __main__\n",
    "rs = [\n",
    "    Rectangle(1, 1, 10, 10),\n",
    "    Rectangle(3, 3, 6, 6)\n",
    "]\n",
    "draw(rs)\n",
    "draw(rs)"
   ]
  },
  {
   "cell_type": "markdown",
   "metadata": {},
   "source": [
    "### Adapter with Caching"
   ]
  },
  {
   "cell_type": "markdown",
   "metadata": {},
   "source": [
    "Adapters often lead to too many temporary objects which are re-generared once and again. To alleviate that innecessary effort, we can add a cache dictionary to our adapter."
   ]
  },
  {
   "cell_type": "code",
   "execution_count": 29,
   "metadata": {},
   "outputs": [],
   "source": [
    "# We add a caching dictionary to the Adapter\n",
    "# to avoid re-generating too many temporary objects\n",
    "# Note that it's not inherited from a list\n",
    "# because the information is saved in the cache dict!\n",
    "class LineToPointAdapter:\n",
    "    cache = {}\n",
    "\n",
    "    def __init__(self, line):\n",
    "        self.h = hash(line) # Compute the hash of the line = key\n",
    "        # Note: hash() works in two cases:\n",
    "        # - if the input is inmutable: int, float, string, etc.\n",
    "        # - if the input us mutable (list, class, etc.) it needs to have the __hash__ method implemented\n",
    "        if self.h in self.cache:\n",
    "            # Set of generated points is already in the cache!\n",
    "            return\n",
    "\n",
    "        # If the hash doesnt exist, the points were not generated\n",
    "        # thus, we need to generate them\n",
    "        super().__init__()\n",
    "        print(f'Generating points for line ' +\n",
    "              f'[{line.start.x},{line.start.y}]-->[{line.end.x},{line.end.y}]')\n",
    "\n",
    "        left = min(line.start.x, line.end.x)\n",
    "        right = max(line.start.x, line.end.x)\n",
    "        top = min(line.start.y, line.end.y)\n",
    "        bottom = min(line.start.y, line.end.y)\n",
    "\n",
    "        # List of points to store = value\n",
    "        points = []\n",
    "\n",
    "        if right - left == 0:\n",
    "            for y in range(top, bottom):\n",
    "                points.append(Point(left, y))\n",
    "        elif line.end.y - line.start.y == 0:\n",
    "            for x in range(left, right):\n",
    "                points.append(Point(x, top))\n",
    "\n",
    "        # Store key-value pair in dict\n",
    "        self.cache[self.h] = points\n",
    "\n",
    "    # Beforehand, we LinetoPointAdapter was inherited from a list\n",
    "    # Now, everything is in a dict\n",
    "    # Thus, we implement the dunder method __iter__\n",
    "    # to make possible iterating like in a list\n",
    "    def __iter__(self):\n",
    "        return iter(self.cache[self.h])"
   ]
  },
  {
   "cell_type": "code",
   "execution_count": 30,
   "metadata": {},
   "outputs": [],
   "source": [
    "# Same as before\n",
    "def draw(rcs):\n",
    "    print('Drawing some rectangles...')\n",
    "    for rc in rcs:\n",
    "        for line in rc:\n",
    "            adapter = LineToPointAdapter(line)\n",
    "            for p in adapter:\n",
    "                draw_point(p)\n",
    "    print('\\n')"
   ]
  },
  {
   "cell_type": "code",
   "execution_count": 31,
   "metadata": {},
   "outputs": [
    {
     "name": "stdout",
     "output_type": "stream",
     "text": [
      "Drawing some rectangles...\n",
      "Generating points for line [1,1]-->[11,1]\n",
      "..........Generating points for line [11,1]-->[11,11]\n",
      "Generating points for line [1,1]-->[1,11]\n",
      "Generating points for line [1,11]-->[11,11]\n",
      "..........Generating points for line [3,3]-->[9,3]\n",
      "......Generating points for line [9,3]-->[9,9]\n",
      "Generating points for line [3,3]-->[3,9]\n",
      "Generating points for line [3,9]-->[9,9]\n",
      "......\n",
      "\n",
      "Drawing some rectangles...\n",
      "................................\n",
      "\n",
      "99894889213\n"
     ]
    }
   ],
   "source": [
    "# __main__\n",
    "rs = [\n",
    "    Rectangle(1, 1, 10, 10),\n",
    "    Rectangle(3, 3, 6, 6)\n",
    "]\n",
    "\n",
    "draw(rs)\n",
    "draw(rs)\n",
    "\n",
    "# Can define your own hashes or use the defaults\n",
    "# Note: hash() works in two cases:\n",
    "# - if the input is inmutable: int, float, string, etc.\n",
    "# - if the input us mutable (list, class, etc.) it needs to have the __hash__ method implemented\n",
    "# In our case, Line is a list\n",
    "print(hash(Line(Point(1, 1), Point(10, 10))))"
   ]
  },
  {
   "cell_type": "code",
   "execution_count": null,
   "metadata": {},
   "outputs": [],
   "source": []
  }
 ],
 "metadata": {
  "kernelspec": {
   "display_name": "Python 3",
   "language": "python",
   "name": "python3"
  },
  "language_info": {
   "codemirror_mode": {
    "name": "ipython",
    "version": 3
   },
   "file_extension": ".py",
   "mimetype": "text/x-python",
   "name": "python",
   "nbconvert_exporter": "python",
   "pygments_lexer": "ipython3",
   "version": "3.8.16"
  }
 },
 "nbformat": 4,
 "nbformat_minor": 2
}
