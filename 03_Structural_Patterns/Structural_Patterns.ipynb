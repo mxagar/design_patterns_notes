{
 "cells": [
  {
   "cell_type": "markdown",
   "metadata": {},
   "source": [
    "# Structural Design Patterns"
   ]
  },
  {
   "cell_type": "markdown",
   "metadata": {},
   "source": [
    "Structural patterns deal with the structure of objects:\n",
    "\n",
    "- Class members, adherence to interfaces, etc.\n",
    "- Many patterns are wrappers that mimic the underlying class interface.\n",
    "- Stress the importance of good API design: usability, etc.\n",
    "\n",
    "Table of contents:\n",
    "\n",
    "- [Adapter](#adapter)\n",
    "  - Adapter: Point and Line Example\n",
    "  - Adapter with Caching\n",
    "- [Bridge](#bridge)\n",
    "- [Composite](#composite)\n",
    "  - Example: Geometric Shapes\n",
    "  - Example: Neural Networks\n",
    "- [Decorator](#decorator)\n",
    "  - Functional Decorators in Python: `@time_it`\n",
    "  - (Classic) Class Decorators\n",
    "  - Dynamic Decorators\n",
    "- [Facade](#facade)\n",
    "- [Flyweight](#flyweight)\n",
    "- [Proxy](#proxy)"
   ]
  },
  {
   "cell_type": "markdown",
   "metadata": {},
   "source": [
    "## Adapter"
   ]
  },
  {
   "cell_type": "markdown",
   "metadata": {},
   "source": [
    "An analogy of the Adapter are the physical power adapters:\n",
    "\n",
    "- The devices have different power requirements: 5V, 220V, 120V, plug type EU/US, etc.\n",
    "- We cannot modify our gadgets to support every possible interface!\n",
    "\n",
    "An adapter is a construct which adapts an existing interface X to conform the required interface Y."
   ]
  },
  {
   "cell_type": "markdown",
   "metadata": {},
   "source": [
    "### Adapter: Point and Line Example"
   ]
  },
  {
   "cell_type": "markdown",
   "metadata": {},
   "source": [
    "This example shows the interplay between a Point, Line and Rectangle class. The goal is to draw all the discrete Points of a Rectangle. To that end, we adapt the Line class (which is defined with start and end Points) to deliver all the discrete Points in it."
   ]
  },
  {
   "cell_type": "code",
   "execution_count": 19,
   "metadata": {},
   "outputs": [],
   "source": [
    "# Let's suppose we are given a class Point\n",
    "# and a function draw_point\n",
    "class Point:\n",
    "    def __init__(self, x: int, y: int):\n",
    "        self.y = y\n",
    "        self.x = x\n",
    "\n",
    "\n",
    "def draw_point(p):\n",
    "    print('.', end='')"
   ]
  },
  {
   "cell_type": "code",
   "execution_count": 20,
   "metadata": {},
   "outputs": [],
   "source": [
    "# Then, we build two more classes: Line and Rectangle\n",
    "# Both consist of Point elements in discrete coordinates\n",
    "# and we would like to draw all the points in a Rectangle\n",
    "# or a Line\n",
    "class Line:\n",
    "    def __init__(self, start, end):\n",
    "        self.end = end\n",
    "        self.start = start\n",
    "\n",
    "\n",
    "class Rectangle(list):\n",
    "    \"\"\" Represented as a list of lines. \"\"\"\n",
    "\n",
    "    def __init__(self, x: int, y: int, width: int, height: int):\n",
    "        super().__init__()\n",
    "        self.append(Line(Point(x, y), Point(x + width, y)))\n",
    "        self.append(Line(Point(x + width, y), Point(x + width, y + height)))\n",
    "        self.append(Line(Point(x, y), Point(x, y + height)))\n",
    "        self.append(Line(Point(x, y + height), Point(x + width, y + height)))\n",
    "\n",
    "\n",
    "# We want to draw the rectangles\n",
    "# But: rectangles consist of lines, which consist of points\n",
    "# and we want to use the draw_point function,\n",
    "# which draws a unique point each call.\n",
    "# We need a LineToPointAdapter, which converts a Line\n",
    "# defined with its start and end points to a set of points\n",
    "# lying between the start and end points\n",
    "def draw(rcs):\n",
    "    print(\"\\n\\n--- Drawing some stuff ---\\n\")\n",
    "    for rc in rcs:\n",
    "        for line in rc:\n",
    "            # We need a LineToPointAdapter!\n",
    "            pass"
   ]
  },
  {
   "cell_type": "code",
   "execution_count": 23,
   "metadata": {},
   "outputs": [],
   "source": [
    "# A Line is defined with a start and an end point\n",
    "# This adapter converts the line to a set of Points\n",
    "# between the start and end (included).\n",
    "class LineToPointAdapter(list):\n",
    "    count = 0\n",
    "\n",
    "    def __init__(self, line):\n",
    "        super().__init__()\n",
    "        self.count += 1\n",
    "        print(f'{self.count}: Generating points for line '\n",
    "              f'[{line.start.x},{line.start.y}]-->'\n",
    "              f'[{line.end.x},{line.end.y}]')\n",
    "\n",
    "        left = min(line.start.x, line.end.x)\n",
    "        right = max(line.start.x, line.end.x)\n",
    "        top = min(line.start.y, line.end.y)\n",
    "        bottom = min(line.start.y, line.end.y)\n",
    "\n",
    "        # Since we are dealing with rectangles\n",
    "        # lines can be either vertical or horizontal\n",
    "        if right - left == 0:\n",
    "            # Point and Line consist of int coordinates\n",
    "            # thus, range works\n",
    "            for y in range(top, bottom):\n",
    "                self.append(Point(left, y))\n",
    "        elif line.end.y - line.start.y == 0:\n",
    "            for x in range(left, right):\n",
    "                self.append(Point(x, top))\n",
    "\n",
    "\n",
    "\n",
    "def draw(rcs):\n",
    "    print(\"\\n\\n--- Drawing some stuff ---\\n\")\n",
    "    for rc in rcs:\n",
    "        for line in rc:\n",
    "            adapter = LineToPointAdapter(line)\n",
    "            for p in adapter:\n",
    "                draw_point(p)"
   ]
  },
  {
   "cell_type": "code",
   "execution_count": 24,
   "metadata": {},
   "outputs": [
    {
     "name": "stdout",
     "output_type": "stream",
     "text": [
      "\n",
      "\n",
      "--- Drawing some stuff ---\n",
      "\n",
      "1: Generating points for line [1,1]-->[11,1]\n",
      "..........1: Generating points for line [11,1]-->[11,11]\n",
      "1: Generating points for line [1,1]-->[1,11]\n",
      "1: Generating points for line [1,11]-->[11,11]\n",
      "..........1: Generating points for line [3,3]-->[9,3]\n",
      "......1: Generating points for line [9,3]-->[9,9]\n",
      "1: Generating points for line [3,3]-->[3,9]\n",
      "1: Generating points for line [3,9]-->[9,9]\n",
      "......\n",
      "\n",
      "--- Drawing some stuff ---\n",
      "\n",
      "1: Generating points for line [1,1]-->[11,1]\n",
      "..........1: Generating points for line [11,1]-->[11,11]\n",
      "1: Generating points for line [1,1]-->[1,11]\n",
      "1: Generating points for line [1,11]-->[11,11]\n",
      "..........1: Generating points for line [3,3]-->[9,3]\n",
      "......1: Generating points for line [9,3]-->[9,9]\n",
      "1: Generating points for line [3,3]-->[3,9]\n",
      "1: Generating points for line [3,9]-->[9,9]\n",
      "......"
     ]
    }
   ],
   "source": [
    "# __main__\n",
    "rs = [\n",
    "    Rectangle(1, 1, 10, 10),\n",
    "    Rectangle(3, 3, 6, 6)\n",
    "]\n",
    "draw(rs)\n",
    "draw(rs)"
   ]
  },
  {
   "cell_type": "markdown",
   "metadata": {},
   "source": [
    "### Adapter with Caching"
   ]
  },
  {
   "cell_type": "markdown",
   "metadata": {},
   "source": [
    "Adapters often lead to too many temporary objects which are re-generared once and again. To alleviate that innecessary effort, we can add a cache dictionary to our adapter."
   ]
  },
  {
   "cell_type": "code",
   "execution_count": 29,
   "metadata": {},
   "outputs": [],
   "source": [
    "# We add a caching dictionary to the Adapter\n",
    "# to avoid re-generating too many temporary objects\n",
    "# Note that it's not inherited from a list\n",
    "# because the information is saved in the cache dict!\n",
    "class LineToPointAdapter:\n",
    "    cache = {}\n",
    "\n",
    "    def __init__(self, line):\n",
    "        self.h = hash(line) # Compute the hash of the line = key\n",
    "        # Note: hash() works in two cases:\n",
    "        # - if the input is inmutable: int, float, string, etc.\n",
    "        # - if the input us mutable (list, class, etc.) it needs to have the __hash__ method implemented\n",
    "        if self.h in self.cache:\n",
    "            # Set of generated points is already in the cache!\n",
    "            return\n",
    "\n",
    "        # If the hash doesnt exist, the points were not generated\n",
    "        # thus, we need to generate them\n",
    "        super().__init__()\n",
    "        print(f'Generating points for line ' +\n",
    "              f'[{line.start.x},{line.start.y}]-->[{line.end.x},{line.end.y}]')\n",
    "\n",
    "        left = min(line.start.x, line.end.x)\n",
    "        right = max(line.start.x, line.end.x)\n",
    "        top = min(line.start.y, line.end.y)\n",
    "        bottom = min(line.start.y, line.end.y)\n",
    "\n",
    "        # List of points to store = value\n",
    "        points = []\n",
    "\n",
    "        if right - left == 0:\n",
    "            for y in range(top, bottom):\n",
    "                points.append(Point(left, y))\n",
    "        elif line.end.y - line.start.y == 0:\n",
    "            for x in range(left, right):\n",
    "                points.append(Point(x, top))\n",
    "\n",
    "        # Store key-value pair in dict\n",
    "        self.cache[self.h] = points\n",
    "\n",
    "    # Beforehand, we LinetoPointAdapter was inherited from a list\n",
    "    # Now, everything is in a dict\n",
    "    # Thus, we implement the dunder method __iter__\n",
    "    # to make possible iterating like in a list\n",
    "    def __iter__(self):\n",
    "        return iter(self.cache[self.h])"
   ]
  },
  {
   "cell_type": "code",
   "execution_count": 30,
   "metadata": {},
   "outputs": [],
   "source": [
    "# Same as before\n",
    "def draw(rcs):\n",
    "    print('Drawing some rectangles...')\n",
    "    for rc in rcs:\n",
    "        for line in rc:\n",
    "            adapter = LineToPointAdapter(line)\n",
    "            for p in adapter:\n",
    "                draw_point(p)\n",
    "    print('\\n')"
   ]
  },
  {
   "cell_type": "code",
   "execution_count": 31,
   "metadata": {},
   "outputs": [
    {
     "name": "stdout",
     "output_type": "stream",
     "text": [
      "Drawing some rectangles...\n",
      "Generating points for line [1,1]-->[11,1]\n",
      "..........Generating points for line [11,1]-->[11,11]\n",
      "Generating points for line [1,1]-->[1,11]\n",
      "Generating points for line [1,11]-->[11,11]\n",
      "..........Generating points for line [3,3]-->[9,3]\n",
      "......Generating points for line [9,3]-->[9,9]\n",
      "Generating points for line [3,3]-->[3,9]\n",
      "Generating points for line [3,9]-->[9,9]\n",
      "......\n",
      "\n",
      "Drawing some rectangles...\n",
      "................................\n",
      "\n",
      "99894889213\n"
     ]
    }
   ],
   "source": [
    "# __main__\n",
    "rs = [\n",
    "    Rectangle(1, 1, 10, 10),\n",
    "    Rectangle(3, 3, 6, 6)\n",
    "]\n",
    "\n",
    "draw(rs)\n",
    "draw(rs)\n",
    "\n",
    "# Can define your own hashes or use the defaults\n",
    "# Note: hash() works in two cases:\n",
    "# - if the input is inmutable: int, float, string, etc.\n",
    "# - if the input us mutable (list, class, etc.) it needs to have the __hash__ method implemented\n",
    "# In our case, Line is a list\n",
    "print(hash(Line(Point(1, 1), Point(10, 10))))"
   ]
  },
  {
   "cell_type": "markdown",
   "metadata": {},
   "source": [
    "## Bridge"
   ]
  },
  {
   "cell_type": "markdown",
   "metadata": {},
   "source": [
    "Bridges connect components together through abstractions:\n",
    "\n",
    "- A Bridge prevents a *Cartesian product* complexity explosion; example:\n",
    "  - Base class `ThreadScheduler`\n",
    "  - Can be pre-emptive or cooperative\n",
    "  - Can run on Windows or Unix\n",
    "  - We end-up having a 2x2 scenario: `WindowsPTS`, `UnixPTS`, `WindowsCTS`, `UnixCTS`\n",
    "  - So, for each new dimension with levels we add, the number of classes explode, since all the levels need to be combined.\n",
    "- The Bridge pattern avoids entity explosion.\n",
    "- We don't rely on inheritance as much, instead, we use **inheritance + aggregation**.\n",
    "\n",
    "Essentially, a Bridge is a mechanism that decouples an interface or abstraction (which can be a hierarchy) from an implementation (which can be another hierarchy), or in other words, it connects two hierarchies of different classes so that we don't need to performa Cartesian product of the class hierarchies. We can understand a Bridge as a stronger form of encapsulation.\n",
    "\n",
    "The downside of the Bridge pattern is often that we break the Open-Close SOLID principle with it. However, that's the price we need to pay to avoid complexity explosion. When the Open-Close principle is broken, we need to modify many classes every time we add a new one."
   ]
  },
  {
   "cell_type": "code",
   "execution_count": 36,
   "metadata": {},
   "outputs": [
    {
     "name": "stdout",
     "output_type": "stream",
     "text": [
      "Drawing a circle of radius 5\n",
      "Drawing a circle of radius 10\n",
      "Drawing pixels for circle of radius 5\n",
      "Drawing pixels for circle of radius 10\n",
      "Drawing a square of side 5\n",
      "Drawing a square of side 10\n",
      "Drawing pixels for a square of side 5\n",
      "Drawing pixels for a square of side 10\n"
     ]
    }
   ],
   "source": [
    "# We want to ender Circles and Squares: Circle, Square\n",
    "# Each can be rendered in vector or raster form: Vector, Raster\n",
    "# We could define these renderers:\n",
    "# CircleVectorRender, CircleRasterRender, SquareVectorRender, SquareRasterRender\n",
    "# But that doesn't make sense, the complexity explodes!\n",
    "# To avoid that, we implement the Bridge pattern\n",
    "# HOWEVER: Note that we break the Open-Close principle!\n",
    "# That is the price we need to pay to avoid complexit explosion.\n",
    "# Since the Open-Close principle is broken, whenever we add a new Shape,\n",
    "# e.g., Triangle, we need to modify Renderer, VectorRenderer, RasterRenderer.\n",
    "from abc import ABC, abstractmethod\n",
    "\n",
    "# Abstract base class of the renderer\n",
    "class Renderer(ABC):\n",
    "    @abstractmethod\n",
    "    def render_circle(self, radius):\n",
    "        pass\n",
    "\n",
    "    @abstractmethod\n",
    "    def render_square(self, side):\n",
    "        pass\n",
    "\n",
    "# Vector Renderer inherits from base class and implements 2 shapes\n",
    "# However, note that the render_ functions don't take a class (Circle, Square)\n",
    "# but a parameter essential to defining the class (radius, side)!\n",
    "class VectorRenderer(Renderer):\n",
    "    def render_circle(self, radius):\n",
    "        print(f'Drawing a circle of radius {radius}')\n",
    "\n",
    "    def render_square(self, side):\n",
    "        print(f'Drawing a square of side {side}')\n",
    "\n",
    "# Raster Renderer inherits from base class and implements 2 shapes\n",
    "# However, note that the render_ functions don't take a class (Circle, Square)\n",
    "# but a parameter essential to defining the class (radius, side)!\n",
    "class RasterRenderer(Renderer):\n",
    "    def render_circle(self, radius):\n",
    "        print(f'Drawing pixels for circle of radius {radius}')\n",
    "\n",
    "    def render_square(self, side):\n",
    "        print(f'Drawing pixels for a square of side {side}')\n",
    "\n",
    "# THIS IS WHERE WE CREATE THE BRIDGE\n",
    "# In a base class Shape we pass the Renderer as dependency/parameter!\n",
    "# Then, we inherit concrete Shapes and each can take\n",
    "# a Vector/ResterRenderer, which contain the methods for plotting each shape!\n",
    "class Shape:\n",
    "    def __init__(self, renderer):\n",
    "        self.renderer = renderer\n",
    "\n",
    "    def draw(self): pass\n",
    "    def resize(self, factor): pass\n",
    "\n",
    "\n",
    "class Circle(Shape):\n",
    "    def __init__(self, renderer, radius):\n",
    "        super().__init__(renderer)\n",
    "        self.radius = radius\n",
    "\n",
    "    def draw(self):\n",
    "        self.renderer.render_circle(self.radius)\n",
    "\n",
    "    def resize(self, factor):\n",
    "        self.radius *= factor\n",
    "\n",
    "\n",
    "class Square(Shape):\n",
    "    def __init__(self, renderer, side):\n",
    "        super().__init__(renderer)\n",
    "        self.side = side\n",
    "\n",
    "    def draw(self):\n",
    "        self.renderer.render_square(self.side)\n",
    "\n",
    "    def resize(self, factor):\n",
    "        self.side *= factor\n",
    "\n",
    "# __main__\n",
    "raster = RasterRenderer()\n",
    "vector = VectorRenderer()\n",
    "\n",
    "circle = Circle(vector, 5)\n",
    "circle.draw()\n",
    "circle.resize(2)\n",
    "circle.draw()\n",
    "\n",
    "circle = Circle(raster, 5)\n",
    "circle.draw()\n",
    "circle.resize(2)\n",
    "circle.draw()\n",
    "\n",
    "square = Square(vector, 5)\n",
    "square.draw()\n",
    "square.resize(2)\n",
    "square.draw()\n",
    "\n",
    "square = Square(raster, 5)\n",
    "square.draw()\n",
    "square.resize(2)\n",
    "square.draw()\n"
   ]
  },
  {
   "cell_type": "markdown",
   "metadata": {},
   "source": [
    "## Composite"
   ]
  },
  {
   "cell_type": "markdown",
   "metadata": {},
   "source": [
    "The goal of a Composite is to treat individual/scalar and aggregate/collection objects uniformly:\n",
    "\n",
    "- Objects use other object's properties/members through inheritance and composition.\n",
    "- Composition lets us make compound objects.\n",
    "  - Example: a mathematical expression composed of simple expressions or a grouping of shapes that consists of several shapes.\n",
    "- **The Composite design pattern is used to treat both single (scalar) and composite objects uniformly.**\n",
    "  - That is: a scalar/single object and a collection/sequence structure that containes those objects have common APIs.\n",
    "\n",
    "Note: scalar is used here in the sense of a single object (e.g., a class or a object of a class), whereas group means a collection (e.g., a list).\n",
    "\n",
    "The main difference between a scalar/single object and a group/collection object which can contain both the scalar/single objects and groups is **iteration**. Therefore, we need to somehow support iteration in the Composite:\n",
    "\n",
    "- We can do that by defining the scalar objects as classes that contain iterables.\n",
    "- Or we can also do that by defining the `__iter__` method in the scalar object."
   ]
  },
  {
   "cell_type": "markdown",
   "metadata": {},
   "source": [
    "### Example: Geometric Shapes"
   ]
  },
  {
   "cell_type": "markdown",
   "metadata": {},
   "source": [
    "The Composite pattern allows to compose objects into tree structures to represent part-whole hierarchies. It lets clients treat individual objects and compositions of objects uniformly. Key components, focusing on the example of the **Geometric Shapes**:\n",
    "\n",
    "- **Component**: The base class (`GraphicObject` in the example with the Geometric Shapes) represents both individual objects and their compositions.\n",
    "\n",
    "- **Leaf**: The individual objects that can be part of a composition. In the following example, `Circle` and `Square` are leaf objects.\n",
    "\n",
    "- **Composite**: The composite objects that can contain other objects. In the following example, `GraphicObject` itself acts as a composite that can contain other `GraphicObject` instances.\n",
    "\n",
    "In the example of the Geometric Shapes, the coposite pattern is accomplised thanks to 3-4 key points:\n",
    "\n",
    "- We define a member list which contains children: `self.children = []`\n",
    "- We add derived class objects to the `children` list, as well as the `GraphicObject` type itsself, creating nested structures.\n",
    "- We apply a recursive printing `_print` that traverses all the children and the children of the children; that's a depth-first tree traverse."
   ]
  },
  {
   "cell_type": "code",
   "execution_count": 41,
   "metadata": {},
   "outputs": [],
   "source": [
    "# This base class can be 2 things:\n",
    "# a single shape (derived) or a group/collection of shapes\n",
    "class GraphicObject:\n",
    "    def __init__(self, color=None):\n",
    "        self.color = color\n",
    "        self.children = [] # Key line for Composite\n",
    "        self._name = 'Group' # We will override the name in inherited shapes\n",
    "\n",
    "    @property\n",
    "    def name(self):\n",
    "        return self._name\n",
    "\n",
    "    @name.setter\n",
    "    def name(self, name):\n",
    "        self._name = name\n",
    "\n",
    "    # We create a list of ObjectColor items\n",
    "    # preceeded by the depth represented with the number of *\n",
    "    # This recursive function is a tree traverse\n",
    "    # and it's a key part of the Composite pattern\n",
    "    def _print(self, items, depth):\n",
    "        items.append('*' * depth)\n",
    "        if self.color:\n",
    "            items.append(self.color)\n",
    "        items.append(f'{self.name}\\n')\n",
    "        for child in self.children:\n",
    "            child._print(items, depth + 1)\n",
    "\n",
    "    def __str__(self):\n",
    "        items = []\n",
    "        self._print(items, 0)\n",
    "        return ''.join(items)\n",
    "\n",
    "\n",
    "class Circle(GraphicObject):\n",
    "    @property\n",
    "    def name(self):\n",
    "        return 'Circle'\n",
    "\n",
    "\n",
    "class Square(GraphicObject):\n",
    "    @property\n",
    "    def name(self):\n",
    "        return 'Square'"
   ]
  },
  {
   "cell_type": "code",
   "execution_count": 43,
   "metadata": {},
   "outputs": [
    {
     "name": "stdout",
     "output_type": "stream",
     "text": [
      "My Drawing\n",
      "*RedSquare\n",
      "*YellowCircle\n",
      "*Group\n",
      "**BlueCircle\n",
      "**BlueSquare\n",
      "\n"
     ]
    }
   ],
   "source": [
    "# __main__\n",
    "drawing = GraphicObject()\n",
    "#drawing._name = 'My Drawing'\n",
    "drawing.name = 'My Drawing'\n",
    "# Key line for Composite: we add a derived class object\n",
    "drawing.children.append(Square('Red'))\n",
    "drawing.children.append(Circle('Yellow'))\n",
    "\n",
    "group = GraphicObject()  # no name\n",
    "group.children.append(Circle('Blue'))\n",
    "group.children.append(Square('Blue'))\n",
    "# Key line for Composite: we add an object of the Composite class itself\n",
    "# creatiga nested structure\n",
    "drawing.children.append(group) # we are appending a group to it!\n",
    "\n",
    "# The composite pattern is used here!\n",
    "# With a simple print() that uses __str__\n",
    "# the complete tree structure consisting of leaf objects\n",
    "# and group/composite objects is traversed and printed!\n",
    "print(drawing)"
   ]
  },
  {
   "cell_type": "markdown",
   "metadata": {},
   "source": [
    "### Example: Neural Networks"
   ]
  },
  {
   "cell_type": "markdown",
   "metadata": {},
   "source": [
    "This is a very interesting case of the Composite pattern in which a function/method that should work the same way for a scalar object (`Neuron`) and a collection of it (`NeuronLayer`), i.e., `connect_to`, is implemented in a bas class `Connectable` from which `Neuron` and `NeuronLayer` are derived. Additionally, we add `__iter__` to the scalar class (`Neuron`) so that it can be iterable in a for loop, as well as the collection (`NeuronLayer`)."
   ]
  },
  {
   "cell_type": "code",
   "execution_count": 47,
   "metadata": {},
   "outputs": [],
   "source": [
    "from abc import ABC\n",
    "from collections.abc import Iterable"
   ]
  },
  {
   "cell_type": "code",
   "execution_count": 49,
   "metadata": {},
   "outputs": [],
   "source": [
    "# A straightforward class for a Neuron\n",
    "# and a Neuron Layer\n",
    "class Neuron():\n",
    "    def __init__(self, name):\n",
    "        self.name = name\n",
    "        self.inputs = []\n",
    "        self.outputs = []\n",
    "\n",
    "    def connect_to(self, other):\n",
    "        self.outputs.append(other)\n",
    "        other.inputs.append(self)\n",
    "\n",
    "    def __str__(self):\n",
    "        return f'{self.name}, {len(self.inputs)} inputs, {len(self.outputs)} outputs'\n",
    "\n",
    "class NeuronLayer(list):\n",
    "    def __init__(self, name, count):\n",
    "        super().__init__()\n",
    "        self.name = name\n",
    "        for x in range(0, count):\n",
    "            self.append(Neuron(f'{name}-{x}'))\n",
    "\n",
    "    def __str__(self):\n",
    "        return f'{self.name} with {len(self)} neurons'\n",
    "    \n",
    "# However, this classes as they are defined\n",
    "# make it difficult to perform the following operations\n",
    "#   neuron1.connect_to(neuron2)\n",
    "#   neuron1.connect_to(layer1)\n",
    "#   layer1.connect_to(neuron2)\n",
    "#   layer1.connect_to(layer2)\n",
    "# \n",
    "# That is difficult, because we would have to implement\n",
    "# different connect_to methods, where the types are checked.\n",
    "# Instead, we use the Composite pattern"
   ]
  },
  {
   "cell_type": "code",
   "execution_count": 50,
   "metadata": {},
   "outputs": [],
   "source": [
    "# We define this class _only_ to share the \n",
    "# function connect_to with any other class which is inherited with it\n",
    "class Connectable(Iterable, ABC):\n",
    "    def connect_to(self, other):\n",
    "        if self == other: # cannot connect to yourself\n",
    "            return\n",
    "\n",
    "        for s in self:\n",
    "            for o in other:\n",
    "                s.outputs.append(o)\n",
    "                o.inputs.append(s)\n",
    "\n",
    "# Since Neuron is inherited from Connectable, \n",
    "# it has the connect_to method!\n",
    "class Neuron(Connectable):\n",
    "    def __init__(self, name):\n",
    "        self.name = name\n",
    "        self.inputs = []\n",
    "        self.outputs = []\n",
    "\n",
    "    # With this function we turn a scalar value into a collection of 1\n",
    "    # We need it because connect_to expects a collection in the for-loop!\n",
    "    def __iter__(self):\n",
    "        yield self\n",
    "\n",
    "    def __str__(self):\n",
    "        return f'{self.name}, {len(self.inputs)} inputs, {len(self.outputs)} outputs'\n",
    "\n",
    "# Since NeuronLayer is inherited from Connectable, \n",
    "# it has the connect_to method!\n",
    "class NeuronLayer(list, Connectable):\n",
    "    def __init__(self, name, count):\n",
    "        super().__init__()\n",
    "        self.name = name\n",
    "        for x in range(0, count):\n",
    "            self.append(Neuron(f'{name}-{x}'))\n",
    "\n",
    "    def __str__(self):\n",
    "        return f'{self.name} with {len(self)} neurons'"
   ]
  },
  {
   "cell_type": "code",
   "execution_count": 51,
   "metadata": {},
   "outputs": [
    {
     "name": "stdout",
     "output_type": "stream",
     "text": [
      "n1, 0 inputs, 4 outputs\n",
      "n2, 4 inputs, 0 outputs\n",
      "L1 with 3 neurons\n",
      "L2 with 4 neurons\n"
     ]
    }
   ],
   "source": [
    "# __main__\n",
    "\n",
    "neuron1 = Neuron('n1')\n",
    "neuron2 = Neuron('n2')\n",
    "layer1 = NeuronLayer('L1', 3)\n",
    "layer2 = NeuronLayer('L2', 4)\n",
    "\n",
    "neuron1.connect_to(neuron2)\n",
    "neuron1.connect_to(layer1)\n",
    "layer1.connect_to(neuron2)\n",
    "layer1.connect_to(layer2)\n",
    "\n",
    "print(neuron1)\n",
    "print(neuron2)\n",
    "print(layer1)\n",
    "print(layer2)"
   ]
  },
  {
   "cell_type": "markdown",
   "metadata": {},
   "source": [
    "## Decorator"
   ]
  },
  {
   "cell_type": "markdown",
   "metadata": {},
   "source": [
    "With a Decorator we add behavior to a class/function without altering it itself or without inheriting it.\n",
    "\n",
    "Motivation:\n",
    "\n",
    "- We want to augment an object with additional functionality.\n",
    "- We don't want to break the Open-Close principle, and we don't want to alter any existing code.\n",
    "- We want to keep the new functionality separate (Single Responsibility Principle).\n",
    "- We need to be able to interact with existing structures.\n",
    "- We have 2 main options:\n",
    "  - Inherit from required object (if possible).\n",
    "  - Build a Decorator, which simply references the decorated object(s).\n",
    "\n",
    "Decorators in Python are built-in, but as rather as functional decorators, not as general purpose decorators, as defined in this section."
   ]
  },
  {
   "cell_type": "markdown",
   "metadata": {},
   "source": [
    "### Functional Decorators in Python: `@time_it`"
   ]
  },
  {
   "cell_type": "code",
   "execution_count": 54,
   "metadata": {},
   "outputs": [],
   "source": [
    "import time\n",
    "\n",
    "# A (built-in) Python decorator is defined as a wrapper function\n",
    "# which takes a function as an argument\n",
    "# and an action is performed with that function\n",
    "def time_it(func):\n",
    "    def wrapper():\n",
    "        start = time.time()\n",
    "        result = func()\n",
    "        end = time.time()\n",
    "        print(f'{func.__name__} took {int((end-start)*1000)}ms')\n",
    "    return wrapper\n",
    "\n",
    "@time_it # equivalent: time_it(some_op())\n",
    "def some_op():\n",
    "    print('Starting op')\n",
    "    time.sleep(1)\n",
    "    print('We are done')\n",
    "    return 123"
   ]
  },
  {
   "cell_type": "code",
   "execution_count": 55,
   "metadata": {},
   "outputs": [
    {
     "name": "stdout",
     "output_type": "stream",
     "text": [
      "Starting op\n",
      "We are done\n",
      "some_op took 1007ms\n"
     ]
    }
   ],
   "source": [
    "# __main__\n",
    "# time_it(some_op)() # equivalent call\n",
    "some_op()"
   ]
  },
  {
   "cell_type": "markdown",
   "metadata": {},
   "source": [
    "### (Classic) Class Decorator"
   ]
  },
  {
   "cell_type": "markdown",
   "metadata": {},
   "source": [
    "The folowing example shows the classic class decorator, which works by defining a class which takes an underlying object and extends it with decorating functionality. However, it has two major problems:\n",
    "\n",
    "- We loose access to the underlying object structure!\n",
    "- Nothing prevents us from using the decorator more than once, which is not correct!"
   ]
  },
  {
   "cell_type": "code",
   "execution_count": 78,
   "metadata": {},
   "outputs": [],
   "source": [
    "from abc import ABC, abstractmethod\n",
    "\n",
    "\n",
    "# Abstract class, to be inherited and implemented\n",
    "class Shape(ABC):\n",
    "    @abstractmethod\n",
    "    def __str__(self):\n",
    "        return ''\n",
    "\n",
    "# Concrete class 1\n",
    "class Circle(Shape):\n",
    "    def __init__(self, radius=0.0):\n",
    "        self.radius = radius\n",
    "\n",
    "    def resize(self, factor):\n",
    "        self.radius *= factor\n",
    "\n",
    "    def __str__(self):\n",
    "        return f'A circle of radius {self.radius}'\n",
    "\n",
    "# Concrete class 2\n",
    "class Square(Shape):\n",
    "    def __init__(self, side):\n",
    "        self.side = side\n",
    "        \n",
    "    def resize(self, factor):\n",
    "        self.side *= factor\n",
    "\n",
    "    def __str__(self):\n",
    "        return f'A square with side {self.side}'"
   ]
  },
  {
   "cell_type": "code",
   "execution_count": 67,
   "metadata": {},
   "outputs": [],
   "source": [
    "# Decorator class 1\n",
    "# This is like a decorator because\n",
    "# we add color to any shape\n",
    "# IMPORTANT: ColoredShape is inherited from Shape!\n",
    "class ColoredShape(Shape):\n",
    "    def __init__(self, shape, color):\n",
    "        if isinstance(shape, ColoredShape):\n",
    "            raise Exception('Cannot apply ColoredDecorator twice')\n",
    "        self.shape = shape\n",
    "        self.color = color\n",
    "\n",
    "    def __str__(self):\n",
    "        return f'{self.shape} has the color {self.color}'\n",
    "\n",
    "# Decorator class 2\n",
    "# This is like a decorator because\n",
    "# we add transparency to any shape\n",
    "# IMPORTANT: TransparentShape is inherited from Shape!\n",
    "class TransparentShape(Shape):\n",
    "    def __init__(self, shape, transparency):\n",
    "        self.shape = shape\n",
    "        self.transparency = transparency\n",
    "\n",
    "    def __str__(self):\n",
    "        return f'{self.shape} has {self.transparency * 100.0}% transparency'"
   ]
  },
  {
   "cell_type": "code",
   "execution_count": 68,
   "metadata": {},
   "outputs": [
    {
     "name": "stdout",
     "output_type": "stream",
     "text": [
      "A circle of radius 2\n",
      "A circle of radius 2 has the color red\n"
     ]
    }
   ],
   "source": [
    "# __main__\n",
    "circle = Circle(2)\n",
    "print(circle)\n",
    "\n",
    "# Since Circle is inherited from Shape\n",
    "# we can use it with ColoredShape!\n",
    "# This s like a decorator\n",
    "red_circle = ColoredShape(circle, \"red\")\n",
    "print(red_circle)"
   ]
  },
  {
   "cell_type": "code",
   "execution_count": 69,
   "metadata": {},
   "outputs": [
    {
     "name": "stdout",
     "output_type": "stream",
     "text": [
      "A circle of radius 2 has the color red has 50.0% transparency\n"
     ]
    }
   ],
   "source": [
    "# Since ColoredShape is inherited from Shape\n",
    "# we can use it with TransparentShape!\n",
    "# This is like a decorator\n",
    "red_half_transparent_square = TransparentShape(red_circle, 0.5)\n",
    "print(red_half_transparent_square)"
   ]
  },
  {
   "cell_type": "code",
   "execution_count": 72,
   "metadata": {},
   "outputs": [
    {
     "ename": "AttributeError",
     "evalue": "'ColoredShape' object has no attribute 'resize'",
     "output_type": "error",
     "traceback": [
      "\u001b[1;31m---------------------------------------------------------------------------\u001b[0m",
      "\u001b[1;31mAttributeError\u001b[0m                            Traceback (most recent call last)",
      "Cell \u001b[1;32mIn[72], line 4\u001b[0m\n\u001b[0;32m      1\u001b[0m \u001b[38;5;66;03m# PROBLEM #1: \u001b[39;00m\n\u001b[0;32m      2\u001b[0m \u001b[38;5;66;03m# ColoredShape doesn't have resize(), as Circle and Square,\u001b[39;00m\n\u001b[0;32m      3\u001b[0m \u001b[38;5;66;03m# i.e., we cannot access the underlying object!\u001b[39;00m\n\u001b[1;32m----> 4\u001b[0m \u001b[43mred_circle\u001b[49m\u001b[38;5;241;43m.\u001b[39;49m\u001b[43mresize\u001b[49m(\u001b[38;5;241m3\u001b[39m)\n",
      "\u001b[1;31mAttributeError\u001b[0m: 'ColoredShape' object has no attribute 'resize'"
     ]
    }
   ],
   "source": [
    "# PROBLEM #1: \n",
    "# ColoredShape doesn't have resize(), as Circle and Square,\n",
    "# i.e., we cannot access the underlying object!\n",
    "red_circle.resize(3) # AttributeError!"
   ]
  },
  {
   "cell_type": "code",
   "execution_count": 73,
   "metadata": {},
   "outputs": [
    {
     "ename": "Exception",
     "evalue": "Cannot apply ColoredDecorator twice",
     "output_type": "error",
     "traceback": [
      "\u001b[1;31m---------------------------------------------------------------------------\u001b[0m",
      "\u001b[1;31mException\u001b[0m                                 Traceback (most recent call last)",
      "Cell \u001b[1;32mIn[73], line 3\u001b[0m\n\u001b[0;32m      1\u001b[0m \u001b[38;5;66;03m# PROBLEM #2:\u001b[39;00m\n\u001b[0;32m      2\u001b[0m \u001b[38;5;66;03m# Nothing prevents double application!\u001b[39;00m\n\u001b[1;32m----> 3\u001b[0m mixed \u001b[38;5;241m=\u001b[39m \u001b[43mColoredShape\u001b[49m\u001b[43m(\u001b[49m\u001b[43mColoredShape\u001b[49m\u001b[43m(\u001b[49m\u001b[43mCircle\u001b[49m\u001b[43m(\u001b[49m\u001b[38;5;241;43m3\u001b[39;49m\u001b[43m)\u001b[49m\u001b[43m,\u001b[49m\u001b[43m \u001b[49m\u001b[38;5;124;43m'\u001b[39;49m\u001b[38;5;124;43mred\u001b[39;49m\u001b[38;5;124;43m'\u001b[39;49m\u001b[43m)\u001b[49m\u001b[43m,\u001b[49m\u001b[43m \u001b[49m\u001b[38;5;124;43m'\u001b[39;49m\u001b[38;5;124;43mblue\u001b[39;49m\u001b[38;5;124;43m'\u001b[39;49m\u001b[43m)\u001b[49m \u001b[38;5;66;03m# Exception!\u001b[39;00m\n",
      "Cell \u001b[1;32mIn[67], line 7\u001b[0m, in \u001b[0;36mColoredShape.__init__\u001b[1;34m(self, shape, color)\u001b[0m\n\u001b[0;32m      5\u001b[0m \u001b[38;5;28;01mdef\u001b[39;00m \u001b[38;5;21m__init__\u001b[39m(\u001b[38;5;28mself\u001b[39m, shape, color):\n\u001b[0;32m      6\u001b[0m     \u001b[38;5;28;01mif\u001b[39;00m \u001b[38;5;28misinstance\u001b[39m(shape, ColoredShape):\n\u001b[1;32m----> 7\u001b[0m         \u001b[38;5;28;01mraise\u001b[39;00m \u001b[38;5;167;01mException\u001b[39;00m(\u001b[38;5;124m'\u001b[39m\u001b[38;5;124mCannot apply ColoredDecorator twice\u001b[39m\u001b[38;5;124m'\u001b[39m)\n\u001b[0;32m      8\u001b[0m     \u001b[38;5;28mself\u001b[39m\u001b[38;5;241m.\u001b[39mshape \u001b[38;5;241m=\u001b[39m shape\n\u001b[0;32m      9\u001b[0m     \u001b[38;5;28mself\u001b[39m\u001b[38;5;241m.\u001b[39mcolor \u001b[38;5;241m=\u001b[39m color\n",
      "\u001b[1;31mException\u001b[0m: Cannot apply ColoredDecorator twice"
     ]
    }
   ],
   "source": [
    "# PROBLEM #2:\n",
    "# Nothing prevents double application!\n",
    "mixed = ColoredShape(ColoredShape(Circle(3), 'red'), 'blue') # Exception!"
   ]
  },
  {
   "cell_type": "markdown",
   "metadata": {},
   "source": [
    "### Dynamic Class Decorator: `FileWithLogging`"
   ]
  },
  {
   "cell_type": "markdown",
   "metadata": {},
   "source": [
    "Dynamic class decorators alleviate the major problem of the classic class decorators: the underlying object becomes inaccessible.\n",
    "\n",
    "In the following example, `FileWithLogging` is implemented, where a `File` object is passed as unique attribute; i.e., `FileWithLoging` is the decorator and it keeps a reference to the object it decorates: `File`. Then, the API of `File` is re-implemented inside `FileWithLogging` by adding extra logging functionalities. In that process, `File` is not really modified, but we build a wrapper around it.\n",
    "\n",
    "Thus, basically, the Decorator re-implements the complete class API by adding extra functionality. Note: maybe we don't need to re-implement the complete API, but the functions/methods we know we're going to use!"
   ]
  },
  {
   "cell_type": "code",
   "execution_count": 79,
   "metadata": {},
   "outputs": [],
   "source": [
    "class FileWithLogging:\n",
    "    def __init__(self, file):\n",
    "        self.file = file\n",
    "\n",
    "    def writelines(self, strings):\n",
    "        self.file.writelines(strings)\n",
    "        # This is the logging functionality we add\n",
    "        print(f'wrote {len(strings)} lines')\n",
    "\n",
    "    # So that it works, we need to overwrite all\n",
    "    # the methods of a file handler...\n",
    "    def __iter__(self):\n",
    "        return self.file.__iter__()\n",
    "\n",
    "    def __next__(self):\n",
    "        return self.file.__next__()\n",
    "\n",
    "    def __getattr__(self, item):\n",
    "        # We get the file object/attribute using __dict__\n",
    "        # because that way we don't rely on how it is implemented:\n",
    "        # If the file attribute in the FileWithLogging class \n",
    "        # or its parent classes is implemented as a descriptor \n",
    "        # (e.g., using property), the direct attribute access version \n",
    "        # will invoke the descriptor's methods, \n",
    "        # whereas the dictionary access version will not.\n",
    "        # Direct attribute access might be slightly slower \n",
    "        # than dictionary access due to the additional steps \n",
    "        # involved in the attribute lookup process,\n",
    "        # such as checking for descriptors. \n",
    "        # However, this difference is usually negligible.\n",
    "        return getattr(self.__dict__['file'], item)\n",
    "\n",
    "    def __setattr__(self, key, value):\n",
    "        if key == 'file':\n",
    "            self.__dict__[key] = value\n",
    "        else:\n",
    "            setattr(self.__dict__['file'], key)\n",
    "\n",
    "    def __delattr__(self, item):\n",
    "        delattr(self.__dict__['file'], item)"
   ]
  },
  {
   "cell_type": "code",
   "execution_count": 77,
   "metadata": {},
   "outputs": [
    {
     "name": "stdout",
     "output_type": "stream",
     "text": [
      "wrote 2 lines\n"
     ]
    }
   ],
   "source": [
    "# __main__\n",
    "file = FileWithLogging(open('hello.txt', 'w'))\n",
    "file.writelines(['hello', 'world'])\n",
    "file.write('testing') # wrote 2 lines\n",
    "file.close()"
   ]
  },
  {
   "cell_type": "markdown",
   "metadata": {},
   "source": []
  },
  {
   "cell_type": "code",
   "execution_count": null,
   "metadata": {},
   "outputs": [],
   "source": []
  }
 ],
 "metadata": {
  "kernelspec": {
   "display_name": "Python 3",
   "language": "python",
   "name": "python3"
  },
  "language_info": {
   "codemirror_mode": {
    "name": "ipython",
    "version": 3
   },
   "file_extension": ".py",
   "mimetype": "text/x-python",
   "name": "python",
   "nbconvert_exporter": "python",
   "pygments_lexer": "ipython3",
   "version": "3.8.16"
  }
 },
 "nbformat": 4,
 "nbformat_minor": 2
}
