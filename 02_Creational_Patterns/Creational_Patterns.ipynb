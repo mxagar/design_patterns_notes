{
 "cells": [
  {
   "cell_type": "markdown",
   "metadata": {},
   "source": [
    "# Creational Patterns"
   ]
  },
  {
   "cell_type": "markdown",
   "metadata": {},
   "source": [
    "Creational patterns deal with the creation/construction of objects:\n",
    "\n",
    "- The creation can be explicit (e.g., via constructors) of implicit (e.g., dependency injection, reflection, etc.).\n",
    "- The creation can be wholesale (single statement creates the object) or piecewise, i.e., it is done step-by-step in a more complicated process.\n",
    "\n",
    "Table of contents:\n",
    "\n",
    "- [Builder](#Builder)\n",
    "  - Example: HTML Builder\n",
    "  - Car Builder\n",
    "  - Person Builder\n",
    "  - Product Builder with Director\n",
    "- [Factories](#Factories)\n",
    "  - Factory Methods\n",
    "  - Factory Classes\n",
    "  - Abstract Factory\n",
    "- [Prototype](#Prototype)\n",
    "  - Prototype Factory\n",
    "- [Singleton](#Singleton)\n",
    "  - Singleton Allocator\n",
    "  - Singleton Decorator\n",
    "  - Singleton Metaclass\n",
    "  - Monostate\n",
    "  - Singleton Testability"
   ]
  },
  {
   "cell_type": "markdown",
   "metadata": {},
   "source": [
    "## Builder"
   ]
  },
  {
   "cell_type": "markdown",
   "metadata": {},
   "source": [
    "Sometimes objects are easy to create and they are built witha single initializer call. However, in some other cases creating an object is more complicated\n",
    "\n",
    "- it requires several steps\n",
    "- or it dozens of parameters are involved\n",
    "- or a piecewise construction is required.\n",
    "\n",
    "The **Builder** provides an API for constructing an object step-by-step: when piecewise object construction is complicated, it provides an API for doing it succinctly.\n",
    "\n",
    "Different examples are provided: an HTML builder, a Car builder and a Person builder. In general:\n",
    "\n",
    "- We have an Object class and a Builder class which builds those objects.\n",
    "- The Builder has methods that added components to the Object.\n",
    "- We can either explicitly use the Builder or return it from the Object using a `create()` static method.\n",
    "- We can make the builder fluent so that the methods that add components are chained.\n",
    "- Different facets of an Object can be built with different Builder classes that work in tandem.\n",
    "- We can define a Director class which `constructs()` different types of Objects."
   ]
  },
  {
   "cell_type": "markdown",
   "metadata": {},
   "source": [
    "### Example: HTML Builder"
   ]
  },
  {
   "cell_type": "code",
   "execution_count": 1,
   "metadata": {},
   "outputs": [
    {
     "name": "stdout",
     "output_type": "stream",
     "text": [
      "<p>hello</p>\n"
     ]
    }
   ],
   "source": [
    "# If we want to build a simple HTML paragraph using a list\n",
    "hello = 'hello'\n",
    "parts = ['<p>', hello, '</p>']\n",
    "print(''.join(parts))"
   ]
  },
  {
   "cell_type": "code",
   "execution_count": 2,
   "metadata": {},
   "outputs": [
    {
     "name": "stdout",
     "output_type": "stream",
     "text": [
      "<ul>\n",
      "  <li>hello</li>\n",
      "  <li>world</li>\n",
      "</ul>\n"
     ]
    }
   ],
   "source": [
    "# Now I want an HTML list with 2 words in it\n",
    "words = ['hello', 'world']\n",
    "parts = ['<ul>']\n",
    "for w in words:\n",
    "    parts.append(f'  <li>{w}</li>')\n",
    "parts.append('</ul>')\n",
    "print('\\n'.join(parts))"
   ]
  },
  {
   "cell_type": "markdown",
   "metadata": {},
   "source": [
    "We see that the complexity explodes as we start having rich HTML pages with different components. Solution, we define classes that carry out the building task together: `HtmlElement` and `HtmlBuilder`."
   ]
  },
  {
   "cell_type": "code",
   "execution_count": 1,
   "metadata": {},
   "outputs": [],
   "source": [
    "class HtmlElement:\n",
    "    indent_size = 2\n",
    "\n",
    "    def __init__(self, name=\"\", text=\"\"):\n",
    "        self.name = name # div, p, etc.\n",
    "        self.text = text\n",
    "        self.elements = [] # we will populate this list\n",
    "\n",
    "    def __str(self, indent):\n",
    "        \"\"\"This function recursively calls itself to produce\n",
    "        the HTML page text:\n",
    "        \n",
    "        <{name}>\n",
    "        {text}\n",
    "            <{name}>\n",
    "            {text}\n",
    "                <{name}>\n",
    "                {text}\n",
    "                    ...\n",
    "                </{name}>                \n",
    "            </{name}>\n",
    "        </{name}>\n",
    "        \"\"\"\n",
    "        lines = []\n",
    "        i = ' ' * (indent * self.indent_size)\n",
    "        lines.append(f'{i}<{self.name}>')\n",
    "\n",
    "        if self.text:\n",
    "            i1 = ' ' * ((indent + 1) * self.indent_size)\n",
    "            lines.append(f'{i1}{self.text}')\n",
    "\n",
    "        for e in self.elements:\n",
    "            # ATTENTION: recursive call with updated indentation\n",
    "            lines.append(e.__str(indent + 1))\n",
    "\n",
    "        lines.append(f'{i}</{self.name}>')\n",
    "        return '\\n'.join(lines)\n",
    "\n",
    "    def __str__(self):\n",
    "        # The goal is to print the HTML element\n",
    "        # but for that we need the correct indentation.\n",
    "        # To that end, we call an internal __str()\n",
    "        # which takes the correct indentation\n",
    "        return self.__str(0)\n",
    "\n",
    "    # This is added at the end, as an add on.\n",
    "    # In some way this is breaking the Open-Close principle\n",
    "    # and it seems a circular dependency injection.\n",
    "    # However, it allows to give us an alternative to just use\n",
    "    # HtmlElement only, i.e., the user interacts only with\n",
    "    # HtmlElement and not HtmlBuilder.\n",
    "    # Keep in mind that HtmlBuilder is used behind the scenes all the time\n",
    "    # but the user would have to invoke it only in the beginning.\n",
    "    # Alternative solution: use a factory, shown later. \n",
    "    @staticmethod\n",
    "    def create(name):\n",
    "        return HtmlBuilder(name)"
   ]
  },
  {
   "cell_type": "code",
   "execution_count": 7,
   "metadata": {},
   "outputs": [],
   "source": [
    "class HtmlBuilder:\n",
    "    #__root = HtmlElement()\n",
    "\n",
    "    def __init__(self, root_name):\n",
    "        self.__root = HtmlElement()\n",
    "        self.root_name = root_name\n",
    "        self.__root.name = root_name\n",
    "\n",
    "    # Building API: ordinary, not fluent\n",
    "    def add_child(self, child_name, child_text):\n",
    "        self.__root.elements.append(\n",
    "            HtmlElement(child_name, child_text)\n",
    "        )\n",
    "\n",
    "    # Building API: fluent\n",
    "    # A fluent API allows to chain calls one after another:\n",
    "    # builder.add_child_fluent(...).add_child_fluent(...)\n",
    "    def add_child_fluent(self, child_name, child_text):\n",
    "        self.__root.elements.append(\n",
    "            HtmlElement(child_name, child_text)\n",
    "        )\n",
    "        # Fluent APIs are created by returning self\n",
    "        return self\n",
    "\n",
    "    def clear(self):\n",
    "        self.__root = HtmlElement(name=self.root_name)\n",
    "\n",
    "    def __str__(self):\n",
    "        return str(self.__root)"
   ]
  },
  {
   "cell_type": "code",
   "execution_count": 11,
   "metadata": {},
   "outputs": [
    {
     "name": "stdout",
     "output_type": "stream",
     "text": [
      "Ordinary builder:\n",
      "<ul>\n",
      "  <li>\n",
      "    hello\n",
      "  </li>\n",
      "  <li>\n",
      "    world\n",
      "  </li>\n",
      "</ul>\n"
     ]
    }
   ],
   "source": [
    "# Ordinary non-fluent builder\n",
    "#builder = HtmlBuilder('ul')\n",
    "builder = HtmlElement.create('ul')\n",
    "builder.add_child('li', 'hello')\n",
    "builder.add_child('li', 'world')\n",
    "print('Ordinary builder:')\n",
    "print(builder)"
   ]
  },
  {
   "cell_type": "code",
   "execution_count": 12,
   "metadata": {},
   "outputs": [
    {
     "name": "stdout",
     "output_type": "stream",
     "text": [
      "Fluent builder:\n",
      "<ul>\n",
      "  <li>\n",
      "    hello\n",
      "  </li>\n",
      "  <li>\n",
      "    world\n",
      "  </li>\n",
      "</ul>\n"
     ]
    }
   ],
   "source": [
    "# Fluent builder\n",
    "builder.clear()\n",
    "(builder\n",
    "    .add_child_fluent('li', 'hello')\n",
    "    .add_child_fluent('li', 'world')\n",
    ")\n",
    "print('Fluent builder:')\n",
    "print(builder)"
   ]
  },
  {
   "cell_type": "code",
   "execution_count": 16,
   "metadata": {},
   "outputs": [
    {
     "name": "stdout",
     "output_type": "stream",
     "text": [
      "<ul>\n",
      "  <li>\n",
      "    hello\n",
      "  </li>\n",
      "  <li>\n",
      "    world\n",
      "  </li>\n",
      "</ul>\n"
     ]
    }
   ],
   "source": [
    "# This alternative would allow us to remove the static method create()\n",
    "# from HtmlElement, which solves breaking the Open-Close principle.\n",
    "class HtmlElementFactory:\n",
    "    @staticmethod\n",
    "    def create(name):\n",
    "        return HtmlBuilder(name)\n",
    "\n",
    "# Usage\n",
    "builder = HtmlElementFactory.create('ul')\n",
    "builder.add_child_fluent('li', 'hello').add_child_fluent('li', 'world')\n",
    "print(builder)"
   ]
  },
  {
   "cell_type": "markdown",
   "metadata": {},
   "source": [
    "### Example: Car Builder"
   ]
  },
  {
   "cell_type": "code",
   "execution_count": 14,
   "metadata": {},
   "outputs": [
    {
     "name": "stdout",
     "output_type": "stream",
     "text": [
      "Engine: V8, Wheels: Sports, GPS: Installed\n",
      "Engine: V4, Wheels: Regular, GPS: Installed\n"
     ]
    }
   ],
   "source": [
    "class Car:\n",
    "    def __init__(self):\n",
    "        self.features = []\n",
    "\n",
    "    def add_feature(self, feature):\n",
    "        self.features.append(feature)\n",
    "\n",
    "    def __str__(self):\n",
    "        return ', '.join(self.features)\n",
    "\n",
    "class CarBuilder:\n",
    "    def __init__(self):\n",
    "        self.car = Car()\n",
    "\n",
    "    def add_engine(self, engine):\n",
    "        self.car.add_feature(f\"Engine: {engine}\")\n",
    "        return self\n",
    "\n",
    "    def add_wheels(self, wheels):\n",
    "        self.car.add_feature(f\"Wheels: {wheels}\")\n",
    "        return self\n",
    "\n",
    "    def add_gps(self):\n",
    "        self.car.add_feature(\"GPS: Installed\")\n",
    "        return self\n",
    "\n",
    "    def build(self):\n",
    "        return self.car\n",
    "\n",
    "class Director:\n",
    "    def construct_sports_car(self, builder):\n",
    "        return builder.add_engine('V8').add_wheels('Sports').add_gps().build()\n",
    "\n",
    "    def construct_family_car(self, builder):\n",
    "        return builder.add_engine('V4').add_wheels('Regular').add_gps().build()\n",
    "\n",
    "# Usage\n",
    "director = Director()\n",
    "sports_car_builder = CarBuilder()\n",
    "family_car_builder = CarBuilder()\n",
    "\n",
    "sports_car = director.construct_sports_car(sports_car_builder)\n",
    "family_car = director.construct_family_car(family_car_builder)\n",
    "\n",
    "print(sports_car)  # Engine: V8, Wheels: Sports, GPS: Installed\n",
    "print(family_car)  # Engine: V4, Wheels: Regular, GPS: Installed\n"
   ]
  },
  {
   "cell_type": "markdown",
   "metadata": {},
   "source": [
    "### Example: Person Builder"
   ]
  },
  {
   "cell_type": "code",
   "execution_count": 2,
   "metadata": {},
   "outputs": [],
   "source": [
    "class Person:\n",
    "    def __init__(self):\n",
    "        print('Creating an instance of Person')\n",
    "        # address\n",
    "        self.street_address = None\n",
    "        self.postcode = None\n",
    "        self.city = None\n",
    "        # employment info\n",
    "        self.company_name = None\n",
    "        self.position = None\n",
    "        self.annual_income = None\n",
    "\n",
    "    def __str__(self) -> str:\n",
    "        return f'Address: {self.street_address}, {self.postcode}, {self.city}\\n' +\\\n",
    "            f'Employed at {self.company_name} as a {self.position} earning {self.annual_income}'"
   ]
  },
  {
   "cell_type": "code",
   "execution_count": 3,
   "metadata": {},
   "outputs": [],
   "source": [
    "class PersonBuilder:  # facade\n",
    "    def __init__(self, person=None):\n",
    "        if person is None:\n",
    "            self.person = Person()\n",
    "        else:\n",
    "            self.person = person\n",
    "\n",
    "    def build(self):\n",
    "        return self.person\n",
    "    \n",
    "    # It seems circular, but it's not:\n",
    "    # PersonAddressBuilder and PersonJobBuilder\n",
    "    # extend PersonBuilder by inheritance.\n",
    "    # They all depend on Person, which is passed\n",
    "    # through the constructor.\n",
    "    # However, it is violating the Open-Close principle!\n",
    "    # We could solve it with inheritance; see builder_inheritance.py\n",
    "    @property\n",
    "    def lives(self):\n",
    "        return PersonAddressBuilder(self.person)\n",
    "\n",
    "    @property\n",
    "    def works(self):\n",
    "        return PersonJobBuilder(self.person)"
   ]
  },
  {
   "cell_type": "code",
   "execution_count": 4,
   "metadata": {},
   "outputs": [],
   "source": [
    "class PersonJobBuilder(PersonBuilder):\n",
    "    def __init__(self, person):\n",
    "        super().__init__(person)\n",
    "\n",
    "    def at(self, company_name):\n",
    "        self.person.company_name = company_name\n",
    "        return self\n",
    "\n",
    "    def as_a(self, position):\n",
    "        self.person.position = position\n",
    "        return self\n",
    "\n",
    "    def earning(self, annual_income):\n",
    "        self.person.annual_income = annual_income\n",
    "        return self"
   ]
  },
  {
   "cell_type": "code",
   "execution_count": 5,
   "metadata": {},
   "outputs": [],
   "source": [
    "class PersonAddressBuilder(PersonBuilder):\n",
    "    def __init__(self, person):\n",
    "        super().__init__(person)\n",
    "\n",
    "    def at(self, street_address):\n",
    "        self.person.street_address = street_address\n",
    "        return self\n",
    "\n",
    "    def with_postcode(self, postcode):\n",
    "        self.person.postcode = postcode\n",
    "        return self\n",
    "\n",
    "    def in_city(self, city):\n",
    "        self.person.city = city\n",
    "        return self"
   ]
  },
  {
   "cell_type": "code",
   "execution_count": 6,
   "metadata": {},
   "outputs": [
    {
     "name": "stdout",
     "output_type": "stream",
     "text": [
      "Creating an instance of Person\n",
      "Address: 123 London Road, SW12BC, London\n",
      "Employed at Fabrikam as a Engineer earning 123000\n",
      "Creating an instance of Person\n",
      "Address: None, None, None\n",
      "Employed at None as a None earning None\n"
     ]
    }
   ],
   "source": [
    "# Usage\n",
    "pb = PersonBuilder()\n",
    "p = pb\\\n",
    "    .lives\\\n",
    "        .at('123 London Road')\\\n",
    "        .in_city('London')\\\n",
    "        .with_postcode('SW12BC')\\\n",
    "    .works\\\n",
    "        .at('Fabrikam')\\\n",
    "        .as_a('Engineer')\\\n",
    "        .earning(123000)\\\n",
    "    .build()\n",
    "print(p)\n",
    "person2 = PersonBuilder().build()\n",
    "print(person2)"
   ]
  },
  {
   "cell_type": "markdown",
   "metadata": {},
   "source": [
    "### Product Builder with Director"
   ]
  },
  {
   "cell_type": "markdown",
   "metadata": {},
   "source": [
    "Another example, taken from [All 23 OOP software design patterns with examples in Python](https://medium.com/@cautaerts/all-23-oop-software-design-patterns-with-examples-in-python-cac1d3f4f4d5):\n",
    "\n",
    "- **Product**: This is the complex object under construction. It contains the parts that make up the product.\n",
    "\n",
    "- **Builder**: The Builder defines the abstract interface for creating parts of the Product object. It declares the construction steps that are common to all types of builders. This allows the Director to construct products using any builder that implements this interface, without knowing the specific details of the construction process.\n",
    "\n",
    "- **ConcreteBuilder**: The ConcreteBuilder implements the Builder interface and provides specific implementations for the construction steps. It keeps track of the product it creates and is responsible for assembling the parts into the final product. It knows the specifics of the parts it is supposed to create and how to assemble them.\n",
    "\n",
    "- **Director**: The Director is responsible for managing the construction process. It uses a Builder instance to construct a product step-by-step. The Director doesn’t need to know the details of the product's construction, it only needs to ensure that the construction steps are followed in the correct order."
   ]
  },
  {
   "cell_type": "code",
   "execution_count": 7,
   "metadata": {},
   "outputs": [
    {
     "name": "stdout",
     "output_type": "stream",
     "text": [
      "['Part A', 'Part B']\n"
     ]
    }
   ],
   "source": [
    "from abc import ABC, abstractmethod\n",
    "from typing import List\n",
    "\n",
    "class Product:\n",
    "   def __init__(self) -> None:\n",
    "       self._parts: List[str] = []\n",
    "\n",
    "   def add_part(self, part: str) -> None:\n",
    "       self._parts.append(part)\n",
    "\n",
    "   def get_parts(self) -> List[str]:\n",
    "       return self._parts\n",
    "\n",
    "class Builder(ABC):\n",
    "    @abstractmethod\n",
    "    def build_part_a(self) -> None:\n",
    "        pass\n",
    "\n",
    "    @abstractmethod\n",
    "    def build_part_b(self) -> None:\n",
    "        pass\n",
    "\n",
    "    @abstractmethod\n",
    "    def get_result(self) -> Product:\n",
    "        pass\n",
    "\n",
    "class ConcreteBuilder(Builder):\n",
    "    def __init__(self) -> None:\n",
    "        self.product = Product()\n",
    "\n",
    "    def build_part_a(self) -> None:\n",
    "        self.product.add_part(\"Part A\")\n",
    "\n",
    "    def build_part_b(self) -> None:\n",
    "        self.product.add_part(\"Part B\")\n",
    "\n",
    "    def get_result(self) -> Product:\n",
    "        return self.product\n",
    "\n",
    "class Director:\n",
    "    def __init__(self, builder: Builder) -> None:\n",
    "        self._builder = builder\n",
    "\n",
    "    def construct(self) -> None:\n",
    "        self._builder.build_part_a()\n",
    "        self._builder.build_part_b()\n",
    "\n",
    "# Example usage\n",
    "builder = ConcreteBuilder()\n",
    "director = Director(builder)\n",
    "director.construct()\n",
    "product = builder.get_result()\n",
    "\n",
    "print(product.get_parts())  # Output: ['Part A', 'Part B']\n"
   ]
  },
  {
   "cell_type": "markdown",
   "metadata": {},
   "source": [
    "## Factories"
   ]
  },
  {
   "cell_type": "markdown",
   "metadata": {},
   "source": [
    "A Factory is a component responsible solely for the wholesale (not piecewise) creation of objects.\n",
    "\n",
    "- Sometimes object creation logic becomes too convoluted.\n",
    "- Class initialization with `__init__()` is indeed a bit limited:\n",
    "  - Name is always `__init__()`.\n",
    "  - Cannot be overloaded with same sets of arguments with different names\n",
    "  - Can turn into an optional parameter hell.\n",
    "- Solution: Factories - wholesale object creation (non-piecewise, i.e., not defined in steps, unlike Builder) that can be outsourced to\n",
    "  - a set separate methods: **factory methods**;\n",
    "  - that can may exist in a separate class **Factory**, which contains the factory methods;\n",
    "  - And we can create a hierarchy of factories, i.e., **Abstract Factories**, which are factory classes created for abstract and derived object classes.\n",
    "\n",
    "In the following, two examples are shown to illustrate the abovementioned 3 concepts:\n",
    "\n",
    "- Point class: Factory Methods & Classes\n",
    "- Hot drink class: Abstract Factory"
   ]
  },
  {
   "cell_type": "markdown",
   "metadata": {},
   "source": [
    "### Factory Methods"
   ]
  },
  {
   "cell_type": "markdown",
   "metadata": {},
   "source": [
    "Instead of having massive constructors which take large amounts of parameters, the idea is to have smaller static methods that take subsets of those parameters and use them to build internally the object, which usually requires a minor subset of all parameters to represent the object state."
   ]
  },
  {
   "cell_type": "code",
   "execution_count": 8,
   "metadata": {},
   "outputs": [],
   "source": [
    "# Let's consider a Point, which can be expressed in Cartesian\n",
    "# or polar coordinates. Unfortunately though,\n",
    "# we can only define a unique __init__ constructor\n",
    "class Point:\n",
    "    def __init__(self, x, y):\n",
    "        self.x = x\n",
    "        self.y = y"
   ]
  },
  {
   "cell_type": "code",
   "execution_count": 16,
   "metadata": {},
   "outputs": [],
   "source": [
    "from enum import Enum\n",
    "import math\n",
    "\n",
    "# One quick and dirty implementation would be to pass\n",
    "# a system argument and treat the other arguments\n",
    "# differently.\n",
    "# BUT that's an issue, because it complicates the usage\n",
    "# and everything is more confusing\n",
    "class CoordinateSystem(Enum):\n",
    "    CARTESIAN = 1\n",
    "    POLAR = 2\n",
    "    \n",
    "class Point:\n",
    "    def __init__(self, a, b, system=CoordinateSystem.CARTESIAN):\n",
    "        if system == CoordinateSystem.CARTESIAN:\n",
    "            self.x = a\n",
    "            self.y = b\n",
    "        elif system == CoordinateSystem.POLAR:\n",
    "            self.x = a * math.sin(b)\n",
    "            self.y = a * math.cos(b)"
   ]
  },
  {
   "cell_type": "code",
   "execution_count": 17,
   "metadata": {},
   "outputs": [],
   "source": [
    "# Instead of doing the above,\n",
    "# we create factory methods inside (static methods)\n",
    "# which deal with the correct coordinate system\n",
    "# and return an object of the class itself!\n",
    "class Point:\n",
    "\n",
    "    # We take the previous massive/extended constructor\n",
    "    # but we could actually simplify it to the first version!\n",
    "    def __init__(self, a, b, system=CoordinateSystem.CARTESIAN):\n",
    "        if system == CoordinateSystem.CARTESIAN:\n",
    "            self.x = a\n",
    "            self.y = b\n",
    "        elif system == CoordinateSystem.POLAR:\n",
    "            self.x = a * math.sin(b)\n",
    "            self.y = a * math.cos(b)\n",
    "    \n",
    "    # Factory method 1\n",
    "    @staticmethod\n",
    "    def new_cartesian_point(x, y):\n",
    "        return Point(x, y)\n",
    "\n",
    "    # Factory method 2\n",
    "    @staticmethod\n",
    "    def new_polar_point(rho, theta):\n",
    "        return Point(rho * math.sin(theta), rho * math.cos(theta))\n",
    "\n",
    "    def __str__(self):\n",
    "        return f'x: {self.x}, y: {self.y}'\n"
   ]
  },
  {
   "cell_type": "code",
   "execution_count": 18,
   "metadata": {},
   "outputs": [
    {
     "name": "stdout",
     "output_type": "stream",
     "text": [
      "x: 2, y: 3\n",
      "x: 1.9486672666692673, y: 2.280941885233319\n"
     ]
    }
   ],
   "source": [
    "p1 = Point(2, 3, CoordinateSystem.CARTESIAN) # Extended constructor\n",
    "p2 = Point.new_cartesian_point(1, 2) # Factory Method 1\n",
    "p2 = Point.new_polar_point(3, 0.707) # Factory Method 2\n",
    "print(p1)\n",
    "print(p2)"
   ]
  },
  {
   "cell_type": "markdown",
   "metadata": {},
   "source": [
    "### Factory Class"
   ]
  },
  {
   "cell_type": "markdown",
   "metadata": {},
   "source": [
    "When we start having many factory methods it makes sense to build a class with all of them; that way, everything is more organized and clear. We can even nest that class internally to the object class so that it is clear where it belongs."
   ]
  },
  {
   "cell_type": "code",
   "execution_count": 19,
   "metadata": {},
   "outputs": [],
   "source": [
    "# When we start having many factory methods\n",
    "# it makes sense to build a class with all of them;\n",
    "# that way, everything is more organized and clear\n",
    "class PointFactory:\n",
    "    @staticmethod\n",
    "    def new_cartesian_point(x, y):\n",
    "        return Point(x, y)\n",
    "\n",
    "    @staticmethod\n",
    "    def new_polar_point(rho, theta):\n",
    "        return Point(rho * math.sin(theta), rho * math.cos(theta))"
   ]
  },
  {
   "cell_type": "code",
   "execution_count": 21,
   "metadata": {},
   "outputs": [
    {
     "name": "stdout",
     "output_type": "stream",
     "text": [
      "x: 0.479425538604203, y: 0.8775825618903728\n"
     ]
    }
   ],
   "source": [
    "p3 = PointFactory.new_polar_point(1, 0.5) # Factory Class -> Factory Method\n",
    "print(p3)"
   ]
  },
  {
   "cell_type": "code",
   "execution_count": 28,
   "metadata": {},
   "outputs": [],
   "source": [
    "# Since the Factory class is separate from the Object class\n",
    "# if we want to make sure that it is not lost\n",
    "# we can even include it into the object class itself\n",
    "class Point:\n",
    "    def __init__(self, x, y):\n",
    "       self.x = x\n",
    "       self.y = y\n",
    "\n",
    "    def __str__(self):\n",
    "        return f'x: {self.x}, y: {self.y}'\n",
    "\n",
    "    class Factory:\n",
    "        @staticmethod\n",
    "        def new_cartesian_point(x, y):\n",
    "            return Point(x, y)\n",
    "\n",
    "        @staticmethod\n",
    "        def new_polar_point(rho, theta):\n",
    "            return Point(rho * math.sin(theta), rho * math.cos(theta))"
   ]
  },
  {
   "cell_type": "code",
   "execution_count": 29,
   "metadata": {},
   "outputs": [
    {
     "name": "stdout",
     "output_type": "stream",
     "text": [
      "x: 0.479425538604203, y: 0.8775825618903728\n"
     ]
    }
   ],
   "source": [
    "p4 = Point.Factory.new_polar_point(1, 0.5) # Object -> Factory Class -> Factory Method\n",
    "print(p4)"
   ]
  },
  {
   "cell_type": "markdown",
   "metadata": {},
   "source": [
    "### Abstract Factory"
   ]
  },
  {
   "cell_type": "markdown",
   "metadata": {},
   "source": [
    "Idea: if you have a hierarchy of types, then you can have also a hierarchy of factories."
   ]
  },
  {
   "cell_type": "code",
   "execution_count": 35,
   "metadata": {},
   "outputs": [],
   "source": [
    "from abc import ABC, abstractmethod\n",
    "from typing import Type, Dict\n",
    "\n",
    "# Abstract Object\n",
    "class HotDrink(ABC):\n",
    "    @abstractmethod\n",
    "    def consume(self):\n",
    "        pass\n",
    "\n",
    "# Concrete Object 1\n",
    "class Tea(HotDrink):\n",
    "    def consume(self):\n",
    "        print(\"This tea is nice but I'd prefer it with milk\")\n",
    "\n",
    "# Concrete Object 2\n",
    "class Coffee(HotDrink):\n",
    "    def consume(self):\n",
    "        print('This coffee is delicious')\n",
    "\n",
    "# Abstract Object Factory\n",
    "class HotDrinkFactory(ABC):\n",
    "    @abstractmethod\n",
    "    def prepare(self, amount: int) -> HotDrink:\n",
    "        pass\n",
    "\n",
    "# Concrete Object 1 Factory\n",
    "class TeaFactory(HotDrinkFactory):\n",
    "    def prepare(self, amount: int) -> Tea:\n",
    "        print(f'Put in tea bag, boil water, pour {amount}ml, enjoy!')\n",
    "        return Tea()\n",
    "\n",
    "# Concrete Object 2 Factory\n",
    "class CoffeeFactory(HotDrinkFactory):\n",
    "    def prepare(self, amount: int) -> Coffee:\n",
    "        print(f'Grind some beans, boil water, pour {amount}ml, enjoy!')\n",
    "        return Coffee()"
   ]
  },
  {
   "cell_type": "code",
   "execution_count": 36,
   "metadata": {},
   "outputs": [],
   "source": [
    "# Then, we need a function that uses all of them!\n",
    "# We could even create a class HotDrinkMachine\n",
    "# which has make_drink() as method, as done below\n",
    "def make_drink(type):\n",
    "    if type == 'tea':\n",
    "        return TeaFactory().prepare(200)\n",
    "    elif type == 'coffee':\n",
    "        return CoffeeFactory().prepare(50)\n",
    "    else:\n",
    "        return None"
   ]
  },
  {
   "cell_type": "code",
   "execution_count": 41,
   "metadata": {},
   "outputs": [
    {
     "name": "stdout",
     "output_type": "stream",
     "text": [
      "Put in tea bag, boil water, pour 200ml, enjoy!\n",
      "This tea is nice but I'd prefer it with milk\n"
     ]
    }
   ],
   "source": [
    "# Usage\n",
    "drink = make_drink(\"tea\")\n",
    "drink.consume()"
   ]
  },
  {
   "cell_type": "code",
   "execution_count": 38,
   "metadata": {},
   "outputs": [],
   "source": [
    "# HotDrinkMachine class, which contains make_drink()\n",
    "# Additionally, we add the functionality of adding new Factories!\n",
    "class HotDrinkMachine:\n",
    "    def __init__(self):\n",
    "        self.factories: Dict[str, Type[HotDrinkFactory]] = {\n",
    "            'tea': TeaFactory,\n",
    "            'coffee': CoffeeFactory\n",
    "        }\n",
    "    \n",
    "    def add_factory(self, drink_type: str, factory: Type[HotDrinkFactory]) -> None:\n",
    "        self.factories[drink_type] = factory\n",
    "    \n",
    "    def make_drink(self, drink_type: str, amount: int) -> HotDrink:\n",
    "        factory = self.factories.get(drink_type)\n",
    "        if not factory:\n",
    "            raise ValueError(f\"No factory found for drink type: {drink_type}\")\n",
    "        return factory().prepare(amount)"
   ]
  },
  {
   "cell_type": "code",
   "execution_count": 39,
   "metadata": {},
   "outputs": [
    {
     "name": "stdout",
     "output_type": "stream",
     "text": [
      "Put in tea bag, boil water, pour 200ml, enjoy!\n",
      "This tea is nice but I'd prefer it with milk\n",
      "Grind some beans, boil water, pour 50ml, enjoy!\n",
      "This coffee is delicious\n"
     ]
    }
   ],
   "source": [
    "# Example usage with pre-defined factories\n",
    "machine = HotDrinkMachine()\n",
    "tea = machine.make_drink('tea', 200)\n",
    "tea.consume()\n",
    "\n",
    "coffee = machine.make_drink('coffee', 50)\n",
    "coffee.consume()"
   ]
  },
  {
   "cell_type": "code",
   "execution_count": 40,
   "metadata": {},
   "outputs": [
    {
     "name": "stdout",
     "output_type": "stream",
     "text": [
      "Mix chocolate powder with 250ml of hot water, enjoy!\n",
      "This hot chocolate is delightful!\n"
     ]
    }
   ],
   "source": [
    "# Now, we create a new Factory and add it!\n",
    "# With our HotDrinkMachine implementation we have achieved\n",
    "# adding a new drink type without modifying existing code,\n",
    "# i.e., we avoid breaking the Open-Close principle\n",
    "class HotChocolate(HotDrink):\n",
    "    def consume(self):\n",
    "        print('This hot chocolate is delightful!')\n",
    "\n",
    "class HotChocolateFactory(HotDrinkFactory):\n",
    "    def prepare(self, amount: int) -> HotChocolate:\n",
    "        print(f'Mix chocolate powder with {amount}ml of hot water, enjoy!')\n",
    "        return HotChocolate()\n",
    "\n",
    "# Adding the new factory to the machine\n",
    "machine.add_factory('hot_chocolate', HotChocolateFactory)\n",
    "hot_chocolate = machine.make_drink('hot_chocolate', 250)\n",
    "hot_chocolate.consume()"
   ]
  },
  {
   "cell_type": "markdown",
   "metadata": {},
   "source": [
    "## Prototype"
   ]
  },
  {
   "cell_type": "markdown",
   "metadata": {},
   "source": [
    "Prototype: We use them when it's easier to copy an existing object to fully initialize a new one. Thus, a Prototype is a partially or fully initialized object that we copy (*clone*) and make use of it:\n",
    "\n",
    "- Complicated objects (e.g., cars) aren't designed from scratch.\n",
    "  - They reiterate existing designs.\n",
    "- An existing (partially or fully constructed) design is a Prototype.\n",
    "- We want to copy it (*clone*), customize it, and start using it.\n",
    "  - It requires a *deep copy* support, i.e., a wholesale copy.\n",
    "  - Maybe the entire object is not created in the Prototype, but some parts only.\n",
    "- We make the *cloning* convenient: e.g., via a **Factory** (**Prototype Factory**):\n",
    "  - We define the Object class we'd like to clone.\n",
    "  - We deine a Factory class for it.\n",
    "  - In the Factory class, we partially construct some object templates.\n",
    "  - For each object template, we create static factory methods.\n",
    "  - Each static factory method clones == deep copies a template and customizes it.\n",
    "  - We have a nice and easy API for the users that creates complex objects with few lines of code."
   ]
  },
  {
   "cell_type": "code",
   "execution_count": 46,
   "metadata": {},
   "outputs": [],
   "source": [
    "import copy\n",
    "\n",
    "# Let's take the example of classes\n",
    "# for which we would like to have already\n",
    "# pre-conigured object instances\n",
    "class Address:\n",
    "    def __init__(self, street_address, city, country):\n",
    "        self.country = country\n",
    "        self.city = city\n",
    "        self.street_address = street_address\n",
    "\n",
    "    def __str__(self):\n",
    "        return f'{self.street_address}, {self.city}, {self.country}'\n",
    "    \n",
    "class Employee:\n",
    "    def __init__(self, name, address):\n",
    "        self.address = address\n",
    "        self.name = name\n",
    "\n",
    "    def __str__(self):\n",
    "        return f'{self.name} works at {self.address}'"
   ]
  },
  {
   "cell_type": "code",
   "execution_count": 47,
   "metadata": {},
   "outputs": [
    {
     "name": "stdout",
     "output_type": "stream",
     "text": [
      "John works at 123 London Road, London, UK\n",
      "John works at 123 London Road, London, UK Jane works at 124 London Road, London, UK\n"
     ]
    }
   ],
   "source": [
    "john = Employee(\"John\", Address(\"123 London Road\", \"London\", \"UK\"))\n",
    "print(john)\n",
    "# jane = john # this is not really a copy, because Employee is mutable...\n",
    "jane = copy.deepcopy(john) # Real copy\n",
    "jane.name = \"Jane\"\n",
    "jane.address.street_address = \"124 London Road\"\n",
    "print(john, jane)"
   ]
  },
  {
   "cell_type": "code",
   "execution_count": 48,
   "metadata": {},
   "outputs": [],
   "source": [
    "# To build from prototypes, we define a factory\n",
    "# which contains pre-configured templates of an object\n",
    "class EmployeeFactory:\n",
    "    # These are the prototypes which belong to the class,\n",
    "    # i.e., the same for all class objects\n",
    "    # since they are not defined in self\n",
    "    main_office_employee = Employee(\"\", Address(\"123 East Dr\", 0, \"London\"))\n",
    "    aux_office_employee = Employee(\"\", Address(\"123B East Dr\", 0, \"London\"))\n",
    "\n",
    "    @staticmethod\n",
    "    def __new_employee(proto, name, suite):\n",
    "        result = copy.deepcopy(proto)\n",
    "        result.name = name\n",
    "        result.address.suite = suite\n",
    "        return result\n",
    "\n",
    "    @staticmethod\n",
    "    def new_main_office_employee(name, suite):\n",
    "        return EmployeeFactory.__new_employee(\n",
    "            EmployeeFactory.main_office_employee,\n",
    "            name, suite\n",
    "        )\n",
    "\n",
    "    @staticmethod\n",
    "    def new_aux_office_employee(name, suite):\n",
    "        return EmployeeFactory.__new_employee(\n",
    "            EmployeeFactory.aux_office_employee,\n",
    "            name, suite\n",
    "        )"
   ]
  },
  {
   "cell_type": "code",
   "execution_count": 51,
   "metadata": {},
   "outputs": [
    {
     "name": "stdout",
     "output_type": "stream",
     "text": [
      "Jane works at 123 East Dr, 0, London\n",
      "John works at 123B East Dr, 0, London\n"
     ]
    }
   ],
   "source": [
    "john = EmployeeFactory.new_aux_office_employee(\"John\", 200)\n",
    "jane = EmployeeFactory.new_main_office_employee(\"Jane\", 200)\n",
    "print(jane)\n",
    "print(john)"
   ]
  },
  {
   "cell_type": "markdown",
   "metadata": {},
   "source": [
    "## Singleton"
   ]
  },
  {
   "cell_type": "markdown",
   "metadata": {},
   "source": [
    "The Gang of Four have expressed that if they had to drop a design pattern, that would be the *Singleton*, because it is often times a design smell.\n",
    "\n",
    "Singletons are useful for system components that usually should have one instance which should be initialized only once; so the goal of the Singleton is to prevent the user from initializing multiple instances:\n",
    "\n",
    "- Database repositories\n",
    "- Object factories\n",
    "- etc.\n",
    "\n",
    "Why do we need only one instance?\n",
    "\n",
    "- Initializers are expensive\n",
    "  - We only do it once\n",
    "  - We provide everyone with the same instance\n",
    "- We want to prevent anyone creating additional copies\n",
    "- We need to take care of lazy instantiation: Usually, we initialize the Singleton whe it is needed, i.e., we don't initialize it preventitively."
   ]
  },
  {
   "cell_type": "markdown",
   "metadata": {},
   "source": []
  }
 ],
 "metadata": {
  "kernelspec": {
   "display_name": "Python 3",
   "language": "python",
   "name": "python3"
  },
  "language_info": {
   "codemirror_mode": {
    "name": "ipython",
    "version": 3
   },
   "file_extension": ".py",
   "mimetype": "text/x-python",
   "name": "python",
   "nbconvert_exporter": "python",
   "pygments_lexer": "ipython3",
   "version": "3.8.16"
  }
 },
 "nbformat": 4,
 "nbformat_minor": 2
}
