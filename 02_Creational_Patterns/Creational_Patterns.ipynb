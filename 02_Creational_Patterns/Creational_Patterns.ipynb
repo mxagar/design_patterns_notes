{
 "cells": [
  {
   "cell_type": "markdown",
   "metadata": {},
   "source": [
    "# Creational Patterns"
   ]
  },
  {
   "cell_type": "markdown",
   "metadata": {},
   "source": [
    "Creational patterns deal with the creation/construction of objects:\n",
    "\n",
    "- The creation can be explicit (e.g., via constructors) of implicit (e.g., dependency injection, reflection, etc.).\n",
    "- The creation can be wholesale (single statement creates the object) or piecewise, i.e., it is done step-by-step in a more complicated process.\n",
    "\n",
    "Table of contents:\n",
    "\n",
    "- [Builder](#Builder)\n",
    "- [Factories](#Factories)\n",
    "- [Prototype](#Prototype)\n",
    "- [Singleton](#Singleton)"
   ]
  },
  {
   "cell_type": "markdown",
   "metadata": {},
   "source": [
    "## Builder"
   ]
  },
  {
   "cell_type": "markdown",
   "metadata": {},
   "source": [
    "Sometimes objects are easy to create and they are built witha single initializer call. However, in some other cases creating an object is more complicated\n",
    "\n",
    "- it requires several steps\n",
    "- or it dozens of parameters are involved\n",
    "- or a piecewise construction is required.\n",
    "\n",
    "The **Builder** provides an API for constructing an object step-by-step: when piecewise object construction is complicated, it provides an API for doing it succinctly."
   ]
  },
  {
   "cell_type": "markdown",
   "metadata": {},
   "source": [
    "### Example: HTML Builder"
   ]
  },
  {
   "cell_type": "code",
   "execution_count": 1,
   "metadata": {},
   "outputs": [
    {
     "name": "stdout",
     "output_type": "stream",
     "text": [
      "<p>hello</p>\n"
     ]
    }
   ],
   "source": [
    "# If we want to build a simple HTML paragraph using a list\n",
    "hello = 'hello'\n",
    "parts = ['<p>', hello, '</p>']\n",
    "print(''.join(parts))"
   ]
  },
  {
   "cell_type": "code",
   "execution_count": 2,
   "metadata": {},
   "outputs": [
    {
     "name": "stdout",
     "output_type": "stream",
     "text": [
      "<ul>\n",
      "  <li>hello</li>\n",
      "  <li>world</li>\n",
      "</ul>\n"
     ]
    }
   ],
   "source": [
    "# Now I want an HTML list with 2 words in it\n",
    "words = ['hello', 'world']\n",
    "parts = ['<ul>']\n",
    "for w in words:\n",
    "    parts.append(f'  <li>{w}</li>')\n",
    "parts.append('</ul>')\n",
    "print('\\n'.join(parts))"
   ]
  },
  {
   "cell_type": "markdown",
   "metadata": {},
   "source": [
    "We see that the complexity explodes as we start having rich HTML pages with different components. Solution, we define classes that carry out the building task together: `HtmlElement` and `HtmlBuilder`."
   ]
  },
  {
   "cell_type": "code",
   "execution_count": 1,
   "metadata": {},
   "outputs": [],
   "source": [
    "class HtmlElement:\n",
    "    indent_size = 2\n",
    "\n",
    "    def __init__(self, name=\"\", text=\"\"):\n",
    "        self.name = name # div, p, etc.\n",
    "        self.text = text\n",
    "        self.elements = [] # we will populate this list\n",
    "\n",
    "    def __str(self, indent):\n",
    "        \"\"\"This function recursively calls itself to produce\n",
    "        the HTML page text:\n",
    "        \n",
    "        <{name}>\n",
    "        {text}\n",
    "            <{name}>\n",
    "            {text}\n",
    "                <{name}>\n",
    "                {text}\n",
    "                    ...\n",
    "                </{name}>                \n",
    "            </{name}>\n",
    "        </{name}>\n",
    "        \"\"\"\n",
    "        lines = []\n",
    "        i = ' ' * (indent * self.indent_size)\n",
    "        lines.append(f'{i}<{self.name}>')\n",
    "\n",
    "        if self.text:\n",
    "            i1 = ' ' * ((indent + 1) * self.indent_size)\n",
    "            lines.append(f'{i1}{self.text}')\n",
    "\n",
    "        for e in self.elements:\n",
    "            # ATTENTION: recursive call with updated indentation\n",
    "            lines.append(e.__str(indent + 1))\n",
    "\n",
    "        lines.append(f'{i}</{self.name}>')\n",
    "        return '\\n'.join(lines)\n",
    "\n",
    "    def __str__(self):\n",
    "        # The goal is to print the HTML element\n",
    "        # but for that we need the correct indentation.\n",
    "        # To that end, we call an internal __str()\n",
    "        # which takes the correct indentation\n",
    "        return self.__str(0)\n",
    "\n",
    "    # This is added at the end, as an add on.\n",
    "    # In some way this is breaking the Open-Close principle\n",
    "    # and it seems a circular dependency injection.\n",
    "    # However, it allows to give us an alternative to just use\n",
    "    # HtmlElement only, i.e., the user interacts only with\n",
    "    # HtmlElement and not HtmlBuilder.\n",
    "    # Keep in mind that HtmlBuilder is used behind the scenes all the time\n",
    "    # but the user would have to invoke it only in the beginning.\n",
    "    # Alternative solution: use a factory, shown later. \n",
    "    @staticmethod\n",
    "    def create(name):\n",
    "        return HtmlBuilder(name)"
   ]
  },
  {
   "cell_type": "code",
   "execution_count": 7,
   "metadata": {},
   "outputs": [],
   "source": [
    "class HtmlBuilder:\n",
    "    #__root = HtmlElement()\n",
    "\n",
    "    def __init__(self, root_name):\n",
    "        self.__root = HtmlElement()\n",
    "        self.root_name = root_name\n",
    "        self.__root.name = root_name\n",
    "\n",
    "    # Building API: ordinary, not fluent\n",
    "    def add_child(self, child_name, child_text):\n",
    "        self.__root.elements.append(\n",
    "            HtmlElement(child_name, child_text)\n",
    "        )\n",
    "\n",
    "    # Building API: fluent\n",
    "    # A fluent API allows to chain calls one after another:\n",
    "    # builder.add_child_fluent(...).add_child_fluent(...)\n",
    "    def add_child_fluent(self, child_name, child_text):\n",
    "        self.__root.elements.append(\n",
    "            HtmlElement(child_name, child_text)\n",
    "        )\n",
    "        # Fluent APIs are created by returning self\n",
    "        return self\n",
    "\n",
    "    def clear(self):\n",
    "        self.__root = HtmlElement(name=self.root_name)\n",
    "\n",
    "    def __str__(self):\n",
    "        return str(self.__root)"
   ]
  },
  {
   "cell_type": "code",
   "execution_count": 11,
   "metadata": {},
   "outputs": [
    {
     "name": "stdout",
     "output_type": "stream",
     "text": [
      "Ordinary builder:\n",
      "<ul>\n",
      "  <li>\n",
      "    hello\n",
      "  </li>\n",
      "  <li>\n",
      "    world\n",
      "  </li>\n",
      "</ul>\n"
     ]
    }
   ],
   "source": [
    "# Ordinary non-fluent builder\n",
    "#builder = HtmlBuilder('ul')\n",
    "builder = HtmlElement.create('ul')\n",
    "builder.add_child('li', 'hello')\n",
    "builder.add_child('li', 'world')\n",
    "print('Ordinary builder:')\n",
    "print(builder)"
   ]
  },
  {
   "cell_type": "code",
   "execution_count": 12,
   "metadata": {},
   "outputs": [
    {
     "name": "stdout",
     "output_type": "stream",
     "text": [
      "Fluent builder:\n",
      "<ul>\n",
      "  <li>\n",
      "    hello\n",
      "  </li>\n",
      "  <li>\n",
      "    world\n",
      "  </li>\n",
      "</ul>\n"
     ]
    }
   ],
   "source": [
    "# Fluent builder\n",
    "builder.clear()\n",
    "(builder\n",
    "    .add_child_fluent('li', 'hello')\n",
    "    .add_child_fluent('li', 'world')\n",
    ")\n",
    "print('Fluent builder:')\n",
    "print(builder)"
   ]
  },
  {
   "cell_type": "code",
   "execution_count": 16,
   "metadata": {},
   "outputs": [
    {
     "name": "stdout",
     "output_type": "stream",
     "text": [
      "<ul>\n",
      "  <li>\n",
      "    hello\n",
      "  </li>\n",
      "  <li>\n",
      "    world\n",
      "  </li>\n",
      "</ul>\n"
     ]
    }
   ],
   "source": [
    "# This alternative would allow us to remove the static method create()\n",
    "# from HtmlElement\n",
    "class HtmlElementFactory:\n",
    "    @staticmethod\n",
    "    def create(name):\n",
    "        return HtmlBuilder(name)\n",
    "\n",
    "# Usage\n",
    "builder = HtmlElementFactory.create('ul')\n",
    "builder.add_child_fluent('li', 'hello').add_child_fluent('li', 'world')\n",
    "print(builder)"
   ]
  },
  {
   "cell_type": "markdown",
   "metadata": {},
   "source": [
    "### Example: Car Builder"
   ]
  },
  {
   "cell_type": "code",
   "execution_count": 14,
   "metadata": {},
   "outputs": [
    {
     "name": "stdout",
     "output_type": "stream",
     "text": [
      "Engine: V8, Wheels: Sports, GPS: Installed\n",
      "Engine: V4, Wheels: Regular, GPS: Installed\n"
     ]
    }
   ],
   "source": [
    "class Car:\n",
    "    def __init__(self):\n",
    "        self.features = []\n",
    "\n",
    "    def add_feature(self, feature):\n",
    "        self.features.append(feature)\n",
    "\n",
    "    def __str__(self):\n",
    "        return ', '.join(self.features)\n",
    "\n",
    "class CarBuilder:\n",
    "    def __init__(self):\n",
    "        self.car = Car()\n",
    "\n",
    "    def add_engine(self, engine):\n",
    "        self.car.add_feature(f\"Engine: {engine}\")\n",
    "        return self\n",
    "\n",
    "    def add_wheels(self, wheels):\n",
    "        self.car.add_feature(f\"Wheels: {wheels}\")\n",
    "        return self\n",
    "\n",
    "    def add_gps(self):\n",
    "        self.car.add_feature(\"GPS: Installed\")\n",
    "        return self\n",
    "\n",
    "    def build(self):\n",
    "        return self.car\n",
    "\n",
    "class Director:\n",
    "    def construct_sports_car(self, builder):\n",
    "        return builder.add_engine('V8').add_wheels('Sports').add_gps().build()\n",
    "\n",
    "    def construct_family_car(self, builder):\n",
    "        return builder.add_engine('V4').add_wheels('Regular').add_gps().build()\n",
    "\n",
    "# Usage\n",
    "director = Director()\n",
    "sports_car_builder = CarBuilder()\n",
    "family_car_builder = CarBuilder()\n",
    "\n",
    "sports_car = director.construct_sports_car(sports_car_builder)\n",
    "family_car = director.construct_family_car(family_car_builder)\n",
    "\n",
    "print(sports_car)  # Engine: V8, Wheels: Sports, GPS: Installed\n",
    "print(family_car)  # Engine: V4, Wheels: Regular, GPS: Installed\n"
   ]
  },
  {
   "cell_type": "markdown",
   "metadata": {},
   "source": [
    "### Example: Person Builder"
   ]
  },
  {
   "cell_type": "markdown",
   "metadata": {},
   "source": []
  }
 ],
 "metadata": {
  "kernelspec": {
   "display_name": "Python 3",
   "language": "python",
   "name": "python3"
  },
  "language_info": {
   "codemirror_mode": {
    "name": "ipython",
    "version": 3
   },
   "file_extension": ".py",
   "mimetype": "text/x-python",
   "name": "python",
   "nbconvert_exporter": "python",
   "pygments_lexer": "ipython3",
   "version": "3.8.16"
  }
 },
 "nbformat": 4,
 "nbformat_minor": 2
}
