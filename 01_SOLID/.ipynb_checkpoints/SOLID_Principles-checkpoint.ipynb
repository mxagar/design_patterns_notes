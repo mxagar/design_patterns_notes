{
 "cells": [
  {
   "cell_type": "markdown",
   "id": "145f062c-b336-416c-8553-40b034d8a6c4",
   "metadata": {},
   "source": [
    "# SOLID Principles"
   ]
  },
  {
   "cell_type": "code",
   "execution_count": null,
   "id": "1c622a22-d387-49b0-9776-da75985e81ef",
   "metadata": {},
   "outputs": [],
   "source": []
  }
 ],
 "metadata": {
  "kernelspec": {
   "display_name": "Python 3 (ipykernel)",
   "language": "python",
   "name": "python3"
  },
  "language_info": {
   "codemirror_mode": {
    "name": "ipython",
    "version": 3
   },
   "file_extension": ".py",
   "mimetype": "text/x-python",
   "name": "python",
   "nbconvert_exporter": "python",
   "pygments_lexer": "ipython3",
   "version": "3.7.13"
  }
 },
 "nbformat": 4,
 "nbformat_minor": 5
}
